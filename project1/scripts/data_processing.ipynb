{
 "cells": [
  {
   "cell_type": "code",
   "execution_count": 17,
   "metadata": {
    "ExecuteTime": {
     "end_time": "2020-10-23T19:00:11.417599Z",
     "start_time": "2020-10-23T19:00:11.358746Z"
    }
   },
   "outputs": [
    {
     "name": "stdout",
     "output_type": "stream",
     "text": [
      "The autoreload extension is already loaded. To reload it, use:\n",
      "  %reload_ext autoreload\n"
     ]
    }
   ],
   "source": [
    "%matplotlib inline\n",
    "import numpy as np\n",
    "import matplotlib.pyplot as plt\n",
    "import seaborn as sns\n",
    "%load_ext autoreload\n",
    "%autoreload 2"
   ]
  },
  {
   "cell_type": "code",
   "execution_count": 18,
   "metadata": {
    "ExecuteTime": {
     "end_time": "2020-10-23T19:00:18.914671Z",
     "start_time": "2020-10-23T19:00:12.130283Z"
    }
   },
   "outputs": [],
   "source": [
    "from proj1_helpers import *\n",
    "DATA_TRAIN_PATH = '../data/train.csv'\n",
    "y, tX, ids = load_csv_data(DATA_TRAIN_PATH)"
   ]
  },
  {
   "cell_type": "code",
   "execution_count": 19,
   "metadata": {
    "ExecuteTime": {
     "end_time": "2020-10-23T19:00:18.971724Z",
     "start_time": "2020-10-23T19:00:18.916369Z"
    }
   },
   "outputs": [
    {
     "name": "stdout",
     "output_type": "stream",
     "text": [
      "(250000,) (250000, 30) (250000,)\n"
     ]
    }
   ],
   "source": [
    "print(y.shape, tX.shape,ids.shape)"
   ]
  },
  {
   "cell_type": "code",
   "execution_count": 20,
   "metadata": {
    "ExecuteTime": {
     "end_time": "2020-10-23T19:00:19.030538Z",
     "start_time": "2020-10-23T19:00:18.973689Z"
    }
   },
   "outputs": [],
   "source": [
    "def set_nan(tX):\n",
    "    \"\"\"\n",
    "    Label the -999 values as NaN\n",
    "    \"\"\"\n",
    "    tX_copy = np.copy(tX)\n",
    "    tX_copy[tX_copy == -999] = np.nan\n",
    "    return tX_copy"
   ]
  },
  {
   "cell_type": "code",
   "execution_count": 21,
   "metadata": {
    "ExecuteTime": {
     "end_time": "2020-10-23T19:00:19.089414Z",
     "start_time": "2020-10-23T19:00:19.032564Z"
    }
   },
   "outputs": [],
   "source": [
    "def remove_empty_columns(tX, threshold = 0.4):\n",
    "    \"\"\"\n",
    "    Remove feature columns containing more than the specified threshold proportion of NaN\n",
    "    \"\"\"\n",
    "    tX_copy = np.copy(tX)\n",
    "    #For each column compute the ratio of nan values over the number of rows\n",
    "    prop_empty_column = (np.isnan(tX_copy)).sum(axis=0) / len(tX_copy)\n",
    "    \n",
    "    column_mask = prop_empty_column < threshold\n",
    "    return tX_copy[:, column_mask]"
   ]
  },
  {
   "cell_type": "code",
   "execution_count": 22,
   "metadata": {
    "ExecuteTime": {
     "end_time": "2020-10-23T19:00:19.146226Z",
     "start_time": "2020-10-23T19:00:19.090384Z"
    }
   },
   "outputs": [],
   "source": [
    "def copy_data(y, tX, ids):\n",
    "    return np.copy(y), np.copy(tX) , np.copy(ids)"
   ]
  },
  {
   "cell_type": "code",
   "execution_count": 23,
   "metadata": {
    "ExecuteTime": {
     "end_time": "2020-10-23T19:00:19.205126Z",
     "start_time": "2020-10-23T19:00:19.147248Z"
    }
   },
   "outputs": [],
   "source": [
    "def filter_nan(y, tX, ids, remove=True, replace_val=0):\n",
    "    \"\"\"\n",
    "    Filter the nan (-999) values, by either removing the rows or replacing by the specified replace_val.\n",
    "    \"\"\"   \n",
    "    y_copy, tX_copy, ids_copy = copy_data(y, tX, ids)\n",
    "    mask = np.isnan(tX_copy)# True if Nan, False otherwise\n",
    "    \n",
    "    if remove:\n",
    "        # Remove the rows containing any NaN\n",
    "        row_mask = ~mask.any(axis=1) # sets to False any rows containing NaN\n",
    "        tX_copy, y_copy, ids_copy = tX_copy[row_mask], y_copy[row_mask], ids_copy[row_mask]\n",
    "    else:\n",
    "        #Replace NaN values by replace_val\n",
    "        tX_copy[mask] = replace_val\n",
    "        \n",
    "    return y_copy, tX_copy, ids_copy"
   ]
  },
  {
   "cell_type": "code",
   "execution_count": 31,
   "metadata": {
    "ExecuteTime": {
     "end_time": "2020-10-23T19:01:33.829189Z",
     "start_time": "2020-10-23T19:01:33.765152Z"
    }
   },
   "outputs": [],
   "source": [
    "def remove_outliers(y, tX, ids):\n",
    "    \"\"\"\n",
    "    Remove outliers feature points using Interquartile range.\n",
    "    \"\"\"\n",
    "    print(\"\"\"TODO: only remove outliers when max - min > threshold like 10\n",
    "    Doubt with DER_deltar_tau_lep and PRI_jet_all_pt\"\"\")\n",
    "    y_copy, tX_copy, ids_copy = copy_data(y, tX, ids)\n",
    "    # Compute first and third quartiles and the Interquartile range\n",
    "    Q1 = np.percentile(tX_copy, 25, axis=0) \n",
    "    Q3 = np.percentile(tX_copy, 75, axis=0)\n",
    "    IQR = Q3 - Q1\n",
    "    mask = (tX_copy >= Q1 - 1.5 * IQR) & (tX_copy <= Q3 + 1.5 * IQR) # set to False any entry outside the interquartile range\n",
    "\n",
    "    threshold_range = 10\n",
    "    col_mask = (tX.max(axis=0) - tX.min(axis=0)) < threshold_range #set to False any feature with range bigger than threshold\n",
    "    mask = mask | col_mask\n",
    "    row_mask = mask.all(axis=1) #sets to False rows containing any outliers    \n",
    "    \n",
    "    return y_copy[row_mask], tX_copy[row_mask], ids_copy[row_mask]"
   ]
  },
  {
   "cell_type": "code",
   "execution_count": 25,
   "metadata": {
    "ExecuteTime": {
     "end_time": "2020-10-23T19:00:19.319789Z",
     "start_time": "2020-10-23T19:00:19.264909Z"
    }
   },
   "outputs": [],
   "source": [
    "def noncategorical_columns(tX):\n",
    "    \"\"\"\n",
    "    Computes the columns with more that 10 unique values\n",
    "    \"\"\"\n",
    "     # count the number of unique values\n",
    "    nunique_col = (np.diff(np.sort(tX, axis=0), axis=0) != 0).sum(axis=0) + 1 \n",
    "    noncategorical_col = nunique_col > 10 #set to True columns with more than 10 unique elements\n",
    "    return noncategorical_col"
   ]
  },
  {
   "cell_type": "code",
   "execution_count": 26,
   "metadata": {
    "ExecuteTime": {
     "end_time": "2020-10-23T19:00:19.378639Z",
     "start_time": "2020-10-23T19:00:19.320759Z"
    }
   },
   "outputs": [],
   "source": [
    "def scale(tX, method=\"standard\"):\n",
    "    \"\"\"\n",
    "    Scale noncategorical features using the specified method. Possible methods: standard, min-max\n",
    "    \"\"\"\n",
    "    tX_copy = np.copy(tX)\n",
    "    noncategorical_col = noncategorical_columns(tX_copy)\n",
    "    tX_noncat = tX_copy[:,noncategorical_col]\n",
    "    \n",
    "    if method == \"standard\": \n",
    "        #Standardize the data\n",
    "        tX_copy[:,noncategorical_col] = (tX_noncat - tX_noncat.mean(axis=0)) / tX_noncat.std(axis=0) \n",
    "    else:\n",
    "        #Apply a min-max normalization to scale data between 0 and 1\n",
    "        col_min = tX_noncat.min(axis=0)\n",
    "        col_max = tX_noncat.max(axis=0)\n",
    "        tX_copy[:,noncategorical_col] = (tX_noncat - col_min) / (col_max - col_min)\n",
    "    return tX_copy"
   ]
  },
  {
   "cell_type": "code",
   "execution_count": 27,
   "metadata": {
    "ExecuteTime": {
     "end_time": "2020-10-23T19:00:19.439475Z",
     "start_time": "2020-10-23T19:00:19.379603Z"
    }
   },
   "outputs": [],
   "source": [
    "def remove_correlated_features(tX, threshold=0.9):\n",
    "    \"\"\"\n",
    "    Compute the correlations between each feature and remove features that have a correlation greater\n",
    "    than the specified threshold\n",
    "    \"\"\"\n",
    "    tX_copy = np.copy(tX)\n",
    "    noncategorical_col = noncategorical_columns(tX_copy)\n",
    "    cat_idx = np.where(~noncategorical_col)[0] # index of non categorical features\n",
    "    tX_noncat = tX_copy[:,noncategorical_col]\n",
    "    \n",
    "    corr_matrix = np.corrcoef(tX_noncat, rowvar=False)\n",
    "    \n",
    "    #set to False highly correlated columns\n",
    "    nb_col = len(corr_matrix)\n",
    "    columns = np.full((nb_col,), True, dtype=bool)\n",
    "    for i in range(nb_col):\n",
    "        for j in range(i+1, nb_col):\n",
    "            if corr_matrix[i,j] >= threshold:\n",
    "                if columns[i]:\n",
    "                    columns[j] = False\n",
    "     \n",
    "    #remove correlated features and concat categorical features\n",
    "    return np.c_[tX_noncat[:,columns],tX_copy[:,cat_idx]]"
   ]
  },
  {
   "cell_type": "code",
   "execution_count": 28,
   "metadata": {
    "ExecuteTime": {
     "end_time": "2020-10-23T19:00:19.496322Z",
     "start_time": "2020-10-23T19:00:19.440475Z"
    }
   },
   "outputs": [],
   "source": [
    "def remove_pri_colums(tX):\n",
    "    pass\n",
    "\n",
    "def remove_der_columns(tX):\n",
    "    pass"
   ]
  },
  {
   "cell_type": "code",
   "execution_count": 29,
   "metadata": {
    "ExecuteTime": {
     "end_time": "2020-10-23T19:00:19.556167Z",
     "start_time": "2020-10-23T19:00:19.498286Z"
    }
   },
   "outputs": [],
   "source": [
    "def pipeline(y, tX, ids):\n",
    "    tX_nan = set_nan(tX)\n",
    "    tX_columns = remove_empty_columns(tX_nan)\n",
    "    y_filtered, tX_filtered, ids_filtered = filter_nan(y, tX_columns, ids)\n",
    "    y_outliers, tX_outliers, ids_outliers = remove_outliers(y_filtered, tX_filtered, ids_filtered)\n",
    "    tX_scale = scale(tX_outliers, method=\"standard\")\n",
    "    print(tX_scale.shape)\n",
    "    y_outliers, tX_scale, ids_outliers = remove_outliers(y_filtered, tX_scale, ids_filtered)\n",
    "    print(tX_scale.shape)\n",
    "    tX_corr = remove_correlated_features(tX_scale, threshold=0.9)\n",
    "    return tX_corr"
   ]
  },
  {
   "cell_type": "code",
   "execution_count": 32,
   "metadata": {
    "ExecuteTime": {
     "end_time": "2020-10-23T19:01:39.973890Z",
     "start_time": "2020-10-23T19:01:38.995130Z"
    }
   },
   "outputs": [
    {
     "name": "stdout",
     "output_type": "stream",
     "text": [
      "TODO: only remove outliers when max - min > threshold like 10\n",
      "    Doubt with DER_deltar_tau_lep and PRI_jet_all_pt\n",
      "(102773, 23)\n",
      "TODO: only remove outliers when max - min > threshold like 10\n",
      "    Doubt with DER_deltar_tau_lep and PRI_jet_all_pt\n"
     ]
    },
    {
     "ename": "IndexError",
     "evalue": "boolean index did not match indexed array along dimension 0; dimension is 138096 but corresponding boolean dimension is 102773",
     "output_type": "error",
     "traceback": [
      "\u001b[1;31m---------------------------------------------------------------------------\u001b[0m",
      "\u001b[1;31mIndexError\u001b[0m                                Traceback (most recent call last)",
      "\u001b[1;32m<ipython-input-32-279a7a9d200b>\u001b[0m in \u001b[0;36m<module>\u001b[1;34m\u001b[0m\n\u001b[1;32m----> 1\u001b[1;33m \u001b[0mpipeline\u001b[0m\u001b[1;33m(\u001b[0m\u001b[0my\u001b[0m\u001b[1;33m,\u001b[0m \u001b[0mtX\u001b[0m\u001b[1;33m,\u001b[0m \u001b[0mids\u001b[0m\u001b[1;33m)\u001b[0m\u001b[1;33m\u001b[0m\u001b[1;33m\u001b[0m\u001b[0m\n\u001b[0m",
      "\u001b[1;32m<ipython-input-29-4e2a37e3c5c5>\u001b[0m in \u001b[0;36mpipeline\u001b[1;34m(y, tX, ids)\u001b[0m\n\u001b[0;32m      6\u001b[0m     \u001b[0mtX_scale\u001b[0m \u001b[1;33m=\u001b[0m \u001b[0mscale\u001b[0m\u001b[1;33m(\u001b[0m\u001b[0mtX_outliers\u001b[0m\u001b[1;33m,\u001b[0m \u001b[0mmethod\u001b[0m\u001b[1;33m=\u001b[0m\u001b[1;34m\"standard\"\u001b[0m\u001b[1;33m)\u001b[0m\u001b[1;33m\u001b[0m\u001b[1;33m\u001b[0m\u001b[0m\n\u001b[0;32m      7\u001b[0m     \u001b[0mprint\u001b[0m\u001b[1;33m(\u001b[0m\u001b[0mtX_scale\u001b[0m\u001b[1;33m.\u001b[0m\u001b[0mshape\u001b[0m\u001b[1;33m)\u001b[0m\u001b[1;33m\u001b[0m\u001b[1;33m\u001b[0m\u001b[0m\n\u001b[1;32m----> 8\u001b[1;33m     \u001b[0my_outliers\u001b[0m\u001b[1;33m,\u001b[0m \u001b[0mtX_scale\u001b[0m\u001b[1;33m,\u001b[0m \u001b[0mids_outliers\u001b[0m \u001b[1;33m=\u001b[0m \u001b[0mremove_outliers\u001b[0m\u001b[1;33m(\u001b[0m\u001b[0my_filtered\u001b[0m\u001b[1;33m,\u001b[0m \u001b[0mtX_scale\u001b[0m\u001b[1;33m,\u001b[0m \u001b[0mids_filtered\u001b[0m\u001b[1;33m)\u001b[0m\u001b[1;33m\u001b[0m\u001b[1;33m\u001b[0m\u001b[0m\n\u001b[0m\u001b[0;32m      9\u001b[0m     \u001b[0mprint\u001b[0m\u001b[1;33m(\u001b[0m\u001b[0mtX_scale\u001b[0m\u001b[1;33m.\u001b[0m\u001b[0mshape\u001b[0m\u001b[1;33m)\u001b[0m\u001b[1;33m\u001b[0m\u001b[1;33m\u001b[0m\u001b[0m\n\u001b[0;32m     10\u001b[0m     \u001b[0mtX_corr\u001b[0m \u001b[1;33m=\u001b[0m \u001b[0mremove_correlated_features\u001b[0m\u001b[1;33m(\u001b[0m\u001b[0mtX_scale\u001b[0m\u001b[1;33m,\u001b[0m \u001b[0mthreshold\u001b[0m\u001b[1;33m=\u001b[0m\u001b[1;36m0.9\u001b[0m\u001b[1;33m)\u001b[0m\u001b[1;33m\u001b[0m\u001b[1;33m\u001b[0m\u001b[0m\n",
      "\u001b[1;32m<ipython-input-31-2aa4bfd2e598>\u001b[0m in \u001b[0;36mremove_outliers\u001b[1;34m(y, tX, ids)\u001b[0m\n\u001b[0;32m     17\u001b[0m     \u001b[0mrow_mask\u001b[0m \u001b[1;33m=\u001b[0m \u001b[0mmask\u001b[0m\u001b[1;33m.\u001b[0m\u001b[0mall\u001b[0m\u001b[1;33m(\u001b[0m\u001b[0maxis\u001b[0m\u001b[1;33m=\u001b[0m\u001b[1;36m1\u001b[0m\u001b[1;33m)\u001b[0m \u001b[1;31m#sets to False rows containing any outliers\u001b[0m\u001b[1;33m\u001b[0m\u001b[1;33m\u001b[0m\u001b[0m\n\u001b[0;32m     18\u001b[0m \u001b[1;33m\u001b[0m\u001b[0m\n\u001b[1;32m---> 19\u001b[1;33m     \u001b[1;32mreturn\u001b[0m \u001b[0my_copy\u001b[0m\u001b[1;33m[\u001b[0m\u001b[0mrow_mask\u001b[0m\u001b[1;33m]\u001b[0m\u001b[1;33m,\u001b[0m \u001b[0mtX_copy\u001b[0m\u001b[1;33m[\u001b[0m\u001b[0mrow_mask\u001b[0m\u001b[1;33m]\u001b[0m\u001b[1;33m,\u001b[0m \u001b[0mids_copy\u001b[0m\u001b[1;33m[\u001b[0m\u001b[0mrow_mask\u001b[0m\u001b[1;33m]\u001b[0m\u001b[1;33m\u001b[0m\u001b[1;33m\u001b[0m\u001b[0m\n\u001b[0m",
      "\u001b[1;31mIndexError\u001b[0m: boolean index did not match indexed array along dimension 0; dimension is 138096 but corresponding boolean dimension is 102773"
     ]
    }
   ],
   "source": [
    "pipeline(y, tX, ids)"
   ]
  },
  {
   "cell_type": "code",
   "execution_count": null,
   "metadata": {},
   "outputs": [],
   "source": []
  }
 ],
 "metadata": {
  "kernelspec": {
   "display_name": "Python 3",
   "language": "python",
   "name": "python3"
  },
  "language_info": {
   "codemirror_mode": {
    "name": "ipython",
    "version": 3
   },
   "file_extension": ".py",
   "mimetype": "text/x-python",
   "name": "python",
   "nbconvert_exporter": "python",
   "pygments_lexer": "ipython3",
   "version": "3.8.3"
  },
  "toc": {
   "base_numbering": 1,
   "nav_menu": {},
   "number_sections": true,
   "sideBar": true,
   "skip_h1_title": false,
   "title_cell": "Table of Contents",
   "title_sidebar": "Contents",
   "toc_cell": false,
   "toc_position": {},
   "toc_section_display": true,
   "toc_window_display": false
  }
 },
 "nbformat": 4,
 "nbformat_minor": 4
}
