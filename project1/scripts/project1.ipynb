{
 "cells": [
  {
   "cell_type": "code",
   "execution_count": 1,
   "metadata": {
    "ExecuteTime": {
     "end_time": "2020-10-22T15:39:28.423851Z",
     "start_time": "2020-10-22T15:39:27.719396Z"
    }
   },
   "outputs": [],
   "source": [
    "# Useful starting lines\n",
    "%matplotlib inline\n",
    "import numpy as np\n",
    "import matplotlib.pyplot as plt\n",
    "%load_ext autoreload\n",
    "%autoreload 2"
   ]
  },
  {
   "cell_type": "code",
   "execution_count": 3,
   "metadata": {
    "ExecuteTime": {
     "end_time": "2020-10-22T15:39:28.470597Z",
     "start_time": "2020-10-22T15:39:28.431681Z"
    }
   },
   "outputs": [],
   "source": [
    "DATA_FOLDER = '../data/'\n",
    "DATA_ZIP = DATA_FOLDER + 'datasets.zip'\n",
    "\n",
    "DATA_TRAIN_PATH = DATA_FOLDER + 'train.csv'\n",
    "DATA_TEST_PATH = DATA_FOLDER + 'test.csv' "
   ]
  },
  {
   "cell_type": "markdown",
   "metadata": {},
   "source": [
    "# Load the training data"
   ]
  },
  {
   "cell_type": "code",
   "execution_count": 4,
   "metadata": {
    "ExecuteTime": {
     "end_time": "2020-10-22T16:02:55.845114Z",
     "start_time": "2020-10-22T16:02:46.108088Z"
    }
   },
   "outputs": [
    {
     "name": "stdout",
     "output_type": "stream",
     "text": [
      "TODO: only remove outliers when max - min > threshold like 10\n",
      "    Doubt with DER_deltar_tau_lep and PRI_jet_all_pt\n"
     ]
    }
   ],
   "source": [
    "from proj1_helpers import *\n",
    "from split_data import *\n",
    "from data_processing import *\n",
    "\n",
    "y, tX, ids = load_csv_data(DATA_TRAIN_PATH)\n",
    "y_clean, tX_clean, ids_clean = clean_training(y, tX, ids)"
   ]
  },
  {
   "cell_type": "markdown",
   "metadata": {},
   "source": [
    "# Creating training and vallidation sets"
   ]
  },
  {
   "cell_type": "code",
   "execution_count": 6,
   "metadata": {},
   "outputs": [],
   "source": [
    "split_ratio = 0.8\n",
    "tX_train, tX_validation, y_train, y_validation = split_data(tX, y, split_ratio)\n",
    "tX_train_clean, tX_validation_clean, y_train_clean, y_validation_clean = split_data(tX_clean, y_clean, split_ratio)"
   ]
  },
  {
   "cell_type": "code",
   "execution_count": 7,
   "metadata": {
    "ExecuteTime": {
     "end_time": "2020-10-22T16:02:55.886036Z",
     "start_time": "2020-10-22T16:02:55.848434Z"
    }
   },
   "outputs": [
    {
     "name": "stdout",
     "output_type": "stream",
     "text": [
      "Raw set : \n",
      "               Training       Validation     \n",
      "Features       (200000, 30)   (50000, 30)    \n",
      "Labels         (200000,)      (50000,)       \n",
      "\n",
      "Clean set : \n",
      "               Training       Validation     \n",
      "Features       (122946, 30)   (30736, 30)    \n",
      "Labels         (122946,)      (30736,)       \n"
     ]
    }
   ],
   "source": [
    "print(\"Raw set : \")\n",
    "row_format = \"{:<15}\" * 3\n",
    "print(row_format.format(\"\", \"Training\", \"Validation\"))\n",
    "print(row_format.format(\"Features\", str(tX_train.shape), str(tX_validation.shape)))\n",
    "print(row_format.format(\"Labels\", str(y_train.shape), str(y_validation.shape)))\n",
    "\n",
    "print(\"\\nClean set : \")\n",
    "row_format = \"{:<15}\" * 3\n",
    "print(row_format.format(\"\", \"Training\", \"Validation\"))\n",
    "print(row_format.format(\"Features\", str(tX_train_clean.shape), str(tX_validation_clean.shape)))\n",
    "print(row_format.format(\"Labels\", str(y_train_clean.shape), str(y_validation_clean.shape)))"
   ]
  },
  {
   "cell_type": "markdown",
   "metadata": {},
   "source": [
    "# Testing every basic model on cleaned data"
   ]
  },
  {
   "cell_type": "code",
   "execution_count": 8,
   "metadata": {
    "ExecuteTime": {
     "end_time": "2020-10-22T16:02:58.315618Z",
     "start_time": "2020-10-22T16:02:58.287537Z"
    }
   },
   "outputs": [],
   "source": [
    "from pipeline import *"
   ]
  },
  {
   "cell_type": "markdown",
   "metadata": {},
   "source": [
    "### (Stochastic) Gradient Descent"
   ]
  },
  {
   "cell_type": "code",
   "execution_count": 9,
   "metadata": {
    "ExecuteTime": {
     "end_time": "2020-10-22T16:03:03.592025Z",
     "start_time": "2020-10-22T16:02:59.440172Z"
    }
   },
   "outputs": [
    {
     "name": "stdout",
     "output_type": "stream",
     "text": [
      "GD Training loss : 0.3670286331698683\n",
      "GD Validation loss : 0.3701468284317891\n",
      "SGD Training loss : 0.38942837221859905\n",
      "SGD Validation loss : 0.37118899071428557\n"
     ]
    }
   ],
   "source": [
    "max_iters = 100\n",
    "gamma = 0.01\n",
    "initial_w = np.zeros(tX_train_clean.shape[1])\n",
    "\n",
    "loss_gd, weights_gd = model_data(y_train_clean, tX_train_clean, 'gradient_descent', \n",
    "                              initial_w=initial_w, max_iters=max_iters, gamma=gamma)\n",
    "loss_sgd, weights_sgd = model_data(y_train_clean, tX_train_clean, 'stochastic_gradient_descent',\n",
    "                                                initial_w=initial_w, max_iters=max_iters, gamma=gamma)\n",
    "# Not compared with the not cleaned set, because it needs normalizing to work\n",
    "print(\"GD Training loss : {}\".format(loss_gd))\n",
    "print(\"GD Validation loss : {}\".format(get_loss(y_validation_clean, tX_validation_clean, weights_gd)))\n",
    "print(\"SGD Training loss : {}\".format(loss_sgd))\n",
    "print(\"SGD Validation loss : {}\".format(get_loss(y_validation_clean, tX_validation_clean, weights_sgd)))"
   ]
  },
  {
   "cell_type": "markdown",
   "metadata": {},
   "source": [
    "### Least Squares"
   ]
  },
  {
   "cell_type": "code",
   "execution_count": 30,
   "metadata": {
    "ExecuteTime": {
     "end_time": "2020-10-22T16:03:12.501524Z",
     "start_time": "2020-10-22T16:03:12.435448Z"
    },
    "scrolled": true
   },
   "outputs": [
    {
     "ename": "LinAlgError",
     "evalue": "Singular matrix",
     "output_type": "error",
     "traceback": [
      "\u001b[0;31m---------------------------------------------------------------------------\u001b[0m",
      "\u001b[0;31mLinAlgError\u001b[0m                               Traceback (most recent call last)",
      "\u001b[0;32m<ipython-input-30-d10ba4a9629a>\u001b[0m in \u001b[0;36m<module>\u001b[0;34m\u001b[0m\n\u001b[1;32m      1\u001b[0m \u001b[0mweights\u001b[0m\u001b[0;34m,\u001b[0m \u001b[0mt_loss\u001b[0m \u001b[0;34m=\u001b[0m \u001b[0mmodel_data\u001b[0m\u001b[0;34m(\u001b[0m\u001b[0my_train\u001b[0m\u001b[0;34m,\u001b[0m \u001b[0mtX_train\u001b[0m\u001b[0;34m,\u001b[0m \u001b[0;34m'least_squares'\u001b[0m\u001b[0;34m)\u001b[0m\u001b[0;34m\u001b[0m\u001b[0;34m\u001b[0m\u001b[0m\n\u001b[0;32m----> 2\u001b[0;31m \u001b[0mweights_clean\u001b[0m\u001b[0;34m,\u001b[0m \u001b[0mt_loss_clean\u001b[0m \u001b[0;34m=\u001b[0m \u001b[0mmodel_data\u001b[0m\u001b[0;34m(\u001b[0m\u001b[0my_train_clean\u001b[0m\u001b[0;34m,\u001b[0m \u001b[0mtX_train_clean\u001b[0m\u001b[0;34m,\u001b[0m \u001b[0;34m'least_squares'\u001b[0m\u001b[0;34m)\u001b[0m\u001b[0;34m\u001b[0m\u001b[0;34m\u001b[0m\u001b[0m\n\u001b[0m\u001b[1;32m      3\u001b[0m \u001b[0;34m\u001b[0m\u001b[0m\n\u001b[1;32m      4\u001b[0m \u001b[0mprint\u001b[0m\u001b[0;34m(\u001b[0m\u001b[0;34m\"Training loss : {}\"\u001b[0m\u001b[0;34m.\u001b[0m\u001b[0mformat\u001b[0m\u001b[0;34m(\u001b[0m\u001b[0mt_loss\u001b[0m\u001b[0;34m)\u001b[0m\u001b[0;34m)\u001b[0m\u001b[0;34m\u001b[0m\u001b[0;34m\u001b[0m\u001b[0m\n\u001b[1;32m      5\u001b[0m \u001b[0mprint\u001b[0m\u001b[0;34m(\u001b[0m\u001b[0;34m\"Validation loss : {}\"\u001b[0m\u001b[0;34m.\u001b[0m\u001b[0mformat\u001b[0m\u001b[0;34m(\u001b[0m\u001b[0mget_loss\u001b[0m\u001b[0;34m(\u001b[0m\u001b[0my_validation\u001b[0m\u001b[0;34m,\u001b[0m \u001b[0mtX_validation\u001b[0m\u001b[0;34m,\u001b[0m \u001b[0mweights\u001b[0m\u001b[0;34m)\u001b[0m\u001b[0;34m)\u001b[0m\u001b[0;34m)\u001b[0m\u001b[0;34m\u001b[0m\u001b[0;34m\u001b[0m\u001b[0m\n",
      "\u001b[0;32m~/Documents/Cours/ML/CS-433-machine-learning/project1/scripts/pipeline.py\u001b[0m in \u001b[0;36mmodel_data\u001b[0;34m(y, tx, model, initial_w, max_iters, gamma, lambda_, poly_exp)\u001b[0m\n\u001b[1;32m     35\u001b[0m         \u001b[0mw\u001b[0m\u001b[0;34m,\u001b[0m \u001b[0mloss\u001b[0m \u001b[0;34m=\u001b[0m \u001b[0mstochastic_gradient_descent\u001b[0m\u001b[0;34m(\u001b[0m\u001b[0my\u001b[0m\u001b[0;34m,\u001b[0m \u001b[0mtx\u001b[0m\u001b[0;34m,\u001b[0m \u001b[0minitial_w\u001b[0m\u001b[0;34m,\u001b[0m \u001b[0mmax_iters\u001b[0m\u001b[0;34m,\u001b[0m \u001b[0mgamma\u001b[0m\u001b[0;34m)\u001b[0m\u001b[0;34m\u001b[0m\u001b[0;34m\u001b[0m\u001b[0m\n\u001b[1;32m     36\u001b[0m     \u001b[0;32melif\u001b[0m \u001b[0mmodel\u001b[0m \u001b[0;34m==\u001b[0m \u001b[0;34m'least_squares'\u001b[0m\u001b[0;34m:\u001b[0m\u001b[0;34m\u001b[0m\u001b[0;34m\u001b[0m\u001b[0m\n\u001b[0;32m---> 37\u001b[0;31m         \u001b[0mw\u001b[0m\u001b[0;34m,\u001b[0m \u001b[0mloss\u001b[0m \u001b[0;34m=\u001b[0m \u001b[0mleast_squares\u001b[0m\u001b[0;34m(\u001b[0m\u001b[0my\u001b[0m\u001b[0;34m,\u001b[0m \u001b[0mtx\u001b[0m\u001b[0;34m)\u001b[0m\u001b[0;34m\u001b[0m\u001b[0;34m\u001b[0m\u001b[0m\n\u001b[0m\u001b[1;32m     38\u001b[0m     \u001b[0;32melif\u001b[0m \u001b[0mmodel\u001b[0m \u001b[0;34m==\u001b[0m \u001b[0;34m'ridge_regression'\u001b[0m\u001b[0;34m:\u001b[0m\u001b[0;34m\u001b[0m\u001b[0;34m\u001b[0m\u001b[0m\n\u001b[1;32m     39\u001b[0m         \u001b[0mw\u001b[0m\u001b[0;34m,\u001b[0m \u001b[0mloss\u001b[0m \u001b[0;34m=\u001b[0m \u001b[0mridge_regression\u001b[0m\u001b[0;34m(\u001b[0m\u001b[0my\u001b[0m\u001b[0;34m,\u001b[0m \u001b[0mtx\u001b[0m\u001b[0;34m,\u001b[0m \u001b[0mlambda_\u001b[0m\u001b[0;34m)\u001b[0m\u001b[0;34m\u001b[0m\u001b[0;34m\u001b[0m\u001b[0m\n",
      "\u001b[0;32m~/Documents/Cours/ML/CS-433-machine-learning/project1/scripts/least_squares.py\u001b[0m in \u001b[0;36mleast_squares\u001b[0;34m(y, tx)\u001b[0m\n\u001b[1;32m     10\u001b[0m     \"\"\"\n\u001b[1;32m     11\u001b[0m \u001b[0;34m\u001b[0m\u001b[0m\n\u001b[0;32m---> 12\u001b[0;31m     \u001b[0mw\u001b[0m \u001b[0;34m=\u001b[0m \u001b[0mnp\u001b[0m\u001b[0;34m.\u001b[0m\u001b[0mlinalg\u001b[0m\u001b[0;34m.\u001b[0m\u001b[0msolve\u001b[0m\u001b[0;34m(\u001b[0m\u001b[0mtx\u001b[0m\u001b[0;34m.\u001b[0m\u001b[0mT\u001b[0m \u001b[0;34m@\u001b[0m \u001b[0mtx\u001b[0m\u001b[0;34m,\u001b[0m \u001b[0mtx\u001b[0m\u001b[0;34m.\u001b[0m\u001b[0mT\u001b[0m \u001b[0;34m@\u001b[0m \u001b[0my\u001b[0m\u001b[0;34m)\u001b[0m\u001b[0;34m\u001b[0m\u001b[0;34m\u001b[0m\u001b[0m\n\u001b[0m\u001b[1;32m     13\u001b[0m     \u001b[0;32mreturn\u001b[0m \u001b[0mw\u001b[0m\u001b[0;34m,\u001b[0m \u001b[0mcompute_loss\u001b[0m\u001b[0;34m(\u001b[0m\u001b[0my\u001b[0m\u001b[0;34m,\u001b[0m \u001b[0mtx\u001b[0m\u001b[0;34m,\u001b[0m \u001b[0mw\u001b[0m\u001b[0;34m)\u001b[0m\u001b[0;34m\u001b[0m\u001b[0;34m\u001b[0m\u001b[0m\n",
      "\u001b[0;32m/Applications/anaconda3/lib/python3.7/site-packages/numpy/linalg/linalg.py\u001b[0m in \u001b[0;36msolve\u001b[0;34m(a, b)\u001b[0m\n\u001b[1;32m    392\u001b[0m     \u001b[0msignature\u001b[0m \u001b[0;34m=\u001b[0m \u001b[0;34m'DD->D'\u001b[0m \u001b[0;32mif\u001b[0m \u001b[0misComplexType\u001b[0m\u001b[0;34m(\u001b[0m\u001b[0mt\u001b[0m\u001b[0;34m)\u001b[0m \u001b[0;32melse\u001b[0m \u001b[0;34m'dd->d'\u001b[0m\u001b[0;34m\u001b[0m\u001b[0;34m\u001b[0m\u001b[0m\n\u001b[1;32m    393\u001b[0m     \u001b[0mextobj\u001b[0m \u001b[0;34m=\u001b[0m \u001b[0mget_linalg_error_extobj\u001b[0m\u001b[0;34m(\u001b[0m\u001b[0m_raise_linalgerror_singular\u001b[0m\u001b[0;34m)\u001b[0m\u001b[0;34m\u001b[0m\u001b[0;34m\u001b[0m\u001b[0m\n\u001b[0;32m--> 394\u001b[0;31m     \u001b[0mr\u001b[0m \u001b[0;34m=\u001b[0m \u001b[0mgufunc\u001b[0m\u001b[0;34m(\u001b[0m\u001b[0ma\u001b[0m\u001b[0;34m,\u001b[0m \u001b[0mb\u001b[0m\u001b[0;34m,\u001b[0m \u001b[0msignature\u001b[0m\u001b[0;34m=\u001b[0m\u001b[0msignature\u001b[0m\u001b[0;34m,\u001b[0m \u001b[0mextobj\u001b[0m\u001b[0;34m=\u001b[0m\u001b[0mextobj\u001b[0m\u001b[0;34m)\u001b[0m\u001b[0;34m\u001b[0m\u001b[0;34m\u001b[0m\u001b[0m\n\u001b[0m\u001b[1;32m    395\u001b[0m \u001b[0;34m\u001b[0m\u001b[0m\n\u001b[1;32m    396\u001b[0m     \u001b[0;32mreturn\u001b[0m \u001b[0mwrap\u001b[0m\u001b[0;34m(\u001b[0m\u001b[0mr\u001b[0m\u001b[0;34m.\u001b[0m\u001b[0mastype\u001b[0m\u001b[0;34m(\u001b[0m\u001b[0mresult_t\u001b[0m\u001b[0;34m,\u001b[0m \u001b[0mcopy\u001b[0m\u001b[0;34m=\u001b[0m\u001b[0;32mFalse\u001b[0m\u001b[0;34m)\u001b[0m\u001b[0;34m)\u001b[0m\u001b[0;34m\u001b[0m\u001b[0;34m\u001b[0m\u001b[0m\n",
      "\u001b[0;32m/Applications/anaconda3/lib/python3.7/site-packages/numpy/linalg/linalg.py\u001b[0m in \u001b[0;36m_raise_linalgerror_singular\u001b[0;34m(err, flag)\u001b[0m\n\u001b[1;32m     87\u001b[0m \u001b[0;34m\u001b[0m\u001b[0m\n\u001b[1;32m     88\u001b[0m \u001b[0;32mdef\u001b[0m \u001b[0m_raise_linalgerror_singular\u001b[0m\u001b[0;34m(\u001b[0m\u001b[0merr\u001b[0m\u001b[0;34m,\u001b[0m \u001b[0mflag\u001b[0m\u001b[0;34m)\u001b[0m\u001b[0;34m:\u001b[0m\u001b[0;34m\u001b[0m\u001b[0;34m\u001b[0m\u001b[0m\n\u001b[0;32m---> 89\u001b[0;31m     \u001b[0;32mraise\u001b[0m \u001b[0mLinAlgError\u001b[0m\u001b[0;34m(\u001b[0m\u001b[0;34m\"Singular matrix\"\u001b[0m\u001b[0;34m)\u001b[0m\u001b[0;34m\u001b[0m\u001b[0;34m\u001b[0m\u001b[0m\n\u001b[0m\u001b[1;32m     90\u001b[0m \u001b[0;34m\u001b[0m\u001b[0m\n\u001b[1;32m     91\u001b[0m \u001b[0;32mdef\u001b[0m \u001b[0m_raise_linalgerror_nonposdef\u001b[0m\u001b[0;34m(\u001b[0m\u001b[0merr\u001b[0m\u001b[0;34m,\u001b[0m \u001b[0mflag\u001b[0m\u001b[0;34m)\u001b[0m\u001b[0;34m:\u001b[0m\u001b[0;34m\u001b[0m\u001b[0;34m\u001b[0m\u001b[0m\n",
      "\u001b[0;31mLinAlgError\u001b[0m: Singular matrix"
     ]
    }
   ],
   "source": [
    "weights, t_loss = model_data(y_train, tX_train, 'least_squares')\n",
    "weights_clean, t_loss_clean = model_data(y_train_clean, tX_train_clean, 'least_squares')\n",
    "\n",
    "print(\"Training loss : {}\".format(t_loss))\n",
    "print(\"Validation loss : {}\".format(get_loss(y_validation, tX_validation, weights)))\n",
    "print(\"Clean Training loss : {}\".format(t_loss_clean))\n",
    "print(\"Clean Validation loss : {}\".format(get_loss(y_validation_clean, tX_validation_clean, weights_clean)))"
   ]
  },
  {
   "cell_type": "markdown",
   "metadata": {},
   "source": [
    "### Ridge Regression"
   ]
  },
  {
   "cell_type": "code",
   "execution_count": 33,
   "metadata": {
    "ExecuteTime": {
     "end_time": "2020-10-22T16:03:53.965321Z",
     "start_time": "2020-10-22T16:03:53.903063Z"
    }
   },
   "outputs": [
    {
     "name": "stdout",
     "output_type": "stream",
     "text": [
      "Training loss : 0.3394307923454777\n",
      "Validation loss : 0.340752914694699\n",
      "Clean Training loss : 0.3160824486682263\n",
      "Clean Validation loss : 0.31660876070532173\n"
     ]
    }
   ],
   "source": [
    "lambda_ = 1\n",
    "\n",
    "weights, t_loss = model_data(y_train, tX_train, 'ridge_regression')\n",
    "weights_clean, t_loss_clean = model_data(y_train_clean, tX_train_clean, 'ridge_regression')\n",
    "\n",
    "print(\"Training loss : {}\".format(t_loss))\n",
    "print(\"Validation loss : {}\".format(get_loss(y_validation, tX_validation, weights)))\n",
    "print(\"Clean Training loss : {}\".format(t_loss_clean))\n",
    "print(\"Clean Validation loss : {}\".format(get_loss(y_validation_clean, tX_validation_clean, weights_clean)))"
   ]
  },
  {
   "cell_type": "markdown",
   "metadata": {},
   "source": [
    "### (Penalized) Logistic Regression"
   ]
  },
  {
   "cell_type": "code",
   "execution_count": 32,
   "metadata": {
    "ExecuteTime": {
     "end_time": "2020-10-22T16:03:48.883810Z",
     "start_time": "2020-10-22T16:03:26.337126Z"
    }
   },
   "outputs": [
    {
     "name": "stdout",
     "output_type": "stream",
     "text": [
      "Training loss : 0.49257246299299384\n",
      "Validation loss : 0.4933662181455044\n",
      "Penalized Training loss : 0.5809898625001401\n",
      "Penalized Validation loss : 0.5350475857372223\n"
     ]
    }
   ],
   "source": [
    "max_iters = 500\n",
    "gamma = 0.05\n",
    "lambda_ = 0.1\n",
    "\n",
    "weights_log, loss_log = model_data(y_train_clean, tX_train_clean, 'logistic_regression', \n",
    "                                   max_iters=max_iters, gamma=gamma) \n",
    "weights_p_log, loss_p_log = model_data(y_train_clean, tX_train_clean, 'regularized_logistic_regression', \n",
    "                                   max_iters=max_iters, gamma=gamma, lambda_=lambda_) \n",
    "\n",
    "\n",
    "print(\"Training loss : {}\".format(loss_log))\n",
    "print(\"Validation loss : {}\".format(get_log_likelihood(y_validation_clean, tX_validation_clean, weights_log)))\n",
    "print(\"Penalized Training loss : {}\".format(loss_p_log))\n",
    "print(\"Penalized Validation loss : {}\".format(get_log_likelihood(y_validation_clean, tX_validation_clean, weights_p_log)))"
   ]
  },
  {
   "cell_type": "markdown",
   "metadata": {},
   "source": [
    "## Generate predictions and save ouput in csv format for submission:"
   ]
  },
  {
   "cell_type": "code",
   "execution_count": 112,
   "metadata": {
    "ExecuteTime": {
     "end_time": "2020-10-19T18:14:30.576758Z",
     "start_time": "2020-10-19T18:14:07.765805Z"
    }
   },
   "outputs": [
    {
     "name": "stdout",
     "output_type": "stream",
     "text": [
      "[-1. -1.  1. ...  1.  1.  1.]\n"
     ]
    }
   ],
   "source": [
    "#This enable to run all cells without running this one when unnecessary\n",
    "if False :\n",
    "    y_test, tX_test, ids_test = load_csv_data(DATA_TEST_PATH)\n",
    "    y_test_clean, tX_test_clean, ids_test_clean = clean_test(y_test, tX_test, ids_test)\n",
    "    OUTPUT_PATH = DATA_FOLDER + 'submission.csv' \n",
    "    if True: ## Only for logistic regression, will de something nice later\n",
    "        y_pred = predict_labels_logistic(weights_clean, tX_test_clean_poly)\n",
    "    else:\n",
    "        y_pred = predict_labels(weights_clean, tX_test_clean)\n",
    "    print(y_pred)\n",
    "    create_csv_submission(ids_test_clean, y_pred, OUTPUT_PATH)\n",
    "else :\n",
    "    print(\"Change False to True to generate prediction\")"
   ]
  },
  {
   "cell_type": "code",
   "execution_count": 19,
   "metadata": {},
   "outputs": [
    {
     "name": "stdout",
     "output_type": "stream",
     "text": [
      "[[4 1]\n",
      " [5 0]\n",
      " [7 2]\n",
      " [3 6]]\n"
     ]
    }
   ],
   "source": [
    "lambda_ = 1\n",
    "\n",
    "weights, t_loss = model_data(y_train, tX_train, 'ridge_regression')\n",
    "weights_clean, t_loss_clean = model_data(y_train_clean, tX_train_clean, 'ridge_regression')\n",
    "\n",
    "print(\"Training loss : {}\".format(t_loss))\n",
    "print(\"Validation loss : {}\".format(get_loss(y_validation, tX_validation, weights)))\n",
    "print(\"Clean Training loss : {}\".format(t_loss_clean))\n",
    "print(\"Clean Validation loss : {}\".format(get_loss(y_validation_clean, tX_validation_clean, weights_clean)))"
   ]
  },
  {
   "cell_type": "code",
   "execution_count": null,
   "metadata": {},
   "outputs": [],
   "source": []
  },
  {
   "cell_type": "code",
   "execution_count": null,
   "metadata": {},
   "outputs": [],
   "source": []
  }
 ],
 "metadata": {
  "anaconda-cloud": {},
  "kernelspec": {
   "display_name": "Python 3",
   "language": "python",
   "name": "python3"
  },
  "language_info": {
   "codemirror_mode": {
    "name": "ipython",
    "version": 3
   },
   "file_extension": ".py",
   "mimetype": "text/x-python",
   "name": "python",
   "nbconvert_exporter": "python",
   "pygments_lexer": "ipython3",
   "version": "3.8.2"
  },
  "toc": {
   "base_numbering": 1,
   "nav_menu": {},
   "number_sections": true,
   "sideBar": true,
   "skip_h1_title": false,
   "title_cell": "Table of Contents",
   "title_sidebar": "Contents",
   "toc_cell": false,
   "toc_position": {},
   "toc_section_display": true,
   "toc_window_display": false
  }
 },
 "nbformat": 4,
 "nbformat_minor": 4
}
