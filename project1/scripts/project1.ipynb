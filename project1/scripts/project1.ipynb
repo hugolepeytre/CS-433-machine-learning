{
 "cells": [
  {
   "cell_type": "code",
   "execution_count": 47,
   "metadata": {
    "ExecuteTime": {
     "end_time": "2020-10-16T08:52:08.174685Z",
     "start_time": "2020-10-16T08:52:07.458098Z"
    }
   },
   "outputs": [
    {
     "name": "stdout",
     "output_type": "stream",
     "text": [
      "The autoreload extension is already loaded. To reload it, use:\n",
      "  %reload_ext autoreload\n"
     ]
    }
   ],
   "source": [
    "# Useful starting lines\n",
    "%matplotlib inline\n",
    "import numpy as np\n",
    "import matplotlib.pyplot as plt\n",
    "%load_ext autoreload\n",
    "%autoreload 2"
   ]
  },
  {
   "cell_type": "code",
   "execution_count": 48,
   "metadata": {
    "ExecuteTime": {
     "end_time": "2020-10-16T08:52:08.216288Z",
     "start_time": "2020-10-16T08:52:08.177771Z"
    }
   },
   "outputs": [],
   "source": [
    "DATA_FOLDER = '../data/'\n",
    "DATA_ZIP = DATA_FOLDER + 'datasets.zip'\n",
    "\n",
    "DATA_TRAIN_PATH = DATA_FOLDER + 'train.csv'\n",
    "DATA_TRAIN_PATH_CLEAN = DATA_FOLDER + 'train_clean.csv'\n",
    "DATA_TEST_PATH = DATA_FOLDER + 'test.csv' "
   ]
  },
  {
   "cell_type": "markdown",
   "metadata": {},
   "source": [
    "## Load the training data into feature matrix, class labels, and event ids:"
   ]
  },
  {
   "cell_type": "code",
   "execution_count": 49,
   "metadata": {
    "ExecuteTime": {
     "end_time": "2020-10-16T08:52:19.699128Z",
     "start_time": "2020-10-16T08:52:08.218391Z"
    }
   },
   "outputs": [],
   "source": [
    "from proj1_helpers import *\n",
    "from split_data import *\n",
    "\n",
    "y, tX, ids = load_csv_data(DATA_TRAIN_PATH)\n",
    "y_clean, tX_clean, ids_clean = load_csv_data(DATA_TRAIN_PATH_CLEAN)\n",
    "\n",
    "split_ratio = 0.8\n",
    "tX_train, tX_validation, y_train, y_validation = split_data(tX, y, split_ratio)\n",
    "tX_train_clean, tX_validation_clean, y_train_clean, y_validation_clean = split_data(tX_clean, y_clean, split_ratio)"
   ]
  },
  {
   "cell_type": "code",
   "execution_count": 50,
   "metadata": {
    "ExecuteTime": {
     "end_time": "2020-10-16T08:52:19.748596Z",
     "start_time": "2020-10-16T08:52:19.704544Z"
    }
   },
   "outputs": [
    {
     "name": "stdout",
     "output_type": "stream",
     "text": [
      "Raw set : \n",
      "               Training       Validation     \n",
      "Features       (200000, 30)   (50000, 30)    \n",
      "Labels         (200000,)      (50000,)       \n",
      "\n",
      "Clean set : \n",
      "               Training       Validation     \n",
      "Features       (60122, 23)    (15031, 23)    \n",
      "Labels         (60122,)       (15031,)       \n"
     ]
    }
   ],
   "source": [
    "print(\"Raw set : \")\n",
    "row_format = \"{:<15}\" * 3\n",
    "print(row_format.format(\"\", \"Training\", \"Validation\"))\n",
    "print(row_format.format(\"Features\", str(tX_train.shape), str(tX_validation.shape)))\n",
    "print(row_format.format(\"Labels\", str(y_train.shape), str(y_validation.shape)))\n",
    "\n",
    "print(\"\\nClean set : \")\n",
    "row_format = \"{:<15}\" * 3\n",
    "print(row_format.format(\"\", \"Training\", \"Validation\"))\n",
    "print(row_format.format(\"Features\", str(tX_train_clean.shape), str(tX_validation_clean.shape)))\n",
    "print(row_format.format(\"Labels\", str(y_train_clean.shape), str(y_validation_clean.shape)))"
   ]
  },
  {
   "cell_type": "markdown",
   "metadata": {},
   "source": [
    "## Do your thing crazy machine learning thing here :) ..."
   ]
  },
  {
   "cell_type": "markdown",
   "metadata": {},
   "source": [
    "### Gradient Descent"
   ]
  },
  {
   "cell_type": "code",
   "execution_count": 51,
   "metadata": {
    "ExecuteTime": {
     "end_time": "2020-10-16T08:52:21.604353Z",
     "start_time": "2020-10-16T08:52:19.754362Z"
    }
   },
   "outputs": [
    {
     "name": "stdout",
     "output_type": "stream",
     "text": [
      "0.376365887110707\n",
      "0.4341114083570188\n"
     ]
    }
   ],
   "source": [
    "from stochastic_gradient_descent import *\n",
    "from gradient_descent import *\n",
    "from costs import *\n",
    "\n",
    "\n",
    "max_iters = 100\n",
    "gamma = 0.01\n",
    "initial_w = np.zeros(tX_train_clean.shape[1])\n",
    "\n",
    "loss, weights_gd = gradient_descent(y_train_clean, tX_train_clean, initial_w, max_iters, gamma)\n",
    "print(loss)\n",
    "loss, weights_sgd = stochastic_gradient_descent(y_train_clean, tX_train_clean, initial_w, max_iters, gamma)\n",
    "print(loss)"
   ]
  },
  {
   "cell_type": "code",
   "execution_count": 52,
   "metadata": {
    "ExecuteTime": {
     "end_time": "2020-10-16T08:52:21.641020Z",
     "start_time": "2020-10-16T08:52:21.608042Z"
    }
   },
   "outputs": [
    {
     "name": "stdout",
     "output_type": "stream",
     "text": [
      "GD Training loss : 0.3762862825347247\n",
      "GD Validation loss : 0.37743871877826035\n",
      "SGD Clean training loss : 0.37743989171235026\n",
      "SGD Clean validation loss : 0.3784985620998615\n"
     ]
    }
   ],
   "source": [
    "# Not compared with the not cleaned set, because it needs normalizing to work\n",
    "print(\"GD Training loss : {}\".format(compute_loss(y_train_clean, tX_train_clean, weights_gd)))\n",
    "print(\"GD Validation loss : {}\".format(compute_loss(y_validation_clean, tX_validation_clean, weights_gd)))\n",
    "print(\"SGD Clean training loss : {}\".format(compute_loss(y_train_clean, tX_train_clean, weights_sgd)))\n",
    "print(\"SGD Clean validation loss : {}\".format(compute_loss(y_validation_clean, tX_validation_clean, weights_sgd)))"
   ]
  },
  {
   "cell_type": "markdown",
   "metadata": {},
   "source": [
    "### Least Squares"
   ]
  },
  {
   "cell_type": "code",
   "execution_count": 53,
   "metadata": {
    "ExecuteTime": {
     "end_time": "2020-10-16T08:52:21.747780Z",
     "start_time": "2020-10-16T08:52:21.655440Z"
    },
    "scrolled": true
   },
   "outputs": [],
   "source": [
    "from least_squares import *\n",
    "\n",
    "weights_clean, t_loss_clean = least_squares(y_train_clean, tX_train_clean)\n",
    "weights, t_loss = least_squares(y_train, tX_train)"
   ]
  },
  {
   "cell_type": "code",
   "execution_count": 54,
   "metadata": {
    "ExecuteTime": {
     "end_time": "2020-10-16T08:52:21.792876Z",
     "start_time": "2020-10-16T08:52:21.751568Z"
    }
   },
   "outputs": [
    {
     "name": "stdout",
     "output_type": "stream",
     "text": [
      "Training loss : 0.3394268495585198\n",
      "Validation loss : 0.3407678470839749\n",
      "Clean training loss : 0.3680652063481529\n",
      "Clean validation loss : 0.36665641257030934\n"
     ]
    }
   ],
   "source": [
    "print(\"Training loss : {}\".format(compute_loss(y_train, tX_train, weights)))\n",
    "print(\"Validation loss : {}\".format(compute_loss(y_validation, tX_validation, weights)))\n",
    "print(\"Clean training loss : {}\".format(compute_loss(y_train_clean, tX_train_clean, weights_clean)))\n",
    "print(\"Clean validation loss : {}\".format(compute_loss(y_validation_clean, tX_validation_clean, weights_clean)))"
   ]
  },
  {
   "cell_type": "markdown",
   "metadata": {},
   "source": [
    "### Ridge Regression"
   ]
  },
  {
   "cell_type": "code",
   "execution_count": 55,
   "metadata": {},
   "outputs": [],
   "source": [
    "from ridge_regression import *\n",
    "lambda_ = 1\n",
    "\n",
    "weights, loss = ridge_regression(y_train, tX_train, lambda_)\n",
    "weights_clean, loss_clean = ridge_regression(y_train_clean, tX_train_clean, lambda_)"
   ]
  },
  {
   "cell_type": "code",
   "execution_count": 56,
   "metadata": {},
   "outputs": [
    {
     "name": "stdout",
     "output_type": "stream",
     "text": [
      "Training loss : 0.339430792348136\n",
      "Validation loss : 0.34075291469042784\n",
      "Clean training loss : 0.36806562265821613\n",
      "Clean validation loss : 0.3666566538617766\n"
     ]
    }
   ],
   "source": [
    "print(\"Training loss : {}\".format(compute_loss(y_train, tX_train, weights)))\n",
    "print(\"Validation loss : {}\".format(compute_loss(y_validation, tX_validation, weights)))\n",
    "print(\"Clean training loss : {}\".format(compute_loss(y_train_clean, tX_train_clean, weights_clean)))\n",
    "print(\"Clean validation loss : {}\".format(compute_loss(y_validation_clean, tX_validation_clean, weights_clean)))"
   ]
  },
  {
   "cell_type": "markdown",
   "metadata": {},
   "source": [
    "### Logistic Regression"
   ]
  },
  {
   "cell_type": "code",
   "execution_count": 84,
   "metadata": {},
   "outputs": [
    {
     "name": "stdout",
     "output_type": "stream",
     "text": [
      "Maximum weight :  3100.0  Minimum weight :  -979.0\n",
      "Maximum weight :  5399.0  Minimum weight :  -2419.0\n",
      "Maximum weight :  8201.0  Minimum weight :  -3621.0\n",
      "Maximum weight :  10502.0  Minimum weight :  -4369.0\n",
      "Maximum weight :  12601.0  Minimum weight :  -5562.0\n",
      "Maximum weight :  15098.0  Minimum weight :  -6409.0\n",
      "Maximum weight :  16998.0  Minimum weight :  -7226.0\n",
      "Maximum weight :  19995.0  Minimum weight :  -8097.0\n",
      "Maximum weight :  22694.0  Minimum weight :  -9260.0\n",
      "Maximum weight :  24693.0  Minimum weight :  -10186.0\n",
      "Maximum weight :  27096.0  Minimum weight :  -10943.0\n",
      "Maximum weight :  29894.0  Minimum weight :  -11962.0\n",
      "Maximum weight :  33293.0  Minimum weight :  -13090.0\n",
      "Maximum weight :  35490.0  Minimum weight :  -13592.0\n",
      "Maximum weight :  39186.0  Minimum weight :  -15166.0\n",
      "Maximum weight :  42882.0  Minimum weight :  -16188.0\n",
      "Maximum weight :  45277.0  Minimum weight :  -17252.0\n",
      "Maximum weight :  47975.0  Minimum weight :  -18297.0\n",
      "Maximum weight :  50271.0  Minimum weight :  -19252.0\n",
      "Maximum weight :  54467.0  Minimum weight :  -20470.0\n",
      "Maximum weight :  58862.0  Minimum weight :  -21643.0\n",
      "Maximum weight :  62158.0  Minimum weight :  -22953.0\n",
      "Maximum weight :  65756.0  Minimum weight :  -24490.0\n",
      "Maximum weight :  68156.0  Minimum weight :  -25395.0\n",
      "Maximum weight :  70653.0  Minimum weight :  -26395.0\n",
      "Maximum weight :  73352.0  Minimum weight :  -27842.0\n",
      "Maximum weight :  76448.0  Minimum weight :  -28513.0\n",
      "Maximum weight :  79446.0  Minimum weight :  -29521.0\n",
      "Maximum weight :  82242.0  Minimum weight :  -30721.0\n",
      "Maximum weight :  84940.0  Minimum weight :  -32016.0\n",
      "Maximum weight :  87440.0  Minimum weight :  -33052.0\n",
      "Maximum weight :  88739.0  Minimum weight :  -34015.0\n",
      "Maximum weight :  92234.0  Minimum weight :  -35286.0\n",
      "Maximum weight :  93432.0  Minimum weight :  -36132.0\n",
      "Maximum weight :  96632.0  Minimum weight :  -37372.0\n",
      "Maximum weight :  100429.0  Minimum weight :  -38853.0\n",
      "Maximum weight :  103631.0  Minimum weight :  -39977.0\n",
      "Maximum weight :  106426.0  Minimum weight :  -40866.0\n",
      "Maximum weight :  109925.0  Minimum weight :  -42014.0\n",
      "Maximum weight :  111824.0  Minimum weight :  -43012.0\n",
      "Maximum weight :  115121.0  Minimum weight :  -43905.0\n",
      "Maximum weight :  118516.0  Minimum weight :  -45168.0\n",
      "Maximum weight :  122117.0  Minimum weight :  -46771.0\n",
      "Maximum weight :  125818.0  Minimum weight :  -48263.0\n",
      "Maximum weight :  128918.0  Minimum weight :  -49658.0\n",
      "Maximum weight :  133414.0  Minimum weight :  -50932.0\n",
      "Maximum weight :  136212.0  Minimum weight :  -51801.0\n",
      "Maximum weight :  138309.0  Minimum weight :  -53032.0\n",
      "Maximum weight :  141910.0  Minimum weight :  -54406.0\n",
      "Maximum weight :  144207.0  Minimum weight :  -55955.0\n",
      "Maximum weight :  4.0  Minimum weight :  -9.0\n",
      "Maximum weight :  6.0  Minimum weight :  -12.0\n",
      "Maximum weight :  7.0  Minimum weight :  -18.0\n",
      "Maximum weight :  9.0  Minimum weight :  -20.0\n",
      "Maximum weight :  12.0  Minimum weight :  -22.0\n",
      "Maximum weight :  15.0  Minimum weight :  -26.0\n",
      "Maximum weight :  17.0  Minimum weight :  -31.0\n",
      "Maximum weight :  18.0  Minimum weight :  -36.0\n",
      "Maximum weight :  19.0  Minimum weight :  -41.0\n",
      "Maximum weight :  20.0  Minimum weight :  -44.0\n",
      "Maximum weight :  21.0  Minimum weight :  -47.0\n",
      "Maximum weight :  24.0  Minimum weight :  -49.0\n",
      "Maximum weight :  27.0  Minimum weight :  -55.0\n",
      "Maximum weight :  29.0  Minimum weight :  -62.0\n",
      "Maximum weight :  29.0  Minimum weight :  -66.0\n",
      "Maximum weight :  30.0  Minimum weight :  -65.0\n",
      "Maximum weight :  32.0  Minimum weight :  -66.0\n",
      "Maximum weight :  32.0  Minimum weight :  -69.0\n",
      "Maximum weight :  34.0  Minimum weight :  -74.0\n",
      "Maximum weight :  35.0  Minimum weight :  -76.0\n",
      "Maximum weight :  35.0  Minimum weight :  -80.0\n",
      "Maximum weight :  38.0  Minimum weight :  -84.0\n",
      "Maximum weight :  42.0  Minimum weight :  -90.0\n",
      "Maximum weight :  43.0  Minimum weight :  -95.0\n",
      "Maximum weight :  46.0  Minimum weight :  -99.0\n",
      "Maximum weight :  49.0  Minimum weight :  -104.0\n",
      "Maximum weight :  53.0  Minimum weight :  -110.0\n",
      "Maximum weight :  54.0  Minimum weight :  -114.0\n",
      "Maximum weight :  55.0  Minimum weight :  -117.0\n",
      "Maximum weight :  55.0  Minimum weight :  -120.0\n",
      "Maximum weight :  57.0  Minimum weight :  -123.0\n",
      "Maximum weight :  58.0  Minimum weight :  -128.0\n",
      "Maximum weight :  61.0  Minimum weight :  -130.0\n",
      "Maximum weight :  63.0  Minimum weight :  -135.0\n",
      "Maximum weight :  66.0  Minimum weight :  -138.0\n",
      "Maximum weight :  65.0  Minimum weight :  -142.0\n",
      "Maximum weight :  66.0  Minimum weight :  -146.0\n",
      "Maximum weight :  67.0  Minimum weight :  -150.0\n",
      "Maximum weight :  70.0  Minimum weight :  -154.0\n",
      "Maximum weight :  71.0  Minimum weight :  -156.0\n",
      "Maximum weight :  73.0  Minimum weight :  -162.0\n",
      "Maximum weight :  74.0  Minimum weight :  -165.0\n",
      "Maximum weight :  75.0  Minimum weight :  -168.0\n",
      "Maximum weight :  75.0  Minimum weight :  -172.0\n",
      "Maximum weight :  76.0  Minimum weight :  -175.0\n",
      "Maximum weight :  79.0  Minimum weight :  -180.0\n",
      "Maximum weight :  81.0  Minimum weight :  -182.0\n",
      "Maximum weight :  85.0  Minimum weight :  -186.0\n",
      "Maximum weight :  89.0  Minimum weight :  -188.0\n",
      "Maximum weight :  87.0  Minimum weight :  -192.0\n"
     ]
    }
   ],
   "source": [
    "from logistic_regression import *\n",
    "\n",
    "max_iters = 50\n",
    "gamma = 0.1\n",
    "initial_w_train = np.ones(tX_train.shape[1])\n",
    "initial_w_clean = np.ones(tX_clean.shape[1])\n",
    "\n",
    "weights, loss = logistic_regression(y_train, tX_train, initial_w_train, max_iters, gamma) \n",
    "weights_clean, loss_clean = logistic_regression(y_clean, tX_clean, initial_w_clean, max_iters, gamma) "
   ]
  },
  {
   "cell_type": "code",
   "execution_count": 79,
   "metadata": {},
   "outputs": [
    {
     "name": "stdout",
     "output_type": "stream",
     "text": [
      "Training loss : inf\n",
      "Validation loss : inf\n",
      "Clean training loss : -4375318.130747814\n",
      "Clean validation loss : -1068856.3995614946\n"
     ]
    }
   ],
   "source": [
    "print(\"Training loss : {}\".format(calculate_loss(y_train, tX_train, weights)))\n",
    "print(\"Validation loss : {}\".format(calculate_loss(y_validation, tX_validation, weights)))\n",
    "print(\"Clean training loss : {}\".format(calculate_loss(y_train_clean, tX_train_clean, weights_clean)))\n",
    "print(\"Clean validation loss : {}\".format(calculate_loss(y_validation_clean, tX_validation_clean, weights_clean)))"
   ]
  },
  {
   "cell_type": "markdown",
   "metadata": {},
   "source": [
    "### Regularized Logistic Regression"
   ]
  },
  {
   "cell_type": "markdown",
   "metadata": {},
   "source": [
    "## Generate predictions and save ouput in csv format for submission:"
   ]
  },
  {
   "cell_type": "code",
   "execution_count": 59,
   "metadata": {
    "ExecuteTime": {
     "end_time": "2020-10-15T14:44:35.029642Z",
     "start_time": "2020-10-15T14:44:27.956Z"
    }
   },
   "outputs": [
    {
     "name": "stdout",
     "output_type": "stream",
     "text": [
      "Change False to True to generate prediction\n"
     ]
    }
   ],
   "source": [
    "#This enable to run all cells without running this one when unnecessary\n",
    "if False :\n",
    "    _, tX_test, ids_test = load_csv_data(DATA_TEST_PATH)\n",
    "    OUTPUT_PATH = DATA_FOLDER + 'submission.csv' \n",
    "    y_pred = predict_labels(weights, tX_test)\n",
    "    create_csv_submission(ids_test, y_pred, OUTPUT_PATH)\n",
    "else :\n",
    "    print(\"Change False to True to generate prediction\")"
   ]
  },
  {
   "cell_type": "code",
   "execution_count": null,
   "metadata": {},
   "outputs": [],
   "source": []
  }
 ],
 "metadata": {
  "anaconda-cloud": {},
  "kernelspec": {
   "display_name": "Python 3",
   "language": "python",
   "name": "python3"
  },
  "language_info": {
   "codemirror_mode": {
    "name": "ipython",
    "version": 3
   },
   "file_extension": ".py",
   "mimetype": "text/x-python",
   "name": "python",
   "nbconvert_exporter": "python",
   "pygments_lexer": "ipython3",
   "version": "3.8.3"
  },
  "toc": {
   "base_numbering": 1,
   "nav_menu": {},
   "number_sections": true,
   "sideBar": true,
   "skip_h1_title": false,
   "title_cell": "Table of Contents",
   "title_sidebar": "Contents",
   "toc_cell": false,
   "toc_position": {},
   "toc_section_display": true,
   "toc_window_display": false
  }
 },
 "nbformat": 4,
 "nbformat_minor": 4
}
