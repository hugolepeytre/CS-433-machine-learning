{
 "cells": [
  {
   "cell_type": "code",
   "execution_count": 1,
   "metadata": {
    "ExecuteTime": {
     "end_time": "2020-10-22T15:39:28.423851Z",
     "start_time": "2020-10-22T15:39:27.719396Z"
    }
   },
   "outputs": [],
   "source": [
    "# Useful starting lines\n",
    "%matplotlib inline\n",
    "import numpy as np\n",
    "import matplotlib.pyplot as plt\n",
    "%load_ext autoreload\n",
    "%autoreload 2"
   ]
  },
  {
   "cell_type": "code",
   "execution_count": 2,
   "metadata": {
    "ExecuteTime": {
     "end_time": "2020-10-22T15:39:28.470597Z",
     "start_time": "2020-10-22T15:39:28.431681Z"
    }
   },
   "outputs": [],
   "source": [
    "DATA_FOLDER = '../data/'\n",
    "DATA_ZIP = DATA_FOLDER + 'datasets.zip'\n",
    "\n",
    "DATA_TRAIN_PATH = DATA_FOLDER + 'train.csv'\n",
    "DATA_TRAIN_PATH_CLEAN = DATA_FOLDER + 'train_clean.csv'\n",
    "DATA_TEST_PATH = DATA_FOLDER + 'test.csv' "
   ]
  },
  {
   "cell_type": "markdown",
   "metadata": {},
   "source": [
    "## Load the training data into feature matrix, class labels, and event ids:"
   ]
  },
  {
   "cell_type": "code",
   "execution_count": 23,
   "metadata": {
    "ExecuteTime": {
     "end_time": "2020-10-22T15:48:37.433239Z",
     "start_time": "2020-10-22T15:48:26.987576Z"
    }
   },
   "outputs": [],
   "source": [
    "from proj1_helpers import *\n",
    "from split_data import *\n",
    "from data_processing import *\n",
    "\n",
    "y, tX, ids = load_csv_data(DATA_TRAIN_PATH)\n",
    "y_clean, tX_clean, ids_clean = clean_training(y, tX, ids)\n",
    "\n",
    "\n",
    "split_ratio = 0.8\n",
    "tX_train, tX_validation, y_train, y_validation = split_data(tX, y, split_ratio)\n",
    "tX_train_clean, tX_validation_clean, y_train_clean, y_validation_clean = split_data(tX_clean, y_clean, split_ratio)"
   ]
  },
  {
   "cell_type": "code",
   "execution_count": 17,
   "metadata": {
    "ExecuteTime": {
     "end_time": "2020-10-22T15:45:46.628963Z",
     "start_time": "2020-10-22T15:45:46.585166Z"
    }
   },
   "outputs": [
    {
     "name": "stdout",
     "output_type": "stream",
     "text": [
      "Raw set : \n",
      "               Training       Validation     \n",
      "Features       (200000, 30)   (50000, 30)    \n",
      "Labels         (200000,)      (50000,)       \n",
      "\n",
      "Clean set : \n",
      "               Training       Validation     \n",
      "Features       (200000, 30)   (50000, 30)    \n",
      "Labels         (200000,)      (50000,)       \n"
     ]
    }
   ],
   "source": [
    "print(\"Raw set : \")\n",
    "row_format = \"{:<15}\" * 3\n",
    "print(row_format.format(\"\", \"Training\", \"Validation\"))\n",
    "print(row_format.format(\"Features\", str(tX_train.shape), str(tX_validation.shape)))\n",
    "print(row_format.format(\"Labels\", str(y_train.shape), str(y_validation.shape)))\n",
    "\n",
    "print(\"\\nClean set : \")\n",
    "row_format = \"{:<15}\" * 3\n",
    "print(row_format.format(\"\", \"Training\", \"Validation\"))\n",
    "print(row_format.format(\"Features\", str(tX_train_clean.shape), str(tX_validation_clean.shape)))\n",
    "print(row_format.format(\"Labels\", str(y_train_clean.shape), str(y_validation_clean.shape)))"
   ]
  },
  {
   "cell_type": "markdown",
   "metadata": {},
   "source": [
    "## Testing every basic model on cleaned data"
   ]
  },
  {
   "cell_type": "code",
   "execution_count": 18,
   "metadata": {
    "ExecuteTime": {
     "end_time": "2020-10-22T15:45:57.854775Z",
     "start_time": "2020-10-22T15:45:57.823820Z"
    }
   },
   "outputs": [],
   "source": [
    "from pipeline import *"
   ]
  },
  {
   "cell_type": "markdown",
   "metadata": {},
   "source": [
    "### (Stochastic) Gradient Descent"
   ]
  },
  {
   "cell_type": "code",
   "execution_count": 19,
   "metadata": {
    "ExecuteTime": {
     "end_time": "2020-10-22T15:46:05.548504Z",
     "start_time": "2020-10-22T15:45:59.302353Z"
    }
   },
   "outputs": [
    {
     "name": "stdout",
     "output_type": "stream",
     "text": [
      "GD Training loss : 0.36888669205551355\n",
      "GD Validation loss : 0.3702442421673406\n",
      "SGD Training loss : 0.39074770033413814\n",
      "SGD Validation loss : 0.37158028696807777\n"
     ]
    }
   ],
   "source": [
    "max_iters = 100\n",
    "gamma = 0.01\n",
    "initial_w = np.zeros(tX_train_clean.shape[1])\n",
    "\n",
    "loss_gd, weights_gd = model_data(y_train_clean, tX_train_clean, 'gradient_descent', \n",
    "                              initial_w=initial_w, max_iters=max_iters, gamma=gamma)\n",
    "loss_sgd, weights_sgd = model_data(y_train_clean, tX_train_clean, 'stochastic_gradient_descent',\n",
    "                                                initial_w=initial_w, max_iters=max_iters, gamma=gamma)\n",
    "# Not compared with the not cleaned set, because it needs normalizing to work\n",
    "print(\"GD Training loss : {}\".format(loss_gd))\n",
    "print(\"GD Validation loss : {}\".format(get_loss(y_validation_clean, tX_validation_clean, weights_gd)))\n",
    "print(\"SGD Training loss : {}\".format(loss_sgd))\n",
    "print(\"SGD Validation loss : {}\".format(get_loss(y_validation_clean, tX_validation_clean, weights_sgd)))"
   ]
  },
  {
   "cell_type": "markdown",
   "metadata": {},
   "source": [
    "### Least Squares"
   ]
  },
  {
   "cell_type": "code",
   "execution_count": 20,
   "metadata": {
    "ExecuteTime": {
     "end_time": "2020-10-22T15:46:11.360560Z",
     "start_time": "2020-10-22T15:46:11.290901Z"
    },
    "scrolled": true
   },
   "outputs": [
    {
     "name": "stdout",
     "output_type": "stream",
     "text": [
      "Training loss : 0.3394268495585387\n",
      "Validation loss : 0.3407678460856664\n",
      "Clean Training loss : 0.34717878619915993\n",
      "Clean Validation loss : 0.3487533341444347\n"
     ]
    }
   ],
   "source": [
    "weights, t_loss = model_data(y_train, tX_train, 'least_squares')\n",
    "weights_clean, t_loss_clean = model_data(y_train_clean, tX_train_clean, 'least_squares')\n",
    "\n",
    "print(\"Training loss : {}\".format(t_loss))\n",
    "print(\"Validation loss : {}\".format(get_loss(y_validation, tX_validation, weights)))\n",
    "print(\"Clean Training loss : {}\".format(t_loss_clean))\n",
    "print(\"Clean Validation loss : {}\".format(get_loss(y_validation_clean, tX_validation_clean, weights_clean)))"
   ]
  },
  {
   "cell_type": "markdown",
   "metadata": {},
   "source": [
    "### Ridge Regression"
   ]
  },
  {
   "cell_type": "code",
   "execution_count": 21,
   "metadata": {
    "ExecuteTime": {
     "end_time": "2020-10-22T15:46:16.937872Z",
     "start_time": "2020-10-22T15:46:16.871652Z"
    }
   },
   "outputs": [
    {
     "name": "stdout",
     "output_type": "stream",
     "text": [
      "Training loss : 0.3394307923454777\n",
      "Validation loss : 0.340752914694699\n",
      "Clean Training loss : 0.3471823515748675\n",
      "Clean Validation loss : 0.3487417660590721\n"
     ]
    }
   ],
   "source": [
    "lambda_ = 1\n",
    "\n",
    "weights, t_loss = model_data(y_train, tX_train, 'ridge_regression')\n",
    "weights_clean, t_loss_clean = model_data(y_train_clean, tX_train_clean, 'ridge_regression')\n",
    "\n",
    "print(\"Training loss : {}\".format(t_loss))\n",
    "print(\"Validation loss : {}\".format(get_loss(y_validation, tX_validation, weights)))\n",
    "print(\"Clean Training loss : {}\".format(t_loss_clean))\n",
    "print(\"Clean Validation loss : {}\".format(get_loss(y_validation_clean, tX_validation_clean, weights_clean)))"
   ]
  },
  {
   "cell_type": "markdown",
   "metadata": {},
   "source": [
    "### (Penalized) Logistic Regression"
   ]
  },
  {
   "cell_type": "code",
   "execution_count": 22,
   "metadata": {
    "ExecuteTime": {
     "end_time": "2020-10-22T15:47:00.027682Z",
     "start_time": "2020-10-22T15:46:19.317683Z"
    }
   },
   "outputs": [
    {
     "name": "stdout",
     "output_type": "stream",
     "text": [
      "Training loss : 0.4835365113696089\n",
      "Validation loss : 0.5210679421032498\n",
      "Penalized Training loss : 0.5819816450250063\n",
      "Penalized Validation loss : 0.5432927690943854\n"
     ]
    }
   ],
   "source": [
    "max_iters = 500\n",
    "gamma = 0.05\n",
    "lambda_ = 0.1\n",
    "\n",
    "weights_log, loss_log = model_data(y_train_clean, tX_train_clean, 'logistic_regression', \n",
    "                                   max_iters=max_iters, gamma=gamma) \n",
    "weights_p_log, loss_p_log = model_data(y_train_clean, tX_train_clean, 'regularized_logistic_regression', \n",
    "                                   max_iters=max_iters, gamma=gamma, lambda_=lambda_) \n",
    "\n",
    "\n",
    "print(\"Training loss : {}\".format(loss_log))\n",
    "print(\"Validation loss : {}\".format(get_log_likelihood(y_validation_clean, tX_validation_clean, weights_log)))\n",
    "print(\"Penalized Training loss : {}\".format(loss_p_log))\n",
    "print(\"Penalized Validation loss : {}\".format(get_log_likelihood(y_validation_clean, tX_validation_clean, weights_p_log)))"
   ]
  },
  {
   "cell_type": "markdown",
   "metadata": {},
   "source": [
    "## Generate predictions and save ouput in csv format for submission:"
   ]
  },
  {
   "cell_type": "code",
   "execution_count": 112,
   "metadata": {
    "ExecuteTime": {
     "end_time": "2020-10-19T18:14:30.576758Z",
     "start_time": "2020-10-19T18:14:07.765805Z"
    }
   },
   "outputs": [
    {
     "name": "stdout",
     "output_type": "stream",
     "text": [
      "[-1. -1.  1. ...  1.  1.  1.]\n"
     ]
    }
   ],
   "source": [
    "#This enable to run all cells without running this one when unnecessary\n",
    "if False :\n",
    "    y_test, tX_test, ids_test = load_csv_data(DATA_TEST_PATH)\n",
    "    y_test_clean, tX_test_clean, ids_test_clean = clean_test(y_test, tX_test, ids_test)\n",
    "    OUTPUT_PATH = DATA_FOLDER + 'submission.csv' \n",
    "    if True: ## Only for logistic regression, will de something nice later\n",
    "        y_pred = predict_labels_logistic(weights_clean, tX_test_clean_poly)\n",
    "    else:\n",
    "        y_pred = predict_labels(weights_clean, tX_test_clean)\n",
    "    print(y_pred)\n",
    "    create_csv_submission(ids_test_clean, y_pred, OUTPUT_PATH)\n",
    "else :\n",
    "    print(\"Change False to True to generate prediction\")"
   ]
  },
  {
   "cell_type": "code",
   "execution_count": null,
   "metadata": {},
   "outputs": [],
   "source": []
  }
 ],
 "metadata": {
  "anaconda-cloud": {},
  "kernelspec": {
   "display_name": "Python 3",
   "language": "python",
   "name": "python3"
  },
  "language_info": {
   "codemirror_mode": {
    "name": "ipython",
    "version": 3
   },
   "file_extension": ".py",
   "mimetype": "text/x-python",
   "name": "python",
   "nbconvert_exporter": "python",
   "pygments_lexer": "ipython3",
   "version": "3.7.1"
  },
  "toc": {
   "base_numbering": 1,
   "nav_menu": {},
   "number_sections": true,
   "sideBar": true,
   "skip_h1_title": false,
   "title_cell": "Table of Contents",
   "title_sidebar": "Contents",
   "toc_cell": false,
   "toc_position": {},
   "toc_section_display": true,
   "toc_window_display": false
  }
 },
 "nbformat": 4,
 "nbformat_minor": 4
}
