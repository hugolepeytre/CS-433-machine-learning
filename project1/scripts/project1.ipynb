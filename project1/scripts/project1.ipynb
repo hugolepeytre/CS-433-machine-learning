{
 "cells": [
  {
   "cell_type": "code",
   "execution_count": 1,
   "metadata": {
    "ExecuteTime": {
     "end_time": "2020-10-19T18:12:57.515336Z",
     "start_time": "2020-10-19T18:12:55.571297Z"
    }
   },
   "outputs": [],
   "source": [
    "# Useful starting lines\n",
    "%matplotlib inline\n",
    "import numpy as np\n",
    "import matplotlib.pyplot as plt\n",
    "%load_ext autoreload\n",
    "%autoreload 2"
   ]
  },
  {
   "cell_type": "code",
   "execution_count": 2,
   "metadata": {
    "ExecuteTime": {
     "end_time": "2020-10-19T18:12:57.545451Z",
     "start_time": "2020-10-19T18:12:57.518500Z"
    }
   },
   "outputs": [],
   "source": [
    "DATA_FOLDER = '../data/'\n",
    "DATA_ZIP = DATA_FOLDER + 'datasets.zip'\n",
    "\n",
    "DATA_TRAIN_PATH = DATA_FOLDER + 'train.csv'\n",
    "DATA_TRAIN_PATH_CLEAN = DATA_FOLDER + 'train_clean.csv'\n",
    "DATA_TEST_PATH = DATA_FOLDER + 'test.csv' "
   ]
  },
  {
   "cell_type": "markdown",
   "metadata": {},
   "source": [
    "## Load the training data into feature matrix, class labels, and event ids:"
   ]
  },
  {
   "cell_type": "code",
   "execution_count": 3,
   "metadata": {
    "ExecuteTime": {
     "end_time": "2020-10-19T18:13:05.863706Z",
     "start_time": "2020-10-19T18:12:57.547494Z"
    }
   },
   "outputs": [
    {
     "name": "stdout",
     "output_type": "stream",
     "text": [
      "TODO: only remove outliers when max - min > threshold like 10\n",
      "    Doubt with DER_deltar_tau_lep and PRI_jet_all_pt\n"
     ]
    }
   ],
   "source": [
    "from proj1_helpers import *\n",
    "from split_data import *\n",
    "from data_processing import *\n",
    "\n",
    "y, tX, ids = load_csv_data(DATA_TRAIN_PATH)\n",
    "y_clean, tX_clean, ids_clean = clean_training(y, tX, ids)\n",
    "\n",
    "\n",
    "split_ratio = 0.8\n",
    "tX_train, tX_validation, y_train, y_validation = split_data(tX, y, split_ratio)\n",
    "tX_train_clean, tX_validation_clean, y_train_clean, y_validation_clean = split_data(tX_clean, y_clean, split_ratio)"
   ]
  },
  {
   "cell_type": "code",
   "execution_count": 4,
   "metadata": {
    "ExecuteTime": {
     "end_time": "2020-10-19T18:13:05.948036Z",
     "start_time": "2020-10-19T18:13:05.911840Z"
    }
   },
   "outputs": [
    {
     "name": "stdout",
     "output_type": "stream",
     "text": [
      "Raw set : \n",
      "               Training       Validation     \n",
      "Features       (200000, 30)   (50000, 30)    \n",
      "Labels         (200000,)      (50000,)       \n",
      "\n",
      "Clean set : \n",
      "               Training       Validation     \n",
      "Features       (35536, 29)    (8884, 29)     \n",
      "Labels         (35536,)       (8884,)        \n"
     ]
    }
   ],
   "source": [
    "print(\"Raw set : \")\n",
    "row_format = \"{:<15}\" * 3\n",
    "print(row_format.format(\"\", \"Training\", \"Validation\"))\n",
    "print(row_format.format(\"Features\", str(tX_train.shape), str(tX_validation.shape)))\n",
    "print(row_format.format(\"Labels\", str(y_train.shape), str(y_validation.shape)))\n",
    "\n",
    "print(\"\\nClean set : \")\n",
    "row_format = \"{:<15}\" * 3\n",
    "print(row_format.format(\"\", \"Training\", \"Validation\"))\n",
    "print(row_format.format(\"Features\", str(tX_train_clean.shape), str(tX_validation_clean.shape)))\n",
    "print(row_format.format(\"Labels\", str(y_train_clean.shape), str(y_validation_clean.shape)))"
   ]
  },
  {
   "cell_type": "markdown",
   "metadata": {},
   "source": [
    "## Testing every basic model on cleaned data"
   ]
  },
  {
   "cell_type": "code",
   "execution_count": 7,
   "metadata": {},
   "outputs": [],
   "source": [
    "from pipeline import *"
   ]
  },
  {
   "cell_type": "markdown",
   "metadata": {},
   "source": [
    "### (Stochastic) Gradient Descent"
   ]
  },
  {
   "cell_type": "code",
   "execution_count": 10,
   "metadata": {
    "ExecuteTime": {
     "end_time": "2020-10-19T18:13:07.053883Z",
     "start_time": "2020-10-19T18:13:05.953218Z"
    }
   },
   "outputs": [],
   "source": [
    "max_iters = 100\n",
    "gamma = 0.01\n",
    "initial_w = np.zeros(tX_train_clean.shape[1])\n",
    "\n",
    "loss_gd, weights_gd = model_data(y_train_clean, tX_train_clean, 'gradient_descent', \n",
    "                              initial_w=initial_w, max_iters=max_iters, gamma=gamma)\n",
    "loss_sgd, weights_sgd = model_data(y_train_clean, tX_train_clean, 'stochastic_gradient_descent',\n",
    "                                                initial_w=initial_w, max_iters=max_iters, gamma=gamma)\n",
    "# Not compared with the not cleaned set, because it needs normalizing to work\n",
    "print(\"GD Training loss : {}\".format(loss_gd))\n",
    "print(\"GD Validation loss : {}\".format(get_loss(y_validation_clean, tX_validation_clean, weights_gd)))\n",
    "print(\"SGD Training loss : {}\".format(loss_sgd))\n",
    "print(\"SGD Validation loss : {}\".format(get_loss(y_validation_clean, tX_validation_clean, weights_sgd)))"
   ]
  },
  {
   "cell_type": "markdown",
   "metadata": {},
   "source": [
    "### Least Squares"
   ]
  },
  {
   "cell_type": "code",
   "execution_count": 17,
   "metadata": {
    "ExecuteTime": {
     "end_time": "2020-10-19T18:13:07.160849Z",
     "start_time": "2020-10-19T18:13:07.100724Z"
    },
    "scrolled": true
   },
   "outputs": [
    {
     "name": "stdout",
     "output_type": "stream",
     "text": [
      "Training loss : 0.3394268495585329\n",
      "Validation loss : 0.3407678463202393\n",
      "Clean Training loss : 0.3357623766686237\n",
      "Clean Validation loss : 0.33477092497039646\n"
     ]
    }
   ],
   "source": [
    "weights, t_loss = model_data(y_train, tX_train, 'least_squares')\n",
    "weights_clean, t_loss_clean = model_data(y_train_clean, tX_train_clean, 'least_squares')\n",
    "\n",
    "print(\"Training loss : {}\".format(t_loss))\n",
    "print(\"Validation loss : {}\".format(get_loss(y_validation, tX_validation, weights)))\n",
    "print(\"Clean Training loss : {}\".format(t_loss_clean))\n",
    "print(\"Clean Validation loss : {}\".format(get_loss(y_validation_clean, tX_validation_clean, weights_clean)))"
   ]
  },
  {
   "cell_type": "markdown",
   "metadata": {},
   "source": [
    "### Ridge Regression"
   ]
  },
  {
   "cell_type": "code",
   "execution_count": 18,
   "metadata": {
    "ExecuteTime": {
     "end_time": "2020-10-19T18:13:07.270999Z",
     "start_time": "2020-10-19T18:13:07.210305Z"
    }
   },
   "outputs": [
    {
     "name": "stdout",
     "output_type": "stream",
     "text": [
      "Training loss : 0.3394307923454776\n",
      "Validation loss : 0.34075291469501606\n",
      "Clean Training loss : 0.339382825229168\n",
      "Clean Validation loss : 0.3382086297912849\n"
     ]
    }
   ],
   "source": [
    "lambda_ = 1\n",
    "\n",
    "weights, t_loss = model_data(y_train, tX_train, 'ridge_regression')\n",
    "weights_clean, t_loss_clean = model_data(y_train_clean, tX_train_clean, 'ridge_regression')\n",
    "\n",
    "print(\"Training loss : {}\".format(t_loss))\n",
    "print(\"Validation loss : {}\".format(get_loss(y_validation, tX_validation, weights)))\n",
    "print(\"Clean Training loss : {}\".format(t_loss_clean))\n",
    "print(\"Clean Validation loss : {}\".format(get_loss(y_validation_clean, tX_validation_clean, weights_clean)))"
   ]
  },
  {
   "cell_type": "markdown",
   "metadata": {},
   "source": [
    "### (Penalized) Logistic Regression"
   ]
  },
  {
   "cell_type": "code",
   "execution_count": 23,
   "metadata": {
    "ExecuteTime": {
     "end_time": "2020-10-19T18:13:11.383596Z",
     "start_time": "2020-10-19T18:13:07.316392Z"
    }
   },
   "outputs": [
    {
     "name": "stdout",
     "output_type": "stream",
     "text": [
      "Loss iteration 0 : 0.6931471805599454\n",
      "Loss iteration 10 : 0.6224903927995711\n",
      "Loss iteration 20 : 0.5810471137620504\n",
      "Loss iteration 30 : 0.5649284173485779\n",
      "Loss iteration 40 : 0.5536999453004042\n",
      "Loss iteration 50 : 0.534768184886167\n",
      "Loss iteration 60 : 0.5307322842326891\n",
      "Loss iteration 70 : 0.5241077656897972\n",
      "Loss iteration 80 : 0.5236201431917639\n",
      "Loss iteration 90 : 0.5060297067287266\n",
      "Loss iteration 100 : 0.5284187362238046\n",
      "Loss iteration 110 : 0.49971003084484816\n",
      "Loss iteration 120 : 0.5130238585970672\n",
      "Loss iteration 130 : 0.5043414681352095\n",
      "Loss iteration 140 : 0.509489141142617\n",
      "Loss iteration 150 : 0.4999886580331558\n",
      "Loss iteration 160 : 0.5089292670333464\n",
      "Loss iteration 170 : 0.47435263264680083\n",
      "Loss iteration 180 : 0.4971161052941118\n",
      "Loss iteration 190 : 0.49260380050763736\n",
      "Loss iteration 200 : 0.48885597176700857\n",
      "Loss iteration 210 : 0.5078102509600563\n",
      "Loss iteration 220 : 0.49851682177832346\n",
      "Loss iteration 230 : 0.5109387746407877\n",
      "Loss iteration 240 : 0.49741304589943125\n",
      "Loss iteration 250 : 0.4943915964686034\n",
      "Loss iteration 260 : 0.47026533545059357\n",
      "Loss iteration 270 : 0.5045986873349648\n",
      "Loss iteration 280 : 0.5025074880505486\n",
      "Loss iteration 290 : 0.504009190212532\n",
      "Loss iteration 300 : 0.4710351092911569\n",
      "Loss iteration 310 : 0.48377479344170343\n",
      "Loss iteration 320 : 0.5102565039311816\n",
      "Loss iteration 330 : 0.4871124617500568\n",
      "Loss iteration 340 : 0.5074460415986408\n",
      "Loss iteration 350 : 0.4720139324824513\n",
      "Loss iteration 360 : 0.4947030151851827\n",
      "Loss iteration 370 : 0.4933526035011605\n",
      "Loss iteration 380 : 0.4995817291524399\n",
      "Loss iteration 390 : 0.5121164368785333\n",
      "Loss iteration 400 : 0.49019752093890356\n",
      "Loss iteration 410 : 0.5116672896288876\n",
      "Loss iteration 420 : 0.4840057464709711\n",
      "Loss iteration 430 : 0.5034945251742574\n",
      "Loss iteration 440 : 0.5135529901421405\n",
      "Loss iteration 450 : 0.5026703452719251\n",
      "Loss iteration 460 : 0.4928472206299264\n",
      "Loss iteration 470 : 0.525777120628484\n",
      "Loss iteration 480 : 0.48611984335898645\n",
      "Loss iteration 490 : 0.5196206192613076\n",
      "Loss iteration 0 : 0.6931471805599454\n",
      "Loss iteration 10 : 0.6294101002075748\n",
      "Loss iteration 20 : 0.6003375207086492\n",
      "Loss iteration 30 : 0.5674058356495203\n",
      "Loss iteration 40 : 0.5782590872323204\n",
      "Loss iteration 50 : 0.5605969978362128\n",
      "Loss iteration 60 : 0.5502376111285363\n",
      "Loss iteration 70 : 0.5519207772698321\n",
      "Loss iteration 80 : 0.5475407319363517\n",
      "Loss iteration 90 : 0.5370637668402215\n",
      "Loss iteration 100 : 0.552153101238538\n",
      "Loss iteration 110 : 0.5538202126250359\n",
      "Loss iteration 120 : 0.5442215694568048\n",
      "Loss iteration 130 : 0.5588305159618999\n",
      "Loss iteration 140 : 0.5500491914471346\n",
      "Loss iteration 150 : 0.56072865976774\n",
      "Loss iteration 160 : 0.5589692310793848\n",
      "Loss iteration 170 : 0.5299030473459982\n",
      "Loss iteration 180 : 0.5422432525939563\n",
      "Loss iteration 190 : 0.5503569569454252\n",
      "Loss iteration 200 : 0.5312619952235399\n",
      "Loss iteration 210 : 0.5406445289641866\n",
      "Loss iteration 220 : 0.5242467395388639\n",
      "Loss iteration 230 : 0.5394100034635047\n",
      "Loss iteration 240 : 0.5441133897363796\n",
      "Loss iteration 250 : 0.5351843547766146\n",
      "Loss iteration 260 : 0.5267737074190159\n",
      "Loss iteration 270 : 0.5471394798659652\n",
      "Loss iteration 280 : 0.5349196390974833\n",
      "Loss iteration 290 : 0.5516464883846581\n",
      "Loss iteration 300 : 0.5469547729517771\n",
      "Loss iteration 310 : 0.567009378229183\n",
      "Loss iteration 320 : 0.5467013024811668\n",
      "Loss iteration 330 : 0.5543687190827137\n",
      "Loss iteration 340 : 0.530263053110031\n",
      "Loss iteration 350 : 0.5412073864405613\n",
      "Loss iteration 360 : 0.5453221933502597\n",
      "Loss iteration 370 : 0.5550731847370212\n",
      "Loss iteration 380 : 0.5521128983643606\n",
      "Loss iteration 390 : 0.5417154643017374\n",
      "Loss iteration 400 : 0.5569929252063398\n",
      "Loss iteration 410 : 0.5569992807965668\n",
      "Loss iteration 420 : 0.5329185526439495\n",
      "Loss iteration 430 : 0.5580344256676272\n",
      "Loss iteration 440 : 0.5462010918272607\n",
      "Loss iteration 450 : 0.5462194717689012\n",
      "Loss iteration 460 : 0.5522030997571057\n",
      "Loss iteration 470 : 0.5320110550164319\n",
      "Loss iteration 480 : 0.5437587467770546\n",
      "Loss iteration 490 : 0.5352000636404849\n",
      "Training loss : 0.513811450674059\n",
      "Validation loss : -0.07834559551102475\n",
      "Penalized Training loss : 0.5377664403530246\n",
      "Penalized Validation loss : 0.10722803414730012\n"
     ]
    }
   ],
   "source": [
    "max_iters = 500\n",
    "gamma = 0.05\n",
    "lambda_ = 0.1\n",
    "\n",
    "weights_log, loss_log = model_data(y_train_clean, tX_train_clean, 'logistic_regression', \n",
    "                                   max_iters=max_iters, gamma=gamma) \n",
    "weights_p_log, loss_p_log = model_data(y_train_clean, tX_train_clean, 'penalized_logistic_regression', \n",
    "                                   max_iters=max_iters, gamma=gamma, lambda_=lambda_) \n",
    "\n",
    "print(\"Training loss : {}\".format(loss_log))\n",
    "print(\"Validation loss : {}\".format(get_log_likelihood(y_validation_clean, tX_validation_clean, weights_log)))\n",
    "print(\"Penalized Training loss : {}\".format(loss_p_log))\n",
    "print(\"Penalized Validation loss : {}\".format(get_log_likelihood(y_validation_clean, tX_validation_clean, weights_p_log)))"
   ]
  },
  {
   "cell_type": "markdown",
   "metadata": {},
   "source": [
    "## Generate predictions and save ouput in csv format for submission:"
   ]
  },
  {
   "cell_type": "code",
   "execution_count": 112,
   "metadata": {
    "ExecuteTime": {
     "end_time": "2020-10-19T18:14:30.576758Z",
     "start_time": "2020-10-19T18:14:07.765805Z"
    }
   },
   "outputs": [
    {
     "name": "stdout",
     "output_type": "stream",
     "text": [
      "[-1. -1.  1. ...  1.  1.  1.]\n"
     ]
    }
   ],
   "source": [
    "#This enable to run all cells without running this one when unnecessary\n",
    "if True :\n",
    "    y_test, tX_test, ids_test = load_csv_data(DATA_TEST_PATH)\n",
    "    y_test_clean, tX_test_clean, ids_test_clean = clean_test(y_test, tX_test, ids_test)\n",
    "    OUTPUT_PATH = DATA_FOLDER + 'submission.csv' \n",
    "    if True: ## Only for logistic regression, will de something nice later\n",
    "        y_pred = predict_labels_logistic(weights_clean, tX_test_clean_poly)\n",
    "    else:\n",
    "        y_pred = predict_labels(weights_clean, tX_test_clean)\n",
    "    print(y_pred)\n",
    "    create_csv_submission(ids_test_clean, y_pred, OUTPUT_PATH)\n",
    "else :\n",
    "    print(\"Change False to True to generate prediction\")"
   ]
  },
  {
   "cell_type": "code",
   "execution_count": 101,
   "metadata": {},
   "outputs": [],
   "source": [
    "tX_test_clean_poly = build_poly_2D(tX_test_clean, 3)"
   ]
  },
  {
   "cell_type": "code",
   "execution_count": null,
   "metadata": {},
   "outputs": [],
   "source": []
  }
 ],
 "metadata": {
  "anaconda-cloud": {},
  "kernelspec": {
   "display_name": "Python 3",
   "language": "python",
   "name": "python3"
  },
  "language_info": {
   "codemirror_mode": {
    "name": "ipython",
    "version": 3
   },
   "file_extension": ".py",
   "mimetype": "text/x-python",
   "name": "python",
   "nbconvert_exporter": "python",
   "pygments_lexer": "ipython3",
   "version": "3.8.2"
  },
  "toc": {
   "base_numbering": 1,
   "nav_menu": {},
   "number_sections": true,
   "sideBar": true,
   "skip_h1_title": false,
   "title_cell": "Table of Contents",
   "title_sidebar": "Contents",
   "toc_cell": false,
   "toc_position": {},
   "toc_section_display": true,
   "toc_window_display": false
  }
 },
 "nbformat": 4,
 "nbformat_minor": 4
}
