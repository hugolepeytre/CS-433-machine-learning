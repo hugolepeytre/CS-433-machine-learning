{
 "cells": [
  {
   "cell_type": "code",
   "execution_count": 1,
   "metadata": {
    "ExecuteTime": {
     "end_time": "2020-10-19T18:12:57.515336Z",
     "start_time": "2020-10-19T18:12:55.571297Z"
    }
   },
   "outputs": [],
   "source": [
    "# Useful starting lines\n",
    "%matplotlib inline\n",
    "import numpy as np\n",
    "import matplotlib.pyplot as plt\n",
    "%load_ext autoreload\n",
    "%autoreload 2"
   ]
  },
  {
   "cell_type": "code",
   "execution_count": 2,
   "metadata": {
    "ExecuteTime": {
     "end_time": "2020-10-19T18:12:57.545451Z",
     "start_time": "2020-10-19T18:12:57.518500Z"
    }
   },
   "outputs": [],
   "source": [
    "DATA_FOLDER = '../data/'\n",
    "DATA_ZIP = DATA_FOLDER + 'datasets.zip'\n",
    "\n",
    "DATA_TRAIN_PATH = DATA_FOLDER + 'train.csv'\n",
    "DATA_TRAIN_PATH_CLEAN = DATA_FOLDER + 'train_clean.csv'\n",
    "DATA_TEST_PATH = DATA_FOLDER + 'test.csv' "
   ]
  },
  {
   "cell_type": "markdown",
   "metadata": {},
   "source": [
    "## Load the training data into feature matrix, class labels, and event ids:"
   ]
  },
  {
   "cell_type": "code",
   "execution_count": 95,
   "metadata": {
    "ExecuteTime": {
     "end_time": "2020-10-19T18:13:05.863706Z",
     "start_time": "2020-10-19T18:12:57.547494Z"
    }
   },
   "outputs": [
    {
     "name": "stdout",
     "output_type": "stream",
     "text": [
      "TODO: only remove outliers when max - min > threshold like 10\n",
      "    Doubt with DER_deltar_tau_lep and PRI_jet_all_pt\n"
     ]
    }
   ],
   "source": [
    "from proj1_helpers import *\n",
    "from split_data import *\n",
    "from data_processing import *\n",
    "\n",
    "y, tX, ids = load_csv_data(DATA_TRAIN_PATH)\n",
    "y_clean, tX_clean, ids_clean = clean_training(y, tX, ids)\n",
    "\n",
    "\n",
    "split_ratio = 0.8\n",
    "tX_train, tX_validation, y_train, y_validation = split_data(tX, y, split_ratio)\n",
    "tX_train_clean, tX_validation_clean, y_train_clean, y_validation_clean = split_data(tX_clean, y_clean, split_ratio)"
   ]
  },
  {
   "cell_type": "code",
   "execution_count": 4,
   "metadata": {
    "ExecuteTime": {
     "end_time": "2020-10-19T18:13:05.903156Z",
     "start_time": "2020-10-19T18:13:05.873157Z"
    }
   },
   "outputs": [],
   "source": [
    "# from proj1_helpers import *\n",
    "# from split_data import *\n",
    "\n",
    "# y, tX, ids = load_csv_data(DATA_TRAIN_PATH)\n",
    "# y_clean, tX_clean, ids_clean = load_csv_data(DATA_TRAIN_PATH_CLEAN)\n",
    "\n",
    "# split_ratio = 0.8\n",
    "# tX_train, tX_validation, y_train, y_validation = split_data(tX, y, split_ratio)\n",
    "# tX_train_clean, tX_validation_clean, y_train_clean, y_validation_clean = split_data(tX_clean, y_clean, split_ratio)"
   ]
  },
  {
   "cell_type": "code",
   "execution_count": 5,
   "metadata": {
    "ExecuteTime": {
     "end_time": "2020-10-19T18:13:05.948036Z",
     "start_time": "2020-10-19T18:13:05.911840Z"
    }
   },
   "outputs": [
    {
     "name": "stdout",
     "output_type": "stream",
     "text": [
      "Raw set : \n",
      "               Training       Validation     \n",
      "Features       (200000, 30)   (50000, 30)    \n",
      "Labels         (200000,)      (50000,)       \n",
      "\n",
      "Clean set : \n",
      "               Training       Validation     \n",
      "Features       (35536, 29)    (8884, 29)     \n",
      "Labels         (35536,)       (8884,)        \n"
     ]
    }
   ],
   "source": [
    "print(\"Raw set : \")\n",
    "row_format = \"{:<15}\" * 3\n",
    "print(row_format.format(\"\", \"Training\", \"Validation\"))\n",
    "print(row_format.format(\"Features\", str(tX_train.shape), str(tX_validation.shape)))\n",
    "print(row_format.format(\"Labels\", str(y_train.shape), str(y_validation.shape)))\n",
    "\n",
    "print(\"\\nClean set : \")\n",
    "row_format = \"{:<15}\" * 3\n",
    "print(row_format.format(\"\", \"Training\", \"Validation\"))\n",
    "print(row_format.format(\"Features\", str(tX_train_clean.shape), str(tX_validation_clean.shape)))\n",
    "print(row_format.format(\"Labels\", str(y_train_clean.shape), str(y_validation_clean.shape)))"
   ]
  },
  {
   "cell_type": "markdown",
   "metadata": {},
   "source": [
    "## Do your thing crazy machine learning thing here :) ..."
   ]
  },
  {
   "cell_type": "markdown",
   "metadata": {},
   "source": [
    "### Gradient Descent"
   ]
  },
  {
   "cell_type": "code",
   "execution_count": 6,
   "metadata": {
    "ExecuteTime": {
     "end_time": "2020-10-19T18:13:07.053883Z",
     "start_time": "2020-10-19T18:13:05.953218Z"
    }
   },
   "outputs": [
    {
     "name": "stdout",
     "output_type": "stream",
     "text": [
      "0.34483741738725987\n",
      "0.34177970796002916\n"
     ]
    }
   ],
   "source": [
    "from stochastic_gradient_descent import *\n",
    "from gradient_descent import *\n",
    "from costs import *\n",
    "\n",
    "\n",
    "max_iters = 100\n",
    "gamma = 0.01\n",
    "initial_w = np.zeros(tX_train_clean.shape[1])\n",
    "\n",
    "loss, weights_gd = gradient_descent(y_train_clean, tX_train_clean, initial_w, max_iters, gamma)\n",
    "print(loss)\n",
    "loss, weights_sgd = stochastic_gradient_descent(y_train_clean, tX_train_clean, initial_w, max_iters, gamma)\n",
    "print(loss)"
   ]
  },
  {
   "cell_type": "code",
   "execution_count": 7,
   "metadata": {
    "ExecuteTime": {
     "end_time": "2020-10-19T18:13:07.092836Z",
     "start_time": "2020-10-19T18:13:07.057669Z"
    }
   },
   "outputs": [
    {
     "name": "stdout",
     "output_type": "stream",
     "text": [
      "GD Training loss : 0.3447192031684567\n",
      "GD Validation loss : 0.34342161403433336\n",
      "SGD Training loss : 0.34500707308884804\n",
      "SGD Validation loss : 0.3434787185463746\n"
     ]
    }
   ],
   "source": [
    "# Not compared with the not cleaned set, because it needs normalizing to work\n",
    "print(\"GD Training loss : {}\".format(compute_loss(y_train_clean, tX_train_clean, weights_gd)))\n",
    "print(\"GD Validation loss : {}\".format(compute_loss(y_validation_clean, tX_validation_clean, weights_gd)))\n",
    "print(\"SGD Training loss : {}\".format(compute_loss(y_train_clean, tX_train_clean, weights_sgd)))\n",
    "print(\"SGD Validation loss : {}\".format(compute_loss(y_validation_clean, tX_validation_clean, weights_sgd)))"
   ]
  },
  {
   "cell_type": "markdown",
   "metadata": {},
   "source": [
    "### Least Squares"
   ]
  },
  {
   "cell_type": "code",
   "execution_count": 8,
   "metadata": {
    "ExecuteTime": {
     "end_time": "2020-10-19T18:13:07.160849Z",
     "start_time": "2020-10-19T18:13:07.100724Z"
    },
    "scrolled": true
   },
   "outputs": [],
   "source": [
    "from least_squares import *\n",
    "\n",
    "weights, t_loss = least_squares(y_train, tX_train)\n",
    "weights_clean, t_loss_clean = least_squares(y_train_clean, tX_train_clean)"
   ]
  },
  {
   "cell_type": "code",
   "execution_count": 9,
   "metadata": {
    "ExecuteTime": {
     "end_time": "2020-10-19T18:13:07.205302Z",
     "start_time": "2020-10-19T18:13:07.167342Z"
    }
   },
   "outputs": [
    {
     "name": "stdout",
     "output_type": "stream",
     "text": [
      "Training loss : 0.3394268495585329\n",
      "Validation loss : 0.3407678463202393\n",
      "Clean training loss : 0.3357623766686237\n",
      "Clean validation loss : 0.33477092497039646\n"
     ]
    }
   ],
   "source": [
    "print(\"Training loss : {}\".format(compute_loss(y_train, tX_train, weights)))\n",
    "print(\"Validation loss : {}\".format(compute_loss(y_validation, tX_validation, weights)))\n",
    "print(\"Clean training loss : {}\".format(compute_loss(y_train_clean, tX_train_clean, weights_clean)))\n",
    "print(\"Clean validation loss : {}\".format(compute_loss(y_validation_clean, tX_validation_clean, weights_clean)))"
   ]
  },
  {
   "cell_type": "markdown",
   "metadata": {},
   "source": [
    "### Ridge Regression"
   ]
  },
  {
   "cell_type": "code",
   "execution_count": 51,
   "metadata": {
    "ExecuteTime": {
     "end_time": "2020-10-19T18:13:07.270999Z",
     "start_time": "2020-10-19T18:13:07.210305Z"
    }
   },
   "outputs": [
    {
     "name": "stdout",
     "output_type": "stream",
     "text": [
      "[-0.87660324  0.77727399  0.57521726 ...  0.22288678 -0.03766126\n",
      " -0.88619411]\n"
     ]
    }
   ],
   "source": [
    "from ridge_regression import *\n",
    "lambda_ = 1\n",
    "\n",
    "weights, loss = ridge_regression(y_train, tX_train, lambda_)\n",
    "weights_clean, loss_clean = ridge_regression(y_train_clean, tX_train_clean, lambda_)"
   ]
  },
  {
   "cell_type": "code",
   "execution_count": 11,
   "metadata": {
    "ExecuteTime": {
     "end_time": "2020-10-19T18:13:07.311860Z",
     "start_time": "2020-10-19T18:13:07.273868Z"
    }
   },
   "outputs": [
    {
     "name": "stdout",
     "output_type": "stream",
     "text": [
      "Training loss : 0.33943079234813595\n",
      "Validation loss : 0.340752914691276\n",
      "Clean training loss : 0.34000161105674526\n",
      "Clean validation loss : 0.3388098362908592\n"
     ]
    }
   ],
   "source": [
    "print(\"Training loss : {}\".format(compute_loss(y_train, tX_train, weights)))\n",
    "print(\"Validation loss : {}\".format(compute_loss(y_validation, tX_validation, weights)))\n",
    "print(\"Clean training loss : {}\".format(compute_loss(y_train_clean, tX_train_clean, weights_clean)))\n",
    "print(\"Clean validation loss : {}\".format(compute_loss(y_validation_clean, tX_validation_clean, weights_clean)))"
   ]
  },
  {
   "cell_type": "markdown",
   "metadata": {},
   "source": [
    "### Logistic Regression"
   ]
  },
  {
   "cell_type": "code",
   "execution_count": 111,
   "metadata": {
    "ExecuteTime": {
     "end_time": "2020-10-19T18:13:11.383596Z",
     "start_time": "2020-10-19T18:13:07.316392Z"
    }
   },
   "outputs": [
    {
     "name": "stdout",
     "output_type": "stream",
     "text": [
      "Loss iteration 0 : 44.87739812896781\n",
      "Loss iteration 10 : 12.264804327545436\n",
      "Loss iteration 20 : 8.502417275474636\n",
      "Loss iteration 30 : 6.760366245883161\n",
      "Loss iteration 40 : 6.8269208886254935\n",
      "Loss iteration 50 : 6.205744006847341\n",
      "Loss iteration 60 : 4.3367568818870685\n",
      "Loss iteration 70 : 3.6676671386814124\n",
      "Loss iteration 80 : 3.6036774632459396\n",
      "Loss iteration 90 : 2.8252134201027737\n",
      "Loss iteration 100 : 2.9085344625550373\n",
      "Loss iteration 110 : 2.1665922003013454\n",
      "Loss iteration 120 : 2.100515141457434\n",
      "Loss iteration 130 : 1.7864569536108952\n",
      "Loss iteration 140 : 1.6658027182532347\n",
      "Loss iteration 150 : 1.4480443391190574\n",
      "Loss iteration 160 : 1.1877698712469675\n",
      "Loss iteration 170 : 1.1400492648614433\n",
      "Loss iteration 180 : 1.0936250248231845\n",
      "Loss iteration 190 : 1.0006249704259094\n",
      "Loss iteration 200 : 0.9572281987435654\n",
      "Loss iteration 210 : 0.9419856163282593\n",
      "Loss iteration 220 : 0.8999275360056544\n",
      "Loss iteration 230 : 0.7648647079539133\n",
      "Loss iteration 240 : 0.789171817919856\n",
      "Loss iteration 250 : 0.6795011810514482\n",
      "Loss iteration 260 : 0.7297921209271672\n",
      "Loss iteration 270 : 0.6660332194127556\n",
      "Loss iteration 280 : 0.6615030480992072\n",
      "Loss iteration 290 : 0.6261252973629428\n",
      "Loss iteration 300 : 0.6633970347449499\n",
      "Loss iteration 310 : 0.6310786250983906\n",
      "Loss iteration 320 : 0.5033703782936584\n",
      "Loss iteration 330 : 0.5944701537776\n",
      "Loss iteration 340 : 0.6263703847612854\n",
      "Loss iteration 350 : 0.66618688761553\n",
      "Loss iteration 360 : 0.5811736541140374\n",
      "Loss iteration 370 : 0.5137970931296647\n",
      "Loss iteration 380 : 0.5635392419325774\n",
      "Loss iteration 390 : 0.5981372862664166\n",
      "Loss iteration 400 : 0.5474916239957169\n",
      "Loss iteration 410 : 0.621930557009124\n",
      "Loss iteration 420 : 0.5631743619384109\n",
      "Loss iteration 430 : 0.5880663199375531\n",
      "Loss iteration 440 : 0.4965310945610893\n",
      "Loss iteration 450 : 0.5312206133596068\n",
      "Loss iteration 460 : 0.5016161000641218\n",
      "Loss iteration 470 : 0.5197034043901473\n",
      "Loss iteration 480 : 0.5510659055775143\n",
      "Loss iteration 490 : 0.5569438200123998\n"
     ]
    }
   ],
   "source": [
    "from logistic_regression import *\n",
    "from build_polynomial import *\n",
    "\n",
    "max_iters = 500\n",
    "gamma = 0.05\n",
    "\n",
    "y_train_clean_logistic = y_train_clean/2 + 0.5\n",
    "y_validation_clean_logistic = y_validation_clean/2 + 0.5\n",
    "initial_w_clean = np.ones(tX_train_clean_poly.shape[1])\n",
    "\n",
    "weights_clean, loss_clean = logistic_regression(y_train_clean_logistic, tX_train_clean_poly, initial_w_clean, max_iters, gamma) "
   ]
  },
  {
   "cell_type": "code",
   "execution_count": null,
   "metadata": {},
   "outputs": [],
   "source": [
    "tX_train_clean_poly = build_poly_2D(tX_train_clean, 3)"
   ]
  },
  {
   "cell_type": "code",
   "execution_count": 102,
   "metadata": {
    "ExecuteTime": {
     "end_time": "2020-10-19T18:13:11.534498Z",
     "start_time": "2020-10-19T18:13:11.389606Z"
    }
   },
   "outputs": [
    {
     "name": "stdout",
     "output_type": "stream",
     "text": [
      "Clean training loss : 7.514100001284901\n",
      "Clean validation loss : 7.443434315419271\n"
     ]
    }
   ],
   "source": [
    "tX_validation_clean_poly = build_poly_2D(tX_validation_clean, 3)\n",
    "print(\"Clean training loss : {}\".format(calculate_loss(y_train_clean_logistic, tX_train_clean_poly, weights_clean)))\n",
    "print(\"Clean validation loss : {}\".format(calculate_loss(y_validation_clean_logistic, tX_validation_clean_poly, weights_clean)))"
   ]
  },
  {
   "cell_type": "markdown",
   "metadata": {},
   "source": [
    "### Regularized Logistic Regression"
   ]
  },
  {
   "cell_type": "markdown",
   "metadata": {},
   "source": [
    "## Generate predictions and save ouput in csv format for submission:"
   ]
  },
  {
   "cell_type": "code",
   "execution_count": 112,
   "metadata": {
    "ExecuteTime": {
     "end_time": "2020-10-19T18:14:30.576758Z",
     "start_time": "2020-10-19T18:14:07.765805Z"
    }
   },
   "outputs": [
    {
     "name": "stdout",
     "output_type": "stream",
     "text": [
      "[-1. -1.  1. ...  1.  1.  1.]\n"
     ]
    }
   ],
   "source": [
    "#This enable to run all cells without running this one when unnecessary\n",
    "if True :\n",
    "    y_test, tX_test, ids_test = load_csv_data(DATA_TEST_PATH)\n",
    "    y_test_clean, tX_test_clean, ids_test_clean = clean_test(y_test, tX_test, ids_test)\n",
    "    OUTPUT_PATH = DATA_FOLDER + 'submission.csv' \n",
    "    if True: ## Only for logistic regression, will de something nice later\n",
    "        y_pred = predict_labels_logistic(weights_clean, tX_test_clean_poly)\n",
    "    else:\n",
    "        y_pred = predict_labels(weights_clean, tX_test_clean)\n",
    "    print(y_pred)\n",
    "    create_csv_submission(ids_test_clean, y_pred, OUTPUT_PATH)\n",
    "else :\n",
    "    print(\"Change False to True to generate prediction\")"
   ]
  },
  {
   "cell_type": "code",
   "execution_count": 101,
   "metadata": {},
   "outputs": [],
   "source": [
    "tX_test_clean_poly = build_poly_2D(tX_test_clean, 3)"
   ]
  },
  {
   "cell_type": "code",
   "execution_count": null,
   "metadata": {},
   "outputs": [],
   "source": []
  }
 ],
 "metadata": {
  "anaconda-cloud": {},
  "kernelspec": {
   "display_name": "Python 3",
   "language": "python",
   "name": "python3"
  },
  "language_info": {
   "codemirror_mode": {
    "name": "ipython",
    "version": 3
   },
   "file_extension": ".py",
   "mimetype": "text/x-python",
   "name": "python",
   "nbconvert_exporter": "python",
   "pygments_lexer": "ipython3",
   "version": "3.8.2"
  },
  "toc": {
   "base_numbering": 1,
   "nav_menu": {},
   "number_sections": true,
   "sideBar": true,
   "skip_h1_title": false,
   "title_cell": "Table of Contents",
   "title_sidebar": "Contents",
   "toc_cell": false,
   "toc_position": {},
   "toc_section_display": true,
   "toc_window_display": false
  }
 },
 "nbformat": 4,
 "nbformat_minor": 4
}
