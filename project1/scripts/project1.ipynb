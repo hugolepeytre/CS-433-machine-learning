{
 "cells": [
  {
   "cell_type": "code",
   "execution_count": 1,
   "metadata": {
    "ExecuteTime": {
     "end_time": "2020-10-24T13:26:51.623820Z",
     "start_time": "2020-10-24T13:26:51.279912Z"
    }
   },
   "outputs": [],
   "source": [
    "# Useful starting lines\n",
    "%matplotlib inline\n",
    "import numpy as np\n",
    "import matplotlib.pyplot as plt\n",
    "%load_ext autoreload\n",
    "%autoreload 2"
   ]
  },
  {
   "cell_type": "code",
   "execution_count": 2,
   "metadata": {
    "ExecuteTime": {
     "end_time": "2020-10-24T13:26:51.656546Z",
     "start_time": "2020-10-24T13:26:51.625618Z"
    }
   },
   "outputs": [],
   "source": [
    "DATA_FOLDER = '../data/'\n",
    "DATA_ZIP = DATA_FOLDER + 'datasets.zip'\n",
    "\n",
    "DATA_TRAIN_PATH = DATA_FOLDER + 'train.csv'\n",
    "DATA_TEST_PATH = DATA_FOLDER + 'test.csv' "
   ]
  },
  {
   "cell_type": "markdown",
   "metadata": {},
   "source": [
    "# Load the training data"
   ]
  },
  {
   "cell_type": "code",
   "execution_count": 3,
   "metadata": {
    "ExecuteTime": {
     "end_time": "2020-10-24T13:27:01.322557Z",
     "start_time": "2020-10-24T13:26:52.284885Z"
    }
   },
   "outputs": [
    {
     "name": "stdout",
     "output_type": "stream",
     "text": [
      "TODO: only remove outliers when max - min > threshold like 10\n",
      "    Doubt with DER_deltar_tau_lep and PRI_jet_all_pt\n",
      "(153682, 30)\n",
      "TODO: only remove outliers when max - min > threshold like 10\n",
      "    Doubt with DER_deltar_tau_lep and PRI_jet_all_pt\n",
      "(153655, 30)\n"
     ]
    }
   ],
   "source": [
    "from proj1_helpers import *\n",
    "from split_data import *\n",
    "from data_processing import *\n",
    "\n",
    "y, tX, ids = load_csv_data(DATA_TRAIN_PATH)\n",
    "y_clean, tX_clean, ids_clean = clean_training(y, tX, ids)"
   ]
  },
  {
   "cell_type": "markdown",
   "metadata": {},
   "source": [
    "# Creating training and vallidation sets"
   ]
  },
  {
   "cell_type": "code",
   "execution_count": 4,
   "metadata": {
    "ExecuteTime": {
     "end_time": "2020-10-23T17:06:24.843699Z",
     "start_time": "2020-10-23T17:06:24.689538Z"
    }
   },
   "outputs": [],
   "source": [
    "split_ratio = 0.5\n",
    "tX_train, tX_validation, y_train, y_validation = split_data(tX, y, split_ratio)\n",
    "tX_train_clean, tX_validation_clean, y_train_clean, y_validation_clean = split_data(tX_clean, y_clean, split_ratio)"
   ]
  },
  {
   "cell_type": "code",
   "execution_count": 5,
   "metadata": {
    "ExecuteTime": {
     "end_time": "2020-10-23T17:06:27.002354Z",
     "start_time": "2020-10-23T17:06:26.960973Z"
    }
   },
   "outputs": [
    {
     "name": "stdout",
     "output_type": "stream",
     "text": [
      "Raw set : \n",
      "               Training       Validation     \n",
      "Features       (125000, 30)   (125000, 30)   \n",
      "Labels         (125000,)      (125000,)      \n",
      "\n",
      "Clean set : \n",
      "               Training       Validation     \n",
      "Features       (76828, 30)    (76827, 30)    \n",
      "Labels         (76828,)       (76827,)       \n"
     ]
    }
   ],
   "source": [
    "print(\"Raw set : \")\n",
    "row_format = \"{:<15}\" * 3\n",
    "print(row_format.format(\"\", \"Training\", \"Validation\"))\n",
    "print(row_format.format(\"Features\", str(tX_train.shape), str(tX_validation.shape)))\n",
    "print(row_format.format(\"Labels\", str(y_train.shape), str(y_validation.shape)))\n",
    "\n",
    "print(\"\\nClean set : \")\n",
    "row_format = \"{:<15}\" * 3\n",
    "print(row_format.format(\"\", \"Training\", \"Validation\"))\n",
    "print(row_format.format(\"Features\", str(tX_train_clean.shape), str(tX_validation_clean.shape)))\n",
    "print(row_format.format(\"Labels\", str(y_train_clean.shape), str(y_validation_clean.shape)))"
   ]
  },
  {
   "cell_type": "markdown",
   "metadata": {},
   "source": [
    "# Testing every basic model on cleaned data"
   ]
  },
  {
   "cell_type": "code",
   "execution_count": 5,
   "metadata": {
    "ExecuteTime": {
     "end_time": "2020-10-24T13:29:37.455669Z",
     "start_time": "2020-10-24T13:29:37.410189Z"
    }
   },
   "outputs": [],
   "source": [
    "from pipeline import *\n",
    "from cross_validation import find_best_parameter"
   ]
  },
  {
   "cell_type": "markdown",
   "metadata": {},
   "source": [
    "### Gradient Descent"
   ]
  },
  {
   "cell_type": "code",
   "execution_count": 142,
   "metadata": {
    "ExecuteTime": {
     "end_time": "2020-10-23T16:52:59.288336Z",
     "start_time": "2020-10-23T16:52:56.978548Z"
    }
   },
   "outputs": [
    {
     "name": "stdout",
     "output_type": "stream",
     "text": [
      "Training loss : 0.31869817883105916\n",
      "Validation loss : 0.31956575907795126\n"
     ]
    }
   ],
   "source": [
    "max_iters = 100\n",
    "gamma = 0.1\n",
    "\n",
    "weights, loss = model_data(y_train_clean, tX_train_clean, 'gradient_descent', max_iters=max_iters, gamma=gamma)\n",
    "\n",
    "# Not compared with the not cleaned set, because it needs normalizing to work\n",
    "print(\"Training loss : {}\".format(loss))\n",
    "print(\"Validation loss : {}\".format(get_loss(y_validation_clean, tX_validation_clean, weights)))"
   ]
  },
  {
   "cell_type": "code",
   "execution_count": null,
   "metadata": {},
   "outputs": [],
   "source": [
    "gammas = np.logspace(-4, 0, 3)\n",
    "\n",
    "best_gamma = find_best_parameter(y_clean, tX_clean, 'gradient_descent', 'gamma', gammas, max_iters=100)"
   ]
  },
  {
   "cell_type": "markdown",
   "metadata": {},
   "source": [
    "### Stochastic Gradient Descent"
   ]
  },
  {
   "cell_type": "code",
   "execution_count": 309,
   "metadata": {
    "ExecuteTime": {
     "end_time": "2020-10-23T21:16:23.620950Z",
     "start_time": "2020-10-23T21:16:22.892870Z"
    }
   },
   "outputs": [
    {
     "name": "stdout",
     "output_type": "stream",
     "text": [
      "0.5\n",
      "0.3983498440552132\n",
      "0.3665718574226868\n",
      "0.3653299257994504\n",
      "0.34024460019402053\n",
      "0.3424230273665288\n",
      "0.34428504453936976\n",
      "0.3247905149846535\n",
      "0.34829301260695084\n",
      "0.33791115029018653\n",
      "0.29724621046231814\n",
      "0.33174055169980454\n",
      "0.29634935452470457\n",
      "0.2975509957347914\n",
      "0.3149908434082841\n",
      "0.30079307291162527\n",
      "0.30841592022571834\n",
      "0.32477531547760363\n",
      "0.33213945697302405\n",
      "0.3116045213437086\n",
      "0.3321214383023717\n",
      "0.30465860200583705\n",
      "0.3097517625070477\n",
      "0.28106556202536603\n",
      "0.3136668069175507\n",
      "0.3034411508394746\n",
      "0.30381617674865213\n",
      "0.2835462485250042\n",
      "0.3133689939139692\n",
      "0.3094165034600658\n",
      "0.294562858616755\n",
      "0.29937959777274137\n",
      "0.3287753474664995\n",
      "0.3037614795748445\n",
      "0.28646314114104265\n",
      "0.285106029757153\n",
      "0.31387755754833774\n",
      "0.3171544702784554\n",
      "0.30884335192593215\n",
      "0.3139519167366284\n",
      "0.3219194450596008\n",
      "0.30166540633221667\n",
      "0.296270953614993\n",
      "0.2897790182973687\n",
      "0.33995975353464736\n",
      "0.2960806136296746\n",
      "0.3154369129420398\n",
      "0.2848849000656758\n",
      "0.31509794103788297\n",
      "0.277662148474128\n",
      "0.31377903982192845\n",
      "0.2958592878324341\n",
      "0.32337791499455204\n",
      "0.2789900783558055\n",
      "0.3213564905175817\n",
      "0.3207536985494469\n",
      "0.3116114524938954\n",
      "0.32292501065434037\n",
      "0.2984891978552231\n",
      "0.2830024620067038\n",
      "0.30143780481460825\n",
      "0.2820209487170227\n",
      "0.30678983340710725\n",
      "0.3181592506727977\n",
      "0.2998042976057503\n",
      "0.2918199331168051\n",
      "0.2607782303364971\n",
      "0.2865462663056211\n",
      "0.3067849354137438\n",
      "0.2742480519521817\n",
      "0.2970910673104916\n",
      "0.3006018377664002\n",
      "0.2914291217406942\n",
      "0.2901289624420761\n",
      "0.3138282112868246\n",
      "0.27370047914634776\n",
      "0.30798583066466156\n",
      "0.3028380242816713\n",
      "0.2721625331356193\n",
      "0.29376636658101807\n",
      "0.31112182287950946\n",
      "0.28391556275584984\n",
      "0.30823527657852534\n",
      "0.32101298344568535\n",
      "0.30021890107208915\n",
      "0.32310472632666837\n",
      "0.2679353775765789\n",
      "0.30699544639391335\n",
      "0.2978786129117438\n",
      "0.28841369826698404\n",
      "0.2773489593163153\n",
      "0.2731702881625906\n",
      "0.31288309729706487\n",
      "0.3051204556970747\n",
      "0.31468994780199994\n",
      "0.29262181647223434\n",
      "0.27816662005741477\n",
      "0.26558748520954806\n",
      "0.29155891084031804\n",
      "0.2569606099287854\n",
      "Training loss : 0.2569606099287854\n",
      "Validation loss : 0.29302015074859644\n"
     ]
    }
   ],
   "source": [
    "max_iters = 100\n",
    "gamma = 0.03\n",
    "\n",
    "weights, loss = model_data(y_clean, tX_clean, 'stochastic_gradient_descent', max_iters=max_iters, gamma=gamma, poly_exp=2)\n",
    "\n",
    "# Not compared with the not cleaned set, because it needs normalizing to work\n",
    "print(\"Training loss : {}\".format(loss))\n",
    "print(\"Validation loss : {}\".format(get_loss(y_validation_clean, build_poly_2D(tX_validation_clean, 2), weights)))"
   ]
  },
  {
   "cell_type": "code",
   "execution_count": 311,
   "metadata": {
    "ExecuteTime": {
     "end_time": "2020-10-23T21:17:47.894340Z",
     "start_time": "2020-10-23T21:16:51.820820Z"
    }
   },
   "outputs": [
    {
     "data": {
      "image/png": "[encoded data removed]",
      "text/plain": [
       "<Figure size 432x288 with 1 Axes>"
      ]
     },
     "metadata": {
      "needs_background": "light"
     },
     "output_type": "display_data"
    },
    {
     "name": "stdout",
     "output_type": "stream",
     "text": [
      "Best gamma is 0.02481628922836824 with loss 0.2933073866694787\n"
     ]
    }
   ],
   "source": [
    "gammas = np.logspace(-4, -0.5, 20)\n",
    "\n",
    "best_gamma, best_loss = find_best_parameter(y_clean, tX_clean, 'stochastic_gradient_descent', 'gamma', gammas, max_iters=100, poly_exp=2)\n",
    "print(\"Best gamma is {} with loss {}\".format(best_gamma, best_loss))"
   ]
  },
  {
   "cell_type": "code",
   "execution_count": 175,
   "metadata": {
    "ExecuteTime": {
     "end_time": "2020-10-23T17:22:10.480273Z",
     "start_time": "2020-10-23T17:21:23.542006Z"
    }
   },
   "outputs": [
    {
     "data": {
      "image/png": "[encoded data removed]",
      "text/plain": [
       "<Figure size 432x288 with 1 Axes>"
      ]
     },
     "metadata": {
      "needs_background": "light"
     },
     "output_type": "display_data"
    },
    {
     "name": "stdout",
     "output_type": "stream",
     "text": [
      "Best max_iters is 180 with loss 0.3165231580877593\n"
     ]
    }
   ],
   "source": [
    "max_iter_values = (np.arange(30)+1)*10\n",
    "\n",
    "best_iter, best_loss = find_best_parameter(y_clean, tX_clean, 'stochastic_gradient_descent', 'max_iters', max_iter_values, logspace=False, gamma=0.3, poly_exp=1)\n",
    "print(\"Best max_iters is {} with loss {}\".format(best_iter, best_loss))"
   ]
  },
  {
   "cell_type": "code",
   "execution_count": 263,
   "metadata": {
    "ExecuteTime": {
     "end_time": "2020-10-23T19:25:23.837241Z",
     "start_time": "2020-10-23T19:25:06.152925Z"
    }
   },
   "outputs": [
    {
     "data": {
      "image/png": "[encoded data removed]",
      "text/plain": [
       "<Figure size 432x288 with 1 Axes>"
      ]
     },
     "metadata": {
      "needs_background": "light"
     },
     "output_type": "display_data"
    },
    {
     "name": "stdout",
     "output_type": "stream",
     "text": [
      "Best max_iters is 2 with loss 0.2921937570762111\n"
     ]
    }
   ],
   "source": [
    "expansion_values = [1, 2, 3]\n",
    "\n",
    "best_iter, best_loss = find_best_parameter(y_clean, tX_clean, 'stochastic_gradient_descent', 'poly_exp', expansion_values, logspace=False, k_fold=4, max_iters=100, gamma=0.03)\n",
    "print(\"Best max_iters is {} with loss {}\".format(best_iter, best_loss))"
   ]
  },
  {
   "cell_type": "markdown",
   "metadata": {},
   "source": [
    "### Least Squares"
   ]
  },
  {
   "cell_type": "code",
   "execution_count": 7,
   "metadata": {
    "ExecuteTime": {
     "end_time": "2020-10-24T13:32:11.644647Z",
     "start_time": "2020-10-24T13:30:19.263914Z"
    },
    "scrolled": true
   },
   "outputs": [
    {
     "name": "stdout",
     "output_type": "stream",
     "text": [
      "Rank of the matrix is 24, for D = 30\n",
      "Rank of the matrix is 24, for D = 30\n",
      "Rank of the matrix is 24, for D = 30\n",
      "Rank of the matrix is 24, for D = 30\n",
      "Rank of the matrix is 24, for D = 30\n",
      "Rank of the matrix is 24, for D = 30\n",
      "Rank of the matrix is 24, for D = 30\n",
      "Rank of the matrix is 24, for D = 30\n",
      "Rank of the matrix is 45, for D = 60\n",
      "Rank of the matrix is 45, for D = 60\n",
      "Rank of the matrix is 45, for D = 60\n",
      "Rank of the matrix is 45, for D = 60\n",
      "Rank of the matrix is 66, for D = 90\n",
      "Rank of the matrix is 66, for D = 90\n",
      "Rank of the matrix is 66, for D = 90\n",
      "Rank of the matrix is 66, for D = 90\n",
      "Rank of the matrix is 87, for D = 120\n",
      "Rank of the matrix is 87, for D = 120\n",
      "Rank of the matrix is 87, for D = 120\n",
      "Rank of the matrix is 87, for D = 120\n",
      "Rank of the matrix is 107, for D = 150\n",
      "Rank of the matrix is 107, for D = 150\n",
      "Rank of the matrix is 107, for D = 150\n",
      "Rank of the matrix is 107, for D = 150\n",
      "Rank of the matrix is 127, for D = 180\n",
      "Rank of the matrix is 127, for D = 180\n",
      "Rank of the matrix is 127, for D = 180\n",
      "Rank of the matrix is 127, for D = 180\n",
      "Rank of the matrix is 147, for D = 210\n",
      "Rank of the matrix is 147, for D = 210\n",
      "Rank of the matrix is 147, for D = 210\n",
      "Rank of the matrix is 147, for D = 210\n",
      "Rank of the matrix is 167, for D = 240\n",
      "Rank of the matrix is 167, for D = 240\n",
      "Rank of the matrix is 167, for D = 240\n",
      "Rank of the matrix is 167, for D = 240\n",
      "Rank of the matrix is 179, for D = 270\n",
      "Rank of the matrix is 179, for D = 270\n",
      "Rank of the matrix is 179, for D = 270\n",
      "Rank of the matrix is 180, for D = 270\n",
      "Rank of the matrix is 156, for D = 300\n",
      "Rank of the matrix is 156, for D = 300\n",
      "Rank of the matrix is 156, for D = 300\n",
      "Rank of the matrix is 157, for D = 300\n",
      "Rank of the matrix is 121, for D = 330\n",
      "Rank of the matrix is 121, for D = 330\n",
      "Rank of the matrix is 122, for D = 330\n",
      "Rank of the matrix is 122, for D = 330\n",
      "Rank of the matrix is 98, for D = 360\n",
      "Rank of the matrix is 98, for D = 360\n",
      "Rank of the matrix is 99, for D = 360\n",
      "Rank of the matrix is 100, for D = 360\n",
      "Rank of the matrix is 82, for D = 390\n",
      "Rank of the matrix is 82, for D = 390\n",
      "Rank of the matrix is 83, for D = 390\n",
      "Rank of the matrix is 83, for D = 390\n"
     ]
    },
    {
     "ename": "KeyboardInterrupt",
     "evalue": "",
     "output_type": "error",
     "traceback": [
      "\u001b[1;31m---------------------------------------------------------------------------\u001b[0m",
      "\u001b[1;31mKeyboardInterrupt\u001b[0m                         Traceback (most recent call last)",
      "\u001b[1;32m<ipython-input-7-c461d528ea45>\u001b[0m in \u001b[0;36m<module>\u001b[1;34m\u001b[0m\n\u001b[0;32m      1\u001b[0m \u001b[0mexpansion_values\u001b[0m \u001b[1;33m=\u001b[0m \u001b[0mnp\u001b[0m\u001b[1;33m.\u001b[0m\u001b[0marange\u001b[0m\u001b[1;33m(\u001b[0m\u001b[1;36m20\u001b[0m\u001b[1;33m)\u001b[0m\u001b[1;33m\u001b[0m\u001b[1;33m\u001b[0m\u001b[0m\n\u001b[0;32m      2\u001b[0m \u001b[1;33m\u001b[0m\u001b[0m\n\u001b[1;32m----> 3\u001b[1;33m \u001b[0mbest_iter\u001b[0m\u001b[1;33m,\u001b[0m \u001b[0mbest_loss\u001b[0m \u001b[1;33m=\u001b[0m \u001b[0mfind_best_parameter\u001b[0m\u001b[1;33m(\u001b[0m\u001b[0my_clean\u001b[0m\u001b[1;33m,\u001b[0m \u001b[0mtX_clean\u001b[0m\u001b[1;33m,\u001b[0m \u001b[1;34m'least_squares'\u001b[0m\u001b[1;33m,\u001b[0m \u001b[1;34m'poly_exp'\u001b[0m\u001b[1;33m,\u001b[0m \u001b[0mexpansion_values\u001b[0m\u001b[1;33m,\u001b[0m \u001b[0mlogspace\u001b[0m\u001b[1;33m=\u001b[0m\u001b[1;32mFalse\u001b[0m\u001b[1;33m)\u001b[0m\u001b[1;33m\u001b[0m\u001b[1;33m\u001b[0m\u001b[0m\n\u001b[0m\u001b[0;32m      4\u001b[0m \u001b[0mprint\u001b[0m\u001b[1;33m(\u001b[0m\u001b[1;34m\"Best max_iters is {} with loss {}\"\u001b[0m\u001b[1;33m.\u001b[0m\u001b[0mformat\u001b[0m\u001b[1;33m(\u001b[0m\u001b[0mbest_iter\u001b[0m\u001b[1;33m,\u001b[0m \u001b[0mbest_loss\u001b[0m\u001b[1;33m)\u001b[0m\u001b[1;33m)\u001b[0m\u001b[1;33m\u001b[0m\u001b[1;33m\u001b[0m\u001b[0m\n",
      "\u001b[1;32m~\\Desktop\\Desktop\\EPFL\\Master\\MA1\\CS-433 - Machine Learning\\CS-433-machine-learning\\project1\\scripts\\cross_validation.py\u001b[0m in \u001b[0;36mfind_best_parameter\u001b[1;34m(y, tx, model, param, values, logspace, k_fold, initial_w, max_iters, gamma, lambda_, poly_exp, seed)\u001b[0m\n\u001b[0;32m     42\u001b[0m                 \u001b[0mloss_t\u001b[0m\u001b[1;33m,\u001b[0m \u001b[0mloss_v\u001b[0m \u001b[1;33m=\u001b[0m \u001b[0mcross_validation\u001b[0m\u001b[1;33m(\u001b[0m\u001b[0my\u001b[0m\u001b[1;33m,\u001b[0m \u001b[0mtx\u001b[0m\u001b[1;33m,\u001b[0m \u001b[0mk_indices\u001b[0m\u001b[1;33m,\u001b[0m \u001b[0mk\u001b[0m\u001b[1;33m,\u001b[0m \u001b[0mmodel\u001b[0m\u001b[1;33m,\u001b[0m \u001b[0minitial_w\u001b[0m\u001b[1;33m,\u001b[0m \u001b[0mmax_iters\u001b[0m\u001b[1;33m,\u001b[0m \u001b[0mgamma\u001b[0m\u001b[1;33m,\u001b[0m \u001b[0mv\u001b[0m\u001b[1;33m,\u001b[0m \u001b[0mpoly_exp\u001b[0m\u001b[1;33m)\u001b[0m\u001b[1;33m\u001b[0m\u001b[1;33m\u001b[0m\u001b[0m\n\u001b[0;32m     43\u001b[0m             \u001b[1;32melif\u001b[0m \u001b[0mparam\u001b[0m \u001b[1;33m==\u001b[0m \u001b[1;34m'poly_exp'\u001b[0m\u001b[1;33m:\u001b[0m\u001b[1;33m\u001b[0m\u001b[1;33m\u001b[0m\u001b[0m\n\u001b[1;32m---> 44\u001b[1;33m                 \u001b[0mloss_t\u001b[0m\u001b[1;33m,\u001b[0m \u001b[0mloss_v\u001b[0m \u001b[1;33m=\u001b[0m \u001b[0mcross_validation\u001b[0m\u001b[1;33m(\u001b[0m\u001b[0my\u001b[0m\u001b[1;33m,\u001b[0m \u001b[0mtx\u001b[0m\u001b[1;33m,\u001b[0m \u001b[0mk_indices\u001b[0m\u001b[1;33m,\u001b[0m \u001b[0mk\u001b[0m\u001b[1;33m,\u001b[0m \u001b[0mmodel\u001b[0m\u001b[1;33m,\u001b[0m \u001b[0minitial_w\u001b[0m\u001b[1;33m,\u001b[0m \u001b[0mmax_iters\u001b[0m\u001b[1;33m,\u001b[0m \u001b[0mgamma\u001b[0m\u001b[1;33m,\u001b[0m \u001b[0mlambda_\u001b[0m\u001b[1;33m,\u001b[0m \u001b[0mv\u001b[0m\u001b[1;33m)\u001b[0m\u001b[1;33m\u001b[0m\u001b[1;33m\u001b[0m\u001b[0m\n\u001b[0m\u001b[0;32m     45\u001b[0m             \u001b[1;32melse\u001b[0m\u001b[1;33m:\u001b[0m\u001b[1;33m\u001b[0m\u001b[1;33m\u001b[0m\u001b[0m\n\u001b[0;32m     46\u001b[0m                 \u001b[1;32mraise\u001b[0m \u001b[0mValueError\u001b[0m\u001b[1;33m(\u001b[0m\u001b[1;34m'Invalid parameter'\u001b[0m\u001b[1;33m)\u001b[0m\u001b[1;33m\u001b[0m\u001b[1;33m\u001b[0m\u001b[0m\n",
      "\u001b[1;31mKeyboardInterrupt\u001b[0m: "
     ]
    }
   ],
   "source": [
    "expansion_values = np.arange(20)\n",
    "\n",
    "best_iter, best_loss = find_best_parameter(y_clean, tX_clean, 'least_squares', 'poly_exp', expansion_values, logspace=False)\n",
    "print(\"Best max_iters is {} with loss {}\".format(best_iter, best_loss))"
   ]
  },
  {
   "cell_type": "code",
   "execution_count": 25,
   "metadata": {
    "ExecuteTime": {
     "end_time": "2020-10-24T13:41:36.168844Z",
     "start_time": "2020-10-24T13:41:35.975976Z"
    }
   },
   "outputs": [
    {
     "name": "stdout",
     "output_type": "stream",
     "text": [
      "(30,)\n",
      "[  5955      1      2      4 125986 125982 125985    111      6      0\n",
      "    129   1340 127007      7     48     47      6     41     52      5\n",
      "     34      0  76101  39913  39923  39923 125982 125983 125984  39913]\n",
      "(250000, 30)\n"
     ]
    }
   ],
   "source": [
    "print(build_poly_2D(tX_clean))"
   ]
  },
  {
   "cell_type": "code",
   "execution_count": 37,
   "metadata": {
    "ExecuteTime": {
     "end_time": "2020-10-24T13:58:19.828579Z",
     "start_time": "2020-10-24T13:58:18.994471Z"
    }
   },
   "outputs": [
    {
     "name": "stdout",
     "output_type": "stream",
     "text": [
      "0\n",
      "(75828,)\n",
      "(108338,)\n",
      "1\n",
      "(81220,)\n",
      "(101637,)\n",
      "2\n",
      "(72757,)\n",
      "(100558,)\n",
      "3\n",
      "(65680,)\n",
      "(115563,)\n",
      "4\n",
      "(1,)\n",
      "(7087,)\n",
      "5\n",
      "(1,)\n",
      "(68366,)\n",
      "6\n",
      "(1,)\n",
      "(16593,)\n",
      "7\n",
      "(3720,)\n",
      "(4692,)\n",
      "8\n",
      "(40161,)\n",
      "(59042,)\n",
      "9\n",
      "(85073,)\n",
      "(156098,)\n",
      "10\n",
      "(2769,)\n",
      "(5931,)\n",
      "11\n",
      "(2829,)\n",
      "(2829,)\n",
      "12\n",
      "(1,)\n",
      "(1002,)\n",
      "13\n",
      "(40331,)\n",
      "(59639,)\n",
      "14\n",
      "(4963,)\n",
      "(4971,)\n",
      "15\n",
      "(6285,)\n",
      "(6285,)\n",
      "16\n",
      "(41029,)\n",
      "(61929,)\n",
      "17\n",
      "(4977,)\n",
      "(4987,)\n",
      "18\n",
      "(6285,)\n",
      "(6285,)\n",
      "19\n",
      "(60813,)\n",
      "(87836,)\n",
      "20\n",
      "(6285,)\n",
      "(6285,)\n",
      "21\n",
      "(110839,)\n",
      "(179740,)\n",
      "22\n",
      "(2,)\n",
      "(4,)\n",
      "23\n",
      "(38291,)\n",
      "(86590,)\n",
      "24\n",
      "(8271,)\n",
      "(8558,)\n",
      "25\n",
      "(6283,)\n",
      "(6285,)\n",
      "26\n",
      "(1,)\n",
      "(42464,)\n",
      "27\n",
      "(1,)\n",
      "(8628,)\n",
      "28\n",
      "(1,)\n",
      "(6286,)\n",
      "29\n",
      "(38299,)\n",
      "(103559,)\n"
     ]
    }
   ],
   "source": [
    "for i in range(len(tX_clean.T)):\n",
    "    print(i)\n",
    "    print(np.unique(tX_clean.T[i]).shape)\n",
    "    print(np.unique(tX.T[i]).shape)"
   ]
  },
  {
   "cell_type": "markdown",
   "metadata": {},
   "source": [
    "### Ridge Regression"
   ]
  },
  {
   "cell_type": "code",
   "execution_count": 8,
   "metadata": {
    "ExecuteTime": {
     "end_time": "2020-10-24T13:32:37.311519Z",
     "start_time": "2020-10-24T13:32:31.512908Z"
    }
   },
   "outputs": [
    {
     "name": "stdout",
     "output_type": "stream",
     "text": [
      "Rank of the matrix is 24, for D = 30\n",
      "Rank of the matrix is 24, for D = 30\n",
      "Rank of the matrix is 24, for D = 30\n",
      "Rank of the matrix is 24, for D = 30\n",
      "Rank of the matrix is 24, for D = 30\n",
      "Rank of the matrix is 24, for D = 30\n",
      "Rank of the matrix is 24, for D = 30\n",
      "Rank of the matrix is 24, for D = 30\n",
      "Rank of the matrix is 45, for D = 60\n",
      "Rank of the matrix is 45, for D = 60\n",
      "Rank of the matrix is 45, for D = 60\n",
      "Rank of the matrix is 45, for D = 60\n",
      "Rank of the matrix is 66, for D = 90\n",
      "Rank of the matrix is 66, for D = 90\n",
      "Rank of the matrix is 66, for D = 90\n",
      "Rank of the matrix is 66, for D = 90\n",
      "Rank of the matrix is 87, for D = 120\n"
     ]
    },
    {
     "ename": "KeyboardInterrupt",
     "evalue": "",
     "output_type": "error",
     "traceback": [
      "\u001b[1;31m---------------------------------------------------------------------------\u001b[0m",
      "\u001b[1;31mKeyboardInterrupt\u001b[0m                         Traceback (most recent call last)",
      "\u001b[1;32m<ipython-input-8-c461d528ea45>\u001b[0m in \u001b[0;36m<module>\u001b[1;34m\u001b[0m\n\u001b[0;32m      1\u001b[0m \u001b[0mexpansion_values\u001b[0m \u001b[1;33m=\u001b[0m \u001b[0mnp\u001b[0m\u001b[1;33m.\u001b[0m\u001b[0marange\u001b[0m\u001b[1;33m(\u001b[0m\u001b[1;36m20\u001b[0m\u001b[1;33m)\u001b[0m\u001b[1;33m\u001b[0m\u001b[1;33m\u001b[0m\u001b[0m\n\u001b[0;32m      2\u001b[0m \u001b[1;33m\u001b[0m\u001b[0m\n\u001b[1;32m----> 3\u001b[1;33m \u001b[0mbest_iter\u001b[0m\u001b[1;33m,\u001b[0m \u001b[0mbest_loss\u001b[0m \u001b[1;33m=\u001b[0m \u001b[0mfind_best_parameter\u001b[0m\u001b[1;33m(\u001b[0m\u001b[0my_clean\u001b[0m\u001b[1;33m,\u001b[0m \u001b[0mtX_clean\u001b[0m\u001b[1;33m,\u001b[0m \u001b[1;34m'least_squares'\u001b[0m\u001b[1;33m,\u001b[0m \u001b[1;34m'poly_exp'\u001b[0m\u001b[1;33m,\u001b[0m \u001b[0mexpansion_values\u001b[0m\u001b[1;33m,\u001b[0m \u001b[0mlogspace\u001b[0m\u001b[1;33m=\u001b[0m\u001b[1;32mFalse\u001b[0m\u001b[1;33m)\u001b[0m\u001b[1;33m\u001b[0m\u001b[1;33m\u001b[0m\u001b[0m\n\u001b[0m\u001b[0;32m      4\u001b[0m \u001b[0mprint\u001b[0m\u001b[1;33m(\u001b[0m\u001b[1;34m\"Best max_iters is {} with loss {}\"\u001b[0m\u001b[1;33m.\u001b[0m\u001b[0mformat\u001b[0m\u001b[1;33m(\u001b[0m\u001b[0mbest_iter\u001b[0m\u001b[1;33m,\u001b[0m \u001b[0mbest_loss\u001b[0m\u001b[1;33m)\u001b[0m\u001b[1;33m)\u001b[0m\u001b[1;33m\u001b[0m\u001b[1;33m\u001b[0m\u001b[0m\n",
      "\u001b[1;32m~\\Desktop\\Desktop\\EPFL\\Master\\MA1\\CS-433 - Machine Learning\\CS-433-machine-learning\\project1\\scripts\\cross_validation.py\u001b[0m in \u001b[0;36mfind_best_parameter\u001b[1;34m(y, tx, model, param, values, logspace, k_fold, initial_w, max_iters, gamma, lambda_, poly_exp, seed)\u001b[0m\n\u001b[0;32m     42\u001b[0m                 \u001b[0mloss_t\u001b[0m\u001b[1;33m,\u001b[0m \u001b[0mloss_v\u001b[0m \u001b[1;33m=\u001b[0m \u001b[0mcross_validation\u001b[0m\u001b[1;33m(\u001b[0m\u001b[0my\u001b[0m\u001b[1;33m,\u001b[0m \u001b[0mtx\u001b[0m\u001b[1;33m,\u001b[0m \u001b[0mk_indices\u001b[0m\u001b[1;33m,\u001b[0m \u001b[0mk\u001b[0m\u001b[1;33m,\u001b[0m \u001b[0mmodel\u001b[0m\u001b[1;33m,\u001b[0m \u001b[0minitial_w\u001b[0m\u001b[1;33m,\u001b[0m \u001b[0mmax_iters\u001b[0m\u001b[1;33m,\u001b[0m \u001b[0mgamma\u001b[0m\u001b[1;33m,\u001b[0m \u001b[0mv\u001b[0m\u001b[1;33m,\u001b[0m \u001b[0mpoly_exp\u001b[0m\u001b[1;33m)\u001b[0m\u001b[1;33m\u001b[0m\u001b[1;33m\u001b[0m\u001b[0m\n\u001b[0;32m     43\u001b[0m             \u001b[1;32melif\u001b[0m \u001b[0mparam\u001b[0m \u001b[1;33m==\u001b[0m \u001b[1;34m'poly_exp'\u001b[0m\u001b[1;33m:\u001b[0m\u001b[1;33m\u001b[0m\u001b[1;33m\u001b[0m\u001b[0m\n\u001b[1;32m---> 44\u001b[1;33m                 \u001b[0mloss_t\u001b[0m\u001b[1;33m,\u001b[0m \u001b[0mloss_v\u001b[0m \u001b[1;33m=\u001b[0m \u001b[0mcross_validation\u001b[0m\u001b[1;33m(\u001b[0m\u001b[0my\u001b[0m\u001b[1;33m,\u001b[0m \u001b[0mtx\u001b[0m\u001b[1;33m,\u001b[0m \u001b[0mk_indices\u001b[0m\u001b[1;33m,\u001b[0m \u001b[0mk\u001b[0m\u001b[1;33m,\u001b[0m \u001b[0mmodel\u001b[0m\u001b[1;33m,\u001b[0m \u001b[0minitial_w\u001b[0m\u001b[1;33m,\u001b[0m \u001b[0mmax_iters\u001b[0m\u001b[1;33m,\u001b[0m \u001b[0mgamma\u001b[0m\u001b[1;33m,\u001b[0m \u001b[0mlambda_\u001b[0m\u001b[1;33m,\u001b[0m \u001b[0mv\u001b[0m\u001b[1;33m)\u001b[0m\u001b[1;33m\u001b[0m\u001b[1;33m\u001b[0m\u001b[0m\n\u001b[0m\u001b[0;32m     45\u001b[0m             \u001b[1;32melse\u001b[0m\u001b[1;33m:\u001b[0m\u001b[1;33m\u001b[0m\u001b[1;33m\u001b[0m\u001b[0m\n\u001b[0;32m     46\u001b[0m                 \u001b[1;32mraise\u001b[0m \u001b[0mValueError\u001b[0m\u001b[1;33m(\u001b[0m\u001b[1;34m'Invalid parameter'\u001b[0m\u001b[1;33m)\u001b[0m\u001b[1;33m\u001b[0m\u001b[1;33m\u001b[0m\u001b[0m\n",
      "\u001b[1;32m~\\Desktop\\Desktop\\EPFL\\Master\\MA1\\CS-433 - Machine Learning\\CS-433-machine-learning\\project1\\scripts\\cross_validation.py\u001b[0m in \u001b[0;36mcross_validation\u001b[1;34m(y, tx, k_indices, k, model, initial_w, max_iters, gamma, lambda_, poly_exp)\u001b[0m\n\u001b[0;32m     88\u001b[0m     \u001b[1;31m# k-th group is test, the rest is train\u001b[0m\u001b[1;33m\u001b[0m\u001b[1;33m\u001b[0m\u001b[1;33m\u001b[0m\u001b[0m\n\u001b[0;32m     89\u001b[0m     \u001b[1;32mif\u001b[0m \u001b[0mpoly_exp\u001b[0m \u001b[1;33m>\u001b[0m \u001b[1;36m1\u001b[0m\u001b[1;33m:\u001b[0m\u001b[1;33m\u001b[0m\u001b[1;33m\u001b[0m\u001b[0m\n\u001b[1;32m---> 90\u001b[1;33m         \u001b[0mtx\u001b[0m \u001b[1;33m=\u001b[0m \u001b[0mbuild_poly_2D\u001b[0m\u001b[1;33m(\u001b[0m\u001b[0mtx\u001b[0m\u001b[1;33m,\u001b[0m \u001b[0mpoly_exp\u001b[0m\u001b[1;33m)\u001b[0m\u001b[1;33m\u001b[0m\u001b[1;33m\u001b[0m\u001b[0m\n\u001b[0m\u001b[0;32m     91\u001b[0m     \u001b[0mtesting_indices\u001b[0m \u001b[1;33m=\u001b[0m \u001b[0mk_indices\u001b[0m\u001b[1;33m[\u001b[0m\u001b[0mk\u001b[0m\u001b[1;33m]\u001b[0m\u001b[1;33m\u001b[0m\u001b[1;33m\u001b[0m\u001b[0m\n\u001b[0;32m     92\u001b[0m     \u001b[0mtraining_indices\u001b[0m \u001b[1;33m=\u001b[0m \u001b[1;33m[\u001b[0m\u001b[0midx\u001b[0m \u001b[1;32mfor\u001b[0m \u001b[0msubgroup\u001b[0m \u001b[1;32min\u001b[0m \u001b[0mnp\u001b[0m\u001b[1;33m.\u001b[0m\u001b[0mvstack\u001b[0m\u001b[1;33m(\u001b[0m\u001b[1;33m(\u001b[0m\u001b[0mk_indices\u001b[0m\u001b[1;33m[\u001b[0m\u001b[1;33m:\u001b[0m\u001b[0mk\u001b[0m\u001b[1;33m]\u001b[0m\u001b[1;33m,\u001b[0m \u001b[0mk_indices\u001b[0m\u001b[1;33m[\u001b[0m\u001b[0mk\u001b[0m\u001b[1;33m+\u001b[0m\u001b[1;36m1\u001b[0m\u001b[1;33m:\u001b[0m\u001b[1;33m]\u001b[0m\u001b[1;33m)\u001b[0m\u001b[1;33m)\u001b[0m \u001b[1;32mfor\u001b[0m \u001b[0midx\u001b[0m \u001b[1;32min\u001b[0m \u001b[0msubgroup\u001b[0m\u001b[1;33m]\u001b[0m\u001b[1;33m\u001b[0m\u001b[1;33m\u001b[0m\u001b[0m\n",
      "\u001b[1;32m~\\Desktop\\Desktop\\EPFL\\Master\\MA1\\CS-433 - Machine Learning\\CS-433-machine-learning\\project1\\scripts\\build_polynomial.py\u001b[0m in \u001b[0;36mbuild_poly_2D\u001b[1;34m(x, degree)\u001b[0m\n\u001b[0;32m     27\u001b[0m     \u001b[1;33m:\u001b[0m\u001b[1;32mreturn\u001b[0m\u001b[1;33m:\u001b[0m \u001b[0mMatrix\u001b[0m \u001b[0mof\u001b[0m \u001b[0mdimensions\u001b[0m \u001b[1;33m(\u001b[0m\u001b[0mx\u001b[0m\u001b[1;33m.\u001b[0m\u001b[0mshape\u001b[0m\u001b[1;33m[\u001b[0m\u001b[1;36m0\u001b[0m\u001b[1;33m]\u001b[0m\u001b[1;33m,\u001b[0m \u001b[0mx\u001b[0m\u001b[1;33m.\u001b[0m\u001b[0mshape\u001b[0m\u001b[1;33m[\u001b[0m\u001b[1;36m1\u001b[0m\u001b[1;33m]\u001b[0m \u001b[1;33m*\u001b[0m \u001b[1;33m(\u001b[0m\u001b[0mdegree\u001b[0m \u001b[1;33m+\u001b[0m \u001b[1;36m1\u001b[0m\u001b[1;33m)\u001b[0m\u001b[1;33m)\u001b[0m\u001b[1;33m\u001b[0m\u001b[1;33m\u001b[0m\u001b[0m\n\u001b[0;32m     28\u001b[0m     \"\"\"\n\u001b[1;32m---> 29\u001b[1;33m     \u001b[1;32mreturn\u001b[0m \u001b[0mnp\u001b[0m\u001b[1;33m.\u001b[0m\u001b[0mhstack\u001b[0m\u001b[1;33m(\u001b[0m\u001b[1;33m[\u001b[0m\u001b[0mbuild_poly\u001b[0m\u001b[1;33m(\u001b[0m\u001b[0mcolumn\u001b[0m\u001b[1;33m,\u001b[0m \u001b[0mdegree\u001b[0m\u001b[1;33m)\u001b[0m \u001b[1;32mfor\u001b[0m \u001b[0mcolumn\u001b[0m \u001b[1;32min\u001b[0m \u001b[0mx\u001b[0m\u001b[1;33m.\u001b[0m\u001b[0mT\u001b[0m\u001b[1;33m]\u001b[0m\u001b[1;33m)\u001b[0m\u001b[1;33m\u001b[0m\u001b[1;33m\u001b[0m\u001b[0m\n\u001b[0m",
      "\u001b[1;32m~\\Desktop\\Desktop\\EPFL\\Master\\MA1\\CS-433 - Machine Learning\\CS-433-machine-learning\\project1\\scripts\\build_polynomial.py\u001b[0m in \u001b[0;36m<listcomp>\u001b[1;34m(.0)\u001b[0m\n\u001b[0;32m     27\u001b[0m     \u001b[1;33m:\u001b[0m\u001b[1;32mreturn\u001b[0m\u001b[1;33m:\u001b[0m \u001b[0mMatrix\u001b[0m \u001b[0mof\u001b[0m \u001b[0mdimensions\u001b[0m \u001b[1;33m(\u001b[0m\u001b[0mx\u001b[0m\u001b[1;33m.\u001b[0m\u001b[0mshape\u001b[0m\u001b[1;33m[\u001b[0m\u001b[1;36m0\u001b[0m\u001b[1;33m]\u001b[0m\u001b[1;33m,\u001b[0m \u001b[0mx\u001b[0m\u001b[1;33m.\u001b[0m\u001b[0mshape\u001b[0m\u001b[1;33m[\u001b[0m\u001b[1;36m1\u001b[0m\u001b[1;33m]\u001b[0m \u001b[1;33m*\u001b[0m \u001b[1;33m(\u001b[0m\u001b[0mdegree\u001b[0m \u001b[1;33m+\u001b[0m \u001b[1;36m1\u001b[0m\u001b[1;33m)\u001b[0m\u001b[1;33m)\u001b[0m\u001b[1;33m\u001b[0m\u001b[1;33m\u001b[0m\u001b[0m\n\u001b[0;32m     28\u001b[0m     \"\"\"\n\u001b[1;32m---> 29\u001b[1;33m     \u001b[1;32mreturn\u001b[0m \u001b[0mnp\u001b[0m\u001b[1;33m.\u001b[0m\u001b[0mhstack\u001b[0m\u001b[1;33m(\u001b[0m\u001b[1;33m[\u001b[0m\u001b[0mbuild_poly\u001b[0m\u001b[1;33m(\u001b[0m\u001b[0mcolumn\u001b[0m\u001b[1;33m,\u001b[0m \u001b[0mdegree\u001b[0m\u001b[1;33m)\u001b[0m \u001b[1;32mfor\u001b[0m \u001b[0mcolumn\u001b[0m \u001b[1;32min\u001b[0m \u001b[0mx\u001b[0m\u001b[1;33m.\u001b[0m\u001b[0mT\u001b[0m\u001b[1;33m]\u001b[0m\u001b[1;33m)\u001b[0m\u001b[1;33m\u001b[0m\u001b[1;33m\u001b[0m\u001b[0m\n\u001b[0m",
      "\u001b[1;32m~\\Desktop\\Desktop\\EPFL\\Master\\MA1\\CS-433 - Machine Learning\\CS-433-machine-learning\\project1\\scripts\\build_polynomial.py\u001b[0m in \u001b[0;36mbuild_poly\u001b[1;34m(x, degree)\u001b[0m\n\u001b[0;32m     16\u001b[0m     \u001b[1;32mfor\u001b[0m \u001b[0mi\u001b[0m \u001b[1;32min\u001b[0m \u001b[0mrange\u001b[0m\u001b[1;33m(\u001b[0m\u001b[0mdegree\u001b[0m \u001b[1;33m-\u001b[0m \u001b[1;36m1\u001b[0m\u001b[1;33m)\u001b[0m\u001b[1;33m:\u001b[0m\u001b[1;33m\u001b[0m\u001b[1;33m\u001b[0m\u001b[0m\n\u001b[0;32m     17\u001b[0m         \u001b[0mcurrent\u001b[0m \u001b[1;33m=\u001b[0m \u001b[0mcurrent\u001b[0m\u001b[1;33m*\u001b[0m\u001b[0mx\u001b[0m\u001b[1;33m\u001b[0m\u001b[1;33m\u001b[0m\u001b[0m\n\u001b[1;32m---> 18\u001b[1;33m         \u001b[0mresult\u001b[0m \u001b[1;33m=\u001b[0m \u001b[0mnp\u001b[0m\u001b[1;33m.\u001b[0m\u001b[0mvstack\u001b[0m\u001b[1;33m(\u001b[0m\u001b[1;33m[\u001b[0m\u001b[0mresult\u001b[0m\u001b[1;33m,\u001b[0m \u001b[0mcurrent\u001b[0m\u001b[1;33m]\u001b[0m\u001b[1;33m)\u001b[0m\u001b[1;33m\u001b[0m\u001b[1;33m\u001b[0m\u001b[0m\n\u001b[0m\u001b[0;32m     19\u001b[0m     \u001b[1;32mreturn\u001b[0m \u001b[0mresult\u001b[0m\u001b[1;33m.\u001b[0m\u001b[0mT\u001b[0m\u001b[1;33m\u001b[0m\u001b[1;33m\u001b[0m\u001b[0m\n\u001b[0;32m     20\u001b[0m \u001b[1;33m\u001b[0m\u001b[0m\n",
      "\u001b[1;32m<__array_function__ internals>\u001b[0m in \u001b[0;36mvstack\u001b[1;34m(*args, **kwargs)\u001b[0m\n",
      "\u001b[1;32mc:\\users\\moi\\appdata\\local\\programs\\python\\python38\\lib\\site-packages\\numpy\\core\\shape_base.py\u001b[0m in \u001b[0;36mvstack\u001b[1;34m(tup)\u001b[0m\n\u001b[0;32m    281\u001b[0m     \u001b[1;32mif\u001b[0m \u001b[1;32mnot\u001b[0m \u001b[0misinstance\u001b[0m\u001b[1;33m(\u001b[0m\u001b[0marrs\u001b[0m\u001b[1;33m,\u001b[0m \u001b[0mlist\u001b[0m\u001b[1;33m)\u001b[0m\u001b[1;33m:\u001b[0m\u001b[1;33m\u001b[0m\u001b[1;33m\u001b[0m\u001b[0m\n\u001b[0;32m    282\u001b[0m         \u001b[0marrs\u001b[0m \u001b[1;33m=\u001b[0m \u001b[1;33m[\u001b[0m\u001b[0marrs\u001b[0m\u001b[1;33m]\u001b[0m\u001b[1;33m\u001b[0m\u001b[1;33m\u001b[0m\u001b[0m\n\u001b[1;32m--> 283\u001b[1;33m     \u001b[1;32mreturn\u001b[0m \u001b[0m_nx\u001b[0m\u001b[1;33m.\u001b[0m\u001b[0mconcatenate\u001b[0m\u001b[1;33m(\u001b[0m\u001b[0marrs\u001b[0m\u001b[1;33m,\u001b[0m \u001b[1;36m0\u001b[0m\u001b[1;33m)\u001b[0m\u001b[1;33m\u001b[0m\u001b[1;33m\u001b[0m\u001b[0m\n\u001b[0m\u001b[0;32m    284\u001b[0m \u001b[1;33m\u001b[0m\u001b[0m\n\u001b[0;32m    285\u001b[0m \u001b[1;33m\u001b[0m\u001b[0m\n",
      "\u001b[1;32m<__array_function__ internals>\u001b[0m in \u001b[0;36mconcatenate\u001b[1;34m(*args, **kwargs)\u001b[0m\n",
      "\u001b[1;31mKeyboardInterrupt\u001b[0m: "
     ]
    }
   ],
   "source": [
    "expansion_values = np.arange(20)\n",
    "\n",
    "best_iter, best_loss = find_best_parameter(y_clean, tX_clean, 'least_squares', 'poly_exp', expansion_values, logspace=False)\n",
    "print(\"Best max_iters is {} with loss {}\".format(best_iter, best_loss))"
   ]
  },
  {
   "cell_type": "code",
   "execution_count": 286,
   "metadata": {
    "ExecuteTime": {
     "end_time": "2020-10-23T21:05:10.701824Z",
     "start_time": "2020-10-23T21:01:47.169244Z"
    }
   },
   "outputs": [
    {
     "name": "stdout",
     "output_type": "stream",
     "text": [
      "(115239, 270)\n",
      "Matrix X^TX + lambda has rank  168\n",
      "(115239, 270)\n",
      "Matrix X^TX + lambda has rank  168\n",
      "(115239, 270)\n",
      "Matrix X^TX + lambda has rank  168\n",
      "(115239, 270)\n",
      "Matrix X^TX + lambda has rank  168\n",
      "(115239, 270)\n",
      "Matrix X^TX + lambda has rank  168\n",
      "(115239, 270)\n",
      "Matrix X^TX + lambda has rank  168\n",
      "(115239, 270)\n",
      "Matrix X^TX + lambda has rank  168\n",
      "(115239, 270)\n",
      "Matrix X^TX + lambda has rank  168\n",
      "(115239, 270)\n",
      "Matrix X^TX + lambda has rank  168\n",
      "(115239, 270)\n",
      "Matrix X^TX + lambda has rank  168\n",
      "(115239, 270)\n",
      "Matrix X^TX + lambda has rank  168\n",
      "(115239, 270)\n",
      "Matrix X^TX + lambda has rank  168\n",
      "(115239, 270)\n",
      "Matrix X^TX + lambda has rank  168\n",
      "(115239, 270)\n",
      "Matrix X^TX + lambda has rank  168\n",
      "(115239, 270)\n",
      "Matrix X^TX + lambda has rank  168\n",
      "(115239, 270)\n",
      "Matrix X^TX + lambda has rank  168\n",
      "(115239, 270)\n",
      "Matrix X^TX + lambda has rank  168\n",
      "(115239, 270)\n",
      "Matrix X^TX + lambda has rank  168\n",
      "(115239, 270)\n",
      "Matrix X^TX + lambda has rank  168\n",
      "(115239, 270)\n",
      "Matrix X^TX + lambda has rank  168\n",
      "(115239, 270)\n",
      "Matrix X^TX + lambda has rank  168\n",
      "(115239, 270)\n",
      "Matrix X^TX + lambda has rank  168\n",
      "(115239, 270)\n",
      "Matrix X^TX + lambda has rank  168\n",
      "(115239, 270)\n",
      "Matrix X^TX + lambda has rank  168\n",
      "(115239, 270)\n",
      "Matrix X^TX + lambda has rank  168\n",
      "(115239, 270)\n",
      "Matrix X^TX + lambda has rank  168\n",
      "(115239, 270)\n",
      "Matrix X^TX + lambda has rank  168\n",
      "(115239, 270)\n",
      "Matrix X^TX + lambda has rank  168\n",
      "(115239, 270)\n",
      "Matrix X^TX + lambda has rank  168\n",
      "(115239, 270)\n",
      "Matrix X^TX + lambda has rank  168\n",
      "(115239, 270)\n",
      "Matrix X^TX + lambda has rank  168\n",
      "(115239, 270)\n",
      "Matrix X^TX + lambda has rank  168\n",
      "(115239, 270)\n",
      "Matrix X^TX + lambda has rank  168\n",
      "(115239, 270)\n",
      "Matrix X^TX + lambda has rank  168\n",
      "(115239, 270)\n",
      "Matrix X^TX + lambda has rank  168\n",
      "(115239, 270)\n",
      "Matrix X^TX + lambda has rank  168\n",
      "(115239, 270)\n",
      "Matrix X^TX + lambda has rank  168\n",
      "(115239, 270)\n",
      "Matrix X^TX + lambda has rank  168\n",
      "(115239, 270)\n",
      "Matrix X^TX + lambda has rank  168\n",
      "(115239, 270)\n",
      "Matrix X^TX + lambda has rank  168\n",
      "(115239, 270)\n",
      "Matrix X^TX + lambda has rank  168\n",
      "(115239, 270)\n",
      "Matrix X^TX + lambda has rank  168\n",
      "(115239, 270)\n",
      "Matrix X^TX + lambda has rank  168\n",
      "(115239, 270)\n",
      "Matrix X^TX + lambda has rank  168\n",
      "(115239, 270)\n",
      "Matrix X^TX + lambda has rank  168\n",
      "(115239, 270)\n",
      "Matrix X^TX + lambda has rank  168\n",
      "(115239, 270)\n",
      "Matrix X^TX + lambda has rank  168\n",
      "(115239, 270)\n",
      "Matrix X^TX + lambda has rank  168\n",
      "(115239, 270)\n",
      "Matrix X^TX + lambda has rank  168\n",
      "(115239, 270)\n",
      "Matrix X^TX + lambda has rank  168\n",
      "(115239, 270)\n",
      "Matrix X^TX + lambda has rank  168\n",
      "(115239, 270)\n",
      "Matrix X^TX + lambda has rank  168\n",
      "(115239, 270)\n",
      "Matrix X^TX + lambda has rank  168\n",
      "(115239, 270)\n",
      "Matrix X^TX + lambda has rank  168\n",
      "(115239, 270)\n",
      "Matrix X^TX + lambda has rank  168\n",
      "(115239, 270)\n",
      "Matrix X^TX + lambda has rank  168\n",
      "(115239, 270)\n",
      "Matrix X^TX + lambda has rank  168\n",
      "(115239, 270)\n",
      "Matrix X^TX + lambda has rank  168\n",
      "(115239, 270)\n",
      "Matrix X^TX + lambda has rank  168\n",
      "(115239, 270)\n",
      "Matrix X^TX + lambda has rank  168\n",
      "(115239, 270)\n",
      "Matrix X^TX + lambda has rank  168\n",
      "(115239, 270)\n",
      "Matrix X^TX + lambda has rank  168\n",
      "(115239, 270)\n",
      "Matrix X^TX + lambda has rank  168\n",
      "(115239, 270)\n",
      "Matrix X^TX + lambda has rank  168\n",
      "(115239, 270)\n",
      "Matrix X^TX + lambda has rank  168\n",
      "(115239, 270)\n",
      "Matrix X^TX + lambda has rank  168\n",
      "(115239, 270)\n",
      "Matrix X^TX + lambda has rank  168\n",
      "(115239, 270)\n",
      "Matrix X^TX + lambda has rank  168\n",
      "(115239, 270)\n",
      "Matrix X^TX + lambda has rank  168\n",
      "(115239, 270)\n",
      "Matrix X^TX + lambda has rank  168\n",
      "(115239, 270)\n",
      "Matrix X^TX + lambda has rank  168\n",
      "(115239, 270)\n",
      "Matrix X^TX + lambda has rank  168\n",
      "(115239, 270)\n",
      "Matrix X^TX + lambda has rank  168\n",
      "(115239, 270)\n",
      "Matrix X^TX + lambda has rank  168\n",
      "(115239, 270)\n",
      "Matrix X^TX + lambda has rank  168\n",
      "(115239, 270)\n",
      "Matrix X^TX + lambda has rank  168\n",
      "(115239, 270)\n",
      "Matrix X^TX + lambda has rank  168\n",
      "(115239, 270)\n",
      "Matrix X^TX + lambda has rank  168\n",
      "(115239, 270)\n",
      "Matrix X^TX + lambda has rank  168\n",
      "(115239, 270)\n",
      "Matrix X^TX + lambda has rank  168\n"
     ]
    },
    {
     "data": {
      "image/png": "[encoded data removed]",
      "text/plain": [
       "<Figure size 432x288 with 1 Axes>"
      ]
     },
     "metadata": {
      "needs_background": "light"
     },
     "output_type": "display_data"
    },
    {
     "name": "stdout",
     "output_type": "stream",
     "text": [
      "Best lambda is 48.32930238571752 with loss 0.26631576713052874\n"
     ]
    }
   ],
   "source": [
    "lambdas = np.logspace(-4, 5, 20)\n",
    "\n",
    "best_lambda, best_loss = find_best_parameter(y_clean, tX_clean, 'ridge_regression', 'lambda_', lambdas, poly_exp=8)\n",
    "print(\"Best lambda is {} with loss {}\".format(best_lambda, best_loss))"
   ]
  },
  {
   "cell_type": "code",
   "execution_count": 285,
   "metadata": {
    "ExecuteTime": {
     "end_time": "2020-10-23T21:01:34.466471Z",
     "start_time": "2020-10-23T21:01:24.131664Z"
    }
   },
   "outputs": [
    {
     "name": "stdout",
     "output_type": "stream",
     "text": [
      "(115239, 30)\n",
      "Matrix X^TX + lambda has rank  25\n",
      "(115239, 30)\n",
      "Matrix X^TX + lambda has rank  25\n",
      "(115239, 30)\n",
      "Matrix X^TX + lambda has rank  25\n",
      "(115239, 30)\n",
      "Matrix X^TX + lambda has rank  25\n",
      "(115239, 30)\n",
      "Matrix X^TX + lambda has rank  25\n",
      "(115239, 30)\n",
      "Matrix X^TX + lambda has rank  25\n",
      "(115239, 30)\n",
      "Matrix X^TX + lambda has rank  25\n",
      "(115239, 30)\n",
      "Matrix X^TX + lambda has rank  25\n",
      "(115239, 30)\n",
      "Matrix X^TX + lambda has rank  25\n",
      "(115239, 30)\n",
      "Matrix X^TX + lambda has rank  25\n",
      "(115239, 30)\n",
      "Matrix X^TX + lambda has rank  25\n",
      "(115239, 30)\n",
      "Matrix X^TX + lambda has rank  25\n",
      "(115239, 30)\n",
      "Matrix X^TX + lambda has rank  25\n",
      "(115239, 30)\n",
      "Matrix X^TX + lambda has rank  25\n",
      "(115239, 30)\n",
      "Matrix X^TX + lambda has rank  25\n",
      "(115239, 30)\n",
      "Matrix X^TX + lambda has rank  25\n",
      "(115239, 30)\n",
      "Matrix X^TX + lambda has rank  25\n",
      "(115239, 30)\n",
      "Matrix X^TX + lambda has rank  25\n",
      "(115239, 30)\n",
      "Matrix X^TX + lambda has rank  25\n",
      "(115239, 30)\n",
      "Matrix X^TX + lambda has rank  25\n",
      "(115239, 30)\n",
      "Matrix X^TX + lambda has rank  25\n",
      "(115239, 30)\n",
      "Matrix X^TX + lambda has rank  25\n",
      "(115239, 30)\n",
      "Matrix X^TX + lambda has rank  25\n",
      "(115239, 30)\n",
      "Matrix X^TX + lambda has rank  25\n",
      "(115239, 30)\n",
      "Matrix X^TX + lambda has rank  25\n",
      "(115239, 30)\n",
      "Matrix X^TX + lambda has rank  25\n",
      "(115239, 30)\n",
      "Matrix X^TX + lambda has rank  25\n",
      "(115239, 30)\n",
      "Matrix X^TX + lambda has rank  25\n",
      "(115239, 30)\n",
      "Matrix X^TX + lambda has rank  25\n",
      "(115239, 30)\n",
      "Matrix X^TX + lambda has rank  25\n",
      "(115239, 30)\n",
      "Matrix X^TX + lambda has rank  25\n",
      "(115239, 30)\n",
      "Matrix X^TX + lambda has rank  25\n",
      "(115239, 30)\n",
      "Matrix X^TX + lambda has rank  25\n",
      "(115239, 30)\n",
      "Matrix X^TX + lambda has rank  25\n",
      "(115239, 30)\n",
      "Matrix X^TX + lambda has rank  25\n",
      "(115239, 30)\n",
      "Matrix X^TX + lambda has rank  25\n",
      "(115239, 30)\n",
      "Matrix X^TX + lambda has rank  25\n",
      "(115239, 30)\n",
      "Matrix X^TX + lambda has rank  25\n",
      "(115239, 30)\n",
      "Matrix X^TX + lambda has rank  25\n",
      "(115239, 30)\n",
      "Matrix X^TX + lambda has rank  25\n",
      "(115239, 30)\n",
      "Matrix X^TX + lambda has rank  25\n",
      "(115239, 30)\n",
      "Matrix X^TX + lambda has rank  25\n",
      "(115239, 30)\n",
      "Matrix X^TX + lambda has rank  25\n",
      "(115239, 30)\n",
      "Matrix X^TX + lambda has rank  25\n",
      "(115239, 30)\n",
      "Matrix X^TX + lambda has rank  25\n",
      "(115239, 30)\n",
      "Matrix X^TX + lambda has rank  25\n",
      "(115239, 30)\n",
      "Matrix X^TX + lambda has rank  25\n",
      "(115239, 30)\n",
      "Matrix X^TX + lambda has rank  25\n",
      "(115239, 30)\n",
      "Matrix X^TX + lambda has rank  25\n",
      "(115239, 30)\n",
      "Matrix X^TX + lambda has rank  25\n",
      "(115239, 30)\n",
      "Matrix X^TX + lambda has rank  25\n",
      "(115239, 30)\n",
      "Matrix X^TX + lambda has rank  25\n",
      "(115239, 30)\n",
      "Matrix X^TX + lambda has rank  25\n",
      "(115239, 30)\n",
      "Matrix X^TX + lambda has rank  25\n",
      "(115239, 30)\n",
      "Matrix X^TX + lambda has rank  25\n",
      "(115239, 30)\n",
      "Matrix X^TX + lambda has rank  25\n",
      "(115239, 30)\n",
      "Matrix X^TX + lambda has rank  24\n",
      "(115239, 30)\n",
      "Matrix X^TX + lambda has rank  24\n",
      "(115239, 30)\n",
      "Matrix X^TX + lambda has rank  24\n",
      "(115239, 30)\n",
      "Matrix X^TX + lambda has rank  24\n",
      "(115239, 30)\n",
      "Matrix X^TX + lambda has rank  24\n",
      "(115239, 30)\n",
      "Matrix X^TX + lambda has rank  24\n",
      "(115239, 30)\n",
      "Matrix X^TX + lambda has rank  24\n",
      "(115239, 30)\n",
      "Matrix X^TX + lambda has rank  24\n",
      "(115239, 30)\n",
      "Matrix X^TX + lambda has rank  24\n",
      "(115239, 30)\n",
      "Matrix X^TX + lambda has rank  24\n",
      "(115239, 30)\n",
      "Matrix X^TX + lambda has rank  24\n",
      "(115239, 30)\n",
      "Matrix X^TX + lambda has rank  24\n",
      "(115239, 30)\n",
      "Matrix X^TX + lambda has rank  24\n",
      "(115239, 30)\n",
      "Matrix X^TX + lambda has rank  24\n",
      "(115239, 30)\n",
      "Matrix X^TX + lambda has rank  24\n",
      "(115239, 30)\n",
      "Matrix X^TX + lambda has rank  24\n",
      "(115239, 30)\n",
      "Matrix X^TX + lambda has rank  24\n",
      "(115239, 30)\n",
      "Matrix X^TX + lambda has rank  24\n",
      "(115239, 30)\n",
      "Matrix X^TX + lambda has rank  24\n",
      "(115239, 30)\n",
      "Matrix X^TX + lambda has rank  24\n",
      "(115239, 30)\n",
      "Matrix X^TX + lambda has rank  24\n",
      "(115239, 30)\n",
      "Matrix X^TX + lambda has rank  24\n",
      "(115239, 30)\n",
      "Matrix X^TX + lambda has rank  24\n",
      "(115239, 30)\n",
      "Matrix X^TX + lambda has rank  24\n",
      "(115239, 30)\n",
      "Matrix X^TX + lambda has rank  24\n",
      "(115239, 30)\n",
      "Matrix X^TX + lambda has rank  24\n",
      "(115239, 30)\n",
      "Matrix X^TX + lambda has rank  24\n",
      "(115239, 30)\n",
      "Matrix X^TX + lambda has rank  24\n",
      "(115239, 30)\n",
      "Matrix X^TX + lambda has rank  23\n",
      "(115239, 30)\n",
      "Matrix X^TX + lambda has rank  23\n",
      "(115239, 30)\n",
      "Matrix X^TX + lambda has rank  23\n",
      "(115239, 30)\n",
      "Matrix X^TX + lambda has rank  23\n",
      "(115239, 30)\n",
      "Matrix X^TX + lambda has rank  23\n",
      "(115239, 30)\n",
      "Matrix X^TX + lambda has rank  23\n",
      "(115239, 30)\n",
      "Matrix X^TX + lambda has rank  23\n",
      "(115239, 30)\n",
      "Matrix X^TX + lambda has rank  23\n",
      "(115239, 30)\n",
      "Matrix X^TX + lambda has rank  23\n",
      "(115239, 30)\n",
      "Matrix X^TX + lambda has rank  23\n",
      "(115239, 30)\n",
      "Matrix X^TX + lambda has rank  23\n",
      "(115239, 30)\n",
      "Matrix X^TX + lambda has rank  23\n",
      "(115239, 30)\n",
      "Matrix X^TX + lambda has rank  23\n",
      "(115239, 30)\n",
      "Matrix X^TX + lambda has rank  23\n",
      "(115239, 30)\n",
      "Matrix X^TX + lambda has rank  23\n",
      "(115239, 30)\n",
      "Matrix X^TX + lambda has rank  23\n",
      "(115239, 30)\n",
      "Matrix X^TX + lambda has rank  23\n",
      "(115239, 30)\n",
      "Matrix X^TX + lambda has rank  23\n",
      "(115239, 30)\n",
      "Matrix X^TX + lambda has rank  23\n",
      "(115239, 30)\n",
      "Matrix X^TX + lambda has rank  23\n",
      "(115239, 30)\n",
      "Matrix X^TX + lambda has rank  23\n",
      "(115239, 30)\n",
      "Matrix X^TX + lambda has rank  23\n",
      "(115239, 30)\n",
      "Matrix X^TX + lambda has rank  23\n",
      "(115239, 30)\n",
      "Matrix X^TX + lambda has rank  23\n",
      "(115239, 30)\n",
      "Matrix X^TX + lambda has rank  23\n",
      "(115239, 30)\n",
      "Matrix X^TX + lambda has rank  23\n",
      "(115239, 30)\n",
      "Matrix X^TX + lambda has rank  23\n",
      "(115239, 30)\n",
      "Matrix X^TX + lambda has rank  23\n",
      "(115239, 30)\n",
      "Matrix X^TX + lambda has rank  23\n",
      "(115239, 30)\n",
      "Matrix X^TX + lambda has rank  23\n",
      "(115239, 30)\n",
      "Matrix X^TX + lambda has rank  23\n",
      "(115239, 30)\n",
      "Matrix X^TX + lambda has rank  23\n",
      "(115239, 30)\n",
      "Matrix X^TX + lambda has rank  23\n",
      "(115239, 30)\n",
      "Matrix X^TX + lambda has rank  23\n",
      "(115239, 30)\n",
      "Matrix X^TX + lambda has rank  23\n",
      "(115239, 30)\n",
      "Matrix X^TX + lambda has rank  23\n"
     ]
    },
    {
     "data": {
      "image/png": "[encoded data removed]",
      "text/plain": [
       "<Figure size 432x288 with 1 Axes>"
      ]
     },
     "metadata": {
      "needs_background": "light"
     },
     "output_type": "display_data"
    },
    {
     "name": "stdout",
     "output_type": "stream",
     "text": [
      "Best lambda is 11721.022975334794 with loss 0.30160940569540307\n"
     ]
    }
   ],
   "source": [
    "lambdas = np.logspace(-4, 5, 30)\n",
    "\n",
    "best_lambda, best_loss = find_best_parameter(y_clean, tX_clean, 'ridge_regression', 'lambda_', lambdas, poly_exp=1)\n",
    "print(\"Best lambda is {} with loss {}\".format(best_lambda, best_loss))"
   ]
  },
  {
   "cell_type": "markdown",
   "metadata": {},
   "source": [
    "### Logistic Regression"
   ]
  },
  {
   "cell_type": "code",
   "execution_count": 316,
   "metadata": {
    "ExecuteTime": {
     "end_time": "2020-10-23T21:24:25.600078Z",
     "start_time": "2020-10-23T21:24:14.980678Z"
    }
   },
   "outputs": [
    {
     "data": {
      "image/png": "[encoded data removed]",
      "text/plain": [
       "<Figure size 432x288 with 1 Axes>"
      ]
     },
     "metadata": {
      "needs_background": "light"
     },
     "output_type": "display_data"
    },
    {
     "name": "stdout",
     "output_type": "stream",
     "text": [
      "Best gamma is 1.623776739188721 with loss 0.4707991175123466\n"
     ]
    }
   ],
   "source": [
    "gammas = np.logspace(-4, 1, 20)\n",
    "\n",
    "best_gamma, best_loss = find_best_parameter(y_clean, tX_clean, 'logistic_regression', 'gamma', gammas, max_iters=150, poly_exp=1)\n",
    "print(\"Best gamma is {} with loss {}\".format(best_gamma, best_loss))"
   ]
  },
  {
   "cell_type": "code",
   "execution_count": 323,
   "metadata": {
    "ExecuteTime": {
     "end_time": "2020-10-23T21:31:25.186292Z",
     "start_time": "2020-10-23T21:30:31.756830Z"
    }
   },
   "outputs": [
    {
     "data": {
      "image/png": "[encoded data removed]",
      "text/plain": [
       "<Figure size 432x288 with 1 Axes>"
      ]
     },
     "metadata": {
      "needs_background": "light"
     },
     "output_type": "display_data"
    },
    {
     "name": "stdout",
     "output_type": "stream",
     "text": [
      "Best gamma is 0.14384498882876628 with loss 0.4221798370276316\n"
     ]
    }
   ],
   "source": [
    "gammas = np.logspace(-4, 0, 20)\n",
    "\n",
    "best_gamma, best_loss = find_best_parameter(y_clean, tX_clean, 'logistic_regression', 'gamma', gammas, max_iters=150, poly_exp=2)\n",
    "print(\"Best gamma is {} with loss {}\".format(best_gamma, best_loss))"
   ]
  },
  {
   "cell_type": "code",
   "execution_count": 322,
   "metadata": {
    "ExecuteTime": {
     "end_time": "2020-10-23T21:30:31.755876Z",
     "start_time": "2020-10-23T21:30:00.698088Z"
    }
   },
   "outputs": [
    {
     "data": {
      "image/png": "[encoded data removed]",
      "text/plain": [
       "<Figure size 432x288 with 1 Axes>"
      ]
     },
     "metadata": {
      "needs_background": "light"
     },
     "output_type": "display_data"
    },
    {
     "name": "stdout",
     "output_type": "stream",
     "text": [
      "Best max_iters is 350 with loss 0.4167930162264529\n"
     ]
    }
   ],
   "source": [
    "iters = (np.arange(10)+1)*50\n",
    "\n",
    "best_iter, best_loss = find_best_parameter(y_clean, tX_clean, 'logistic_regression', 'max_iters', iters, logspace=False, gamma=0.15, poly_exp=2)\n",
    "print(\"Best max_iters is {} with loss {}\".format(best_iter, best_loss))"
   ]
  },
  {
   "cell_type": "markdown",
   "metadata": {},
   "source": [
    "### Penalized Logistic Regression"
   ]
  },
  {
   "cell_type": "code",
   "execution_count": 329,
   "metadata": {
    "ExecuteTime": {
     "end_time": "2020-10-23T21:46:37.867839Z",
     "start_time": "2020-10-23T21:45:15.680145Z"
    }
   },
   "outputs": [
    {
     "name": "stderr",
     "output_type": "stream",
     "text": [
      "C:\\Users\\Moi\\Desktop\\Desktop\\EPFL\\Master\\MA1\\CS-433 - Machine Learning\\CS-433-machine-learning\\project1\\scripts\\logistic_regression.py:7: RuntimeWarning: overflow encountered in exp\n",
      "  inv_exp = np.exp(-t)\n",
      "C:\\Users\\Moi\\Desktop\\Desktop\\EPFL\\Master\\MA1\\CS-433 - Machine Learning\\CS-433-machine-learning\\project1\\scripts\\costs.py:28: RuntimeWarning: overflow encountered in exp\n",
      "  sum_logs = np.log(np.exp(prediction) + 1).sum()\n"
     ]
    },
    {
     "data": {
      "image/png": "[encoded data removed]",
      "text/plain": [
       "<Figure size 432x288 with 1 Axes>"
      ]
     },
     "metadata": {
      "needs_background": "light"
     },
     "output_type": "display_data"
    },
    {
     "name": "stdout",
     "output_type": "stream",
     "text": [
      "Best lambda is 0.0001 with loss 0.4240364250114062\n"
     ]
    }
   ],
   "source": [
    "lambdas = np.logspace(-4, 2, 30)\n",
    "\n",
    "best_lambda, best_loss = find_best_parameter(y_clean, tX_clean, 'regularized_logistic_regression', 'lambda_', lambdas, max_iters=150, gamma=0.1, poly_exp=2)\n",
    "print(\"Best lambda is {} with loss {}\".format(best_lambda, best_loss))"
   ]
  },
  {
   "cell_type": "markdown",
   "metadata": {},
   "source": [
    "## Generate predictions and save ouput in csv format for submission:"
   ]
  },
  {
   "cell_type": "code",
   "execution_count": 270,
   "metadata": {
    "ExecuteTime": {
     "end_time": "2020-10-23T19:33:53.975743Z",
     "start_time": "2020-10-23T19:33:31.453918Z"
    }
   },
   "outputs": [
    {
     "ename": "ValueError",
     "evalue": "shapes (568238,87) and (90,) not aligned: 87 (dim 1) != 90 (dim 0)",
     "output_type": "error",
     "traceback": [
      "\u001b[1;31m---------------------------------------------------------------------------\u001b[0m",
      "\u001b[1;31mValueError\u001b[0m                                Traceback (most recent call last)",
      "\u001b[1;32m<ipython-input-270-382890d93929>\u001b[0m in \u001b[0;36m<module>\u001b[1;34m\u001b[0m\n\u001b[0;32m      8\u001b[0m         \u001b[0my_pred\u001b[0m \u001b[1;33m=\u001b[0m \u001b[0mpredict_labels_logistic\u001b[0m\u001b[1;33m(\u001b[0m\u001b[0mweights_clean\u001b[0m\u001b[1;33m,\u001b[0m \u001b[0mtX_test_clean_poly\u001b[0m\u001b[1;33m)\u001b[0m\u001b[1;33m\u001b[0m\u001b[1;33m\u001b[0m\u001b[0m\n\u001b[0;32m      9\u001b[0m     \u001b[1;32melse\u001b[0m\u001b[1;33m:\u001b[0m\u001b[1;33m\u001b[0m\u001b[1;33m\u001b[0m\u001b[0m\n\u001b[1;32m---> 10\u001b[1;33m         \u001b[0my_pred\u001b[0m \u001b[1;33m=\u001b[0m \u001b[0mpredict_labels\u001b[0m\u001b[1;33m(\u001b[0m\u001b[0mweights\u001b[0m\u001b[1;33m,\u001b[0m \u001b[0mtX_test_clean_poly\u001b[0m\u001b[1;33m)\u001b[0m\u001b[1;33m\u001b[0m\u001b[1;33m\u001b[0m\u001b[0m\n\u001b[0m\u001b[0;32m     11\u001b[0m     \u001b[0mcreate_csv_submission\u001b[0m\u001b[1;33m(\u001b[0m\u001b[0mids_test_clean\u001b[0m\u001b[1;33m,\u001b[0m \u001b[0my_pred\u001b[0m\u001b[1;33m,\u001b[0m \u001b[0mOUTPUT_PATH\u001b[0m\u001b[1;33m)\u001b[0m\u001b[1;33m\u001b[0m\u001b[1;33m\u001b[0m\u001b[0m\n\u001b[0;32m     12\u001b[0m \u001b[1;32melse\u001b[0m \u001b[1;33m:\u001b[0m\u001b[1;33m\u001b[0m\u001b[1;33m\u001b[0m\u001b[0m\n",
      "\u001b[1;32m~\\Desktop\\Desktop\\EPFL\\Master\\MA1\\CS-433 - Machine Learning\\CS-433-machine-learning\\project1\\scripts\\proj1_helpers.py\u001b[0m in \u001b[0;36mpredict_labels\u001b[1;34m(weights, data)\u001b[0m\n\u001b[0;32m     27\u001b[0m \u001b[1;32mdef\u001b[0m \u001b[0mpredict_labels\u001b[0m\u001b[1;33m(\u001b[0m\u001b[0mweights\u001b[0m\u001b[1;33m,\u001b[0m \u001b[0mdata\u001b[0m\u001b[1;33m)\u001b[0m\u001b[1;33m:\u001b[0m\u001b[1;33m\u001b[0m\u001b[1;33m\u001b[0m\u001b[0m\n\u001b[0;32m     28\u001b[0m     \u001b[1;34m\"\"\"Generates class predictions given weights, and a test data matrix\"\"\"\u001b[0m\u001b[1;33m\u001b[0m\u001b[1;33m\u001b[0m\u001b[0m\n\u001b[1;32m---> 29\u001b[1;33m     \u001b[0my_pred\u001b[0m \u001b[1;33m=\u001b[0m \u001b[0mnp\u001b[0m\u001b[1;33m.\u001b[0m\u001b[0mdot\u001b[0m\u001b[1;33m(\u001b[0m\u001b[0mdata\u001b[0m\u001b[1;33m,\u001b[0m \u001b[0mweights\u001b[0m\u001b[1;33m)\u001b[0m\u001b[1;33m\u001b[0m\u001b[1;33m\u001b[0m\u001b[0m\n\u001b[0m\u001b[0;32m     30\u001b[0m     \u001b[0my_pred\u001b[0m\u001b[1;33m[\u001b[0m\u001b[0mnp\u001b[0m\u001b[1;33m.\u001b[0m\u001b[0mwhere\u001b[0m\u001b[1;33m(\u001b[0m\u001b[0my_pred\u001b[0m \u001b[1;33m<=\u001b[0m \u001b[1;36m0\u001b[0m\u001b[1;33m)\u001b[0m\u001b[1;33m]\u001b[0m \u001b[1;33m=\u001b[0m \u001b[1;33m-\u001b[0m\u001b[1;36m1\u001b[0m\u001b[1;33m\u001b[0m\u001b[1;33m\u001b[0m\u001b[0m\n\u001b[0;32m     31\u001b[0m     \u001b[0my_pred\u001b[0m\u001b[1;33m[\u001b[0m\u001b[0mnp\u001b[0m\u001b[1;33m.\u001b[0m\u001b[0mwhere\u001b[0m\u001b[1;33m(\u001b[0m\u001b[0my_pred\u001b[0m \u001b[1;33m>\u001b[0m \u001b[1;36m0\u001b[0m\u001b[1;33m)\u001b[0m\u001b[1;33m]\u001b[0m \u001b[1;33m=\u001b[0m \u001b[1;36m1\u001b[0m\u001b[1;33m\u001b[0m\u001b[1;33m\u001b[0m\u001b[0m\n",
      "\u001b[1;32m<__array_function__ internals>\u001b[0m in \u001b[0;36mdot\u001b[1;34m(*args, **kwargs)\u001b[0m\n",
      "\u001b[1;31mValueError\u001b[0m: shapes (568238,87) and (90,) not aligned: 87 (dim 1) != 90 (dim 0)"
     ]
    }
   ],
   "source": [
    "#This enable to run all cells without running this one when unnecessary\n",
    "if True :\n",
    "    y_test, tX_test, ids_test = load_csv_data(DATA_TEST_PATH)\n",
    "    y_test_clean, tX_test_clean, ids_test_clean = clean_test(y_test, tX_test, ids_test)\n",
    "    tX_test_clean_poly = build_poly_2D(tX_test_clean, 2)\n",
    "    OUTPUT_PATH = DATA_FOLDER + 'submission.csv' \n",
    "    if True: ## Only for logistic regression, we will do something nice later\n",
    "        y_pred = predict_labels_logistic(weights_clean, tX_test_clean_poly)\n",
    "    else:\n",
    "        y_pred = predict_labels(weights, tX_test_clean_poly)\n",
    "    create_csv_submission(ids_test_clean, y_pred, OUTPUT_PATH)\n",
    "else :\n",
    "    print(\"Change False to True to generate prediction\")"
   ]
  },
  {
   "cell_type": "code",
   "execution_count": 25,
   "metadata": {},
   "outputs": [],
   "source": [
    "def model_accuracy(weights, tX, correct_labels, logistic=False):\n",
    "    if logistic :\n",
    "        pred = predict_labels_logistic(weights, tX)\n",
    "    else :\n",
    "        pred = predict_labels(weights, tX)\n",
    "    compare_array = (pred == correct_labels)\n",
    "    return np.count_nonzero(compare_array)/len(compare_array)\n",
    "    "
   ]
  },
  {
   "cell_type": "code",
   "execution_count": 26,
   "metadata": {},
   "outputs": [
    {
     "name": "stdout",
     "output_type": "stream",
     "text": [
      "0.6941179533237013\n"
     ]
    }
   ],
   "source": [
    "#model_accuracy testing\n",
    "weights, loss = model_data(y_train_clean, tX_train_clean, 'stochastic_gradient_descent', max_iters=180, gamma=0.24, poly_exp=2)\n",
    "tX_poly = build_poly_2D(tX_validation_clean, 2)\n",
    "print(model_accuracy(weights, tX_poly, y_validation_clean))"
   ]
  },
  {
   "cell_type": "code",
   "execution_count": null,
   "metadata": {},
   "outputs": [],
   "source": []
  },
  {
   "cell_type": "code",
   "execution_count": null,
   "metadata": {},
   "outputs": [],
   "source": []
  }
 ],
 "metadata": {
  "anaconda-cloud": {},
  "kernelspec": {
   "display_name": "Python 3",
   "language": "python",
   "name": "python3"
  },
  "language_info": {
   "codemirror_mode": {
    "name": "ipython",
    "version": 3
   },
   "file_extension": ".py",
   "mimetype": "text/x-python",
   "name": "python",
   "nbconvert_exporter": "python",
   "pygments_lexer": "ipython3",
   "version": "3.8.2"
  },
  "toc": {
   "base_numbering": 1,
   "nav_menu": {},
   "number_sections": true,
   "sideBar": true,
   "skip_h1_title": false,
   "title_cell": "Table of Contents",
   "title_sidebar": "Contents",
   "toc_cell": false,
   "toc_position": {},
   "toc_section_display": true,
   "toc_window_display": false
  }
 },
 "nbformat": 4,
 "nbformat_minor": 4
}
