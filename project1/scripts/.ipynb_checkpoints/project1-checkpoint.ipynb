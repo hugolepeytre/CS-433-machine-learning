{
 "cells": [
  {
   "cell_type": "code",
   "execution_count": 1,
   "metadata": {
    "ExecuteTime": {
     "end_time": "2020-10-16T08:52:08.174685Z",
     "start_time": "2020-10-16T08:52:07.458098Z"
    }
   },
   "outputs": [],
   "source": [
    "# Useful starting lines\n",
    "%matplotlib inline\n",
    "import numpy as np\n",
    "import matplotlib.pyplot as plt\n",
    "%load_ext autoreload\n",
    "%autoreload 2"
   ]
  },
  {
   "cell_type": "code",
   "execution_count": 2,
   "metadata": {
    "ExecuteTime": {
     "end_time": "2020-10-16T08:52:08.216288Z",
     "start_time": "2020-10-16T08:52:08.177771Z"
    }
   },
   "outputs": [],
   "source": [
    "DATA_FOLDER = '../data/'\n",
    "DATA_ZIP = DATA_FOLDER + 'datasets.zip'\n",
    "\n",
    "DATA_TRAIN_PATH = DATA_FOLDER + 'train.csv'\n",
    "DATA_TRAIN_PATH_CLEAN = DATA_FOLDER + 'train_clean.csv'\n",
    "DATA_TEST_PATH = DATA_FOLDER + 'test.csv' "
   ]
  },
  {
   "cell_type": "markdown",
   "metadata": {},
   "source": [
    "## Load the training data into feature matrix, class labels, and event ids:"
   ]
  },
  {
   "cell_type": "code",
   "execution_count": 3,
   "metadata": {
    "ExecuteTime": {
     "end_time": "2020-10-16T08:52:19.699128Z",
     "start_time": "2020-10-16T08:52:08.218391Z"
    }
   },
   "outputs": [],
   "source": [
    "from proj1_helpers import *\n",
    "from split_data import *\n",
    "\n",
    "y, tX, ids = load_csv_data(DATA_TRAIN_PATH)\n",
    "y_clean, tX_clean, ids_clean = load_csv_data(DATA_TRAIN_PATH_CLEAN)\n",
    "\n",
    "split_ratio = 0.8\n",
    "tX_train, tX_validation, y_train, y_validation = split_data(tX, y, split_ratio)\n",
    "tX_train_clean, tX_validation_clean, y_train_clean, y_validation_clean = split_data(tX_clean, y_clean, split_ratio)"
   ]
  },
  {
   "cell_type": "code",
   "execution_count": 4,
   "metadata": {
    "ExecuteTime": {
     "end_time": "2020-10-16T08:52:19.748596Z",
     "start_time": "2020-10-16T08:52:19.704544Z"
    }
   },
   "outputs": [
    {
     "name": "stdout",
     "output_type": "stream",
     "text": [
      "Raw set : \n",
      "               Training       Validation     \n",
      "Features       (200000, 30)   (50000, 30)    \n",
      "Labels         (200000,)      (50000,)       \n",
      "\n",
      "Clean set : \n",
      "               Training       Validation     \n",
      "Features       (60122, 23)    (15031, 23)    \n",
      "Labels         (60122,)       (15031,)       \n"
     ]
    }
   ],
   "source": [
    "print(\"Raw set : \")\n",
    "row_format = \"{:<15}\" * 3\n",
    "print(row_format.format(\"\", \"Training\", \"Validation\"))\n",
    "print(row_format.format(\"Features\", str(tX_train.shape), str(tX_validation.shape)))\n",
    "print(row_format.format(\"Labels\", str(y_train.shape), str(y_validation.shape)))\n",
    "\n",
    "print(\"\\nClean set : \")\n",
    "row_format = \"{:<15}\" * 3\n",
    "print(row_format.format(\"\", \"Training\", \"Validation\"))\n",
    "print(row_format.format(\"Features\", str(tX_train_clean.shape), str(tX_validation_clean.shape)))\n",
    "print(row_format.format(\"Labels\", str(y_train_clean.shape), str(y_validation_clean.shape)))"
   ]
  },
  {
   "cell_type": "markdown",
   "metadata": {},
   "source": [
    "## Do your thing crazy machine learning thing here :) ..."
   ]
  },
  {
   "cell_type": "markdown",
   "metadata": {},
   "source": [
    "### Gradient Descent"
   ]
  },
  {
   "cell_type": "code",
   "execution_count": 21,
   "metadata": {
    "ExecuteTime": {
     "end_time": "2020-10-16T08:52:21.604353Z",
     "start_time": "2020-10-16T08:52:19.754362Z"
    }
   },
   "outputs": [
    {
     "name": "stdout",
     "output_type": "stream",
     "text": [
      "0.376365887110707\n",
      "0.37993627980680655\n"
     ]
    }
   ],
   "source": [
    "from stochastic_gradient_descent import *\n",
    "from gradient_descent import *\n",
    "from costs import *\n",
    "\n",
    "\n",
    "max_iters = 100\n",
    "gamma = 0.01\n",
    "initial_w = np.zeros(tX_train_clean.shape[1])\n",
    "\n",
    "loss, weights_gd = gradient_descent(y_train_clean, tX_train_clean, initial_w, max_iters, gamma)\n",
    "print(loss)\n",
    "loss, weights_sgd = stochastic_gradient_descent(y_train_clean, tX_train_clean, initial_w, max_iters, gamma)\n",
    "print(loss)"
   ]
  },
  {
   "cell_type": "code",
   "execution_count": 22,
   "metadata": {
    "ExecuteTime": {
     "end_time": "2020-10-16T08:52:21.641020Z",
     "start_time": "2020-10-16T08:52:21.608042Z"
    }
   },
   "outputs": [
    {
     "name": "stdout",
     "output_type": "stream",
     "text": [
      "GD Training loss : 0.3762862825347247\n",
      "GD Validation loss : 0.3774387187782604\n",
      "SGD Clean training loss : 0.37648709535882696\n",
      "SGD Clean validation loss : 0.37768929891403175\n"
     ]
    }
   ],
   "source": [
    "# Not compared with the not cleaned set, because it needs normalizing to work\n",
    "print(\"GD Training loss : {}\".format(compute_loss(y_train_clean, tX_train_clean, weights_gd)))\n",
    "print(\"GD Validation loss : {}\".format(compute_loss(y_validation_clean, tX_validation_clean, weights_gd)))\n",
    "print(\"SGD Clean training loss : {}\".format(compute_loss(y_train_clean, tX_train_clean, weights_sgd)))\n",
    "print(\"SGD Clean validation loss : {}\".format(compute_loss(y_validation_clean, tX_validation_clean, weights_sgd)))"
   ]
  },
  {
   "cell_type": "markdown",
   "metadata": {},
   "source": [
    "### Least Squares"
   ]
  },
  {
   "cell_type": "code",
   "execution_count": 29,
   "metadata": {
    "ExecuteTime": {
     "end_time": "2020-10-16T08:52:21.747780Z",
     "start_time": "2020-10-16T08:52:21.655440Z"
    },
    "scrolled": true
   },
   "outputs": [
    {
     "name": "stdout",
     "output_type": "stream",
     "text": [
      "[ 8.08437784e-05 -7.13758630e-03 -6.01735851e-03 -4.98388408e-04\n",
      " -2.09381565e-02  4.91415092e-04 -2.50581367e-02  3.24639611e-01\n",
      " -4.76567259e-05 -5.81121324e-02 -2.19820861e-01  9.61114406e-02\n",
      "  6.52413709e-02  6.63529746e-02  1.93898353e-04 -1.05389133e-03\n",
      "  7.09634011e-02 -3.87542787e-04  1.08613023e-03  3.58614477e-03\n",
      " -6.45778560e-05 -5.56010861e-04 -3.28764614e-01 -1.37713957e-03\n",
      "  6.05480550e-04  1.21333489e-03 -1.65673988e-03 -5.74781897e-03\n",
      " -1.18767176e-02  5.85493212e-02]\n"
     ]
    }
   ],
   "source": [
    "from least_squares import *\n",
    "\n",
    "weights_clean, t_loss_clean = least_squares(y_train_clean, tX_train_clean)\n",
    "weights, t_loss = least_squares(y_train, tX_train)"
   ]
  },
  {
   "cell_type": "code",
   "execution_count": 30,
   "metadata": {
    "ExecuteTime": {
     "end_time": "2020-10-16T08:52:21.792876Z",
     "start_time": "2020-10-16T08:52:21.751568Z"
    }
   },
   "outputs": [
    {
     "name": "stdout",
     "output_type": "stream",
     "text": [
      "Training loss : 0.3394268495585329\n",
      "Validation loss : 0.3407678463202393\n",
      "Clean training loss : 0.36806520634815304\n",
      "Clean validation loss : 0.3666564125686237\n"
     ]
    }
   ],
   "source": [
    "print(\"Training loss : {}\".format(compute_loss(y_train, tX_train, weights)))\n",
    "print(\"Validation loss : {}\".format(compute_loss(y_validation, tX_validation, weights)))\n",
    "print(\"Clean training loss : {}\".format(compute_loss(y_train_clean, tX_train_clean, weights_clean)))\n",
    "print(\"Clean validation loss : {}\".format(compute_loss(y_validation_clean, tX_validation_clean, weights_clean)))"
   ]
  },
  {
   "cell_type": "markdown",
   "metadata": {},
   "source": [
    "### Ridge Regression"
   ]
  },
  {
   "cell_type": "code",
   "execution_count": 75,
   "metadata": {},
   "outputs": [],
   "source": [
    "from ridge_regression import *\n",
    "lambda_ = 1\n",
    "\n",
    "weights, loss = ridge_regression(y_train, tX_train, lambda_)\n",
    "weights_clean, loss_clean = ridge_regression(y_train_clean, tX_train_clean, lambda_)"
   ]
  },
  {
   "cell_type": "code",
   "execution_count": 76,
   "metadata": {},
   "outputs": [
    {
     "name": "stdout",
     "output_type": "stream",
     "text": [
      "Training loss : 0.33943079234813595\n",
      "Validation loss : 0.340752914691276\n",
      "Clean training loss : 0.36806562265821613\n",
      "Clean validation loss : 0.36665665386177676\n"
     ]
    }
   ],
   "source": [
    "print(\"Training loss : {}\".format(compute_loss(y_train, tX_train, weights)))\n",
    "print(\"Validation loss : {}\".format(compute_loss(y_validation, tX_validation, weights)))\n",
    "print(\"Clean training loss : {}\".format(compute_loss(y_train_clean, tX_train_clean, weights_clean)))\n",
    "print(\"Clean validation loss : {}\".format(compute_loss(y_validation_clean, tX_validation_clean, weights_clean)))"
   ]
  },
  {
   "cell_type": "markdown",
   "metadata": {},
   "source": [
    "### Logistic Regression"
   ]
  },
  {
   "cell_type": "markdown",
   "metadata": {},
   "source": [
    "### Regularized Logistic Regression"
   ]
  },
  {
   "cell_type": "markdown",
   "metadata": {},
   "source": [
    "## Generate predictions and save ouput in csv format for submission:"
   ]
  },
  {
   "cell_type": "code",
   "execution_count": 9,
   "metadata": {
    "ExecuteTime": {
     "end_time": "2020-10-15T14:44:35.025670Z",
     "start_time": "2020-10-15T14:44:27.779Z"
    }
   },
   "outputs": [],
   "source": [
    "_, tX_test, ids_test = load_csv_data(DATA_TEST_PATH)"
   ]
  },
  {
   "cell_type": "code",
   "execution_count": 10,
   "metadata": {
    "ExecuteTime": {
     "end_time": "2020-10-15T14:44:35.029642Z",
     "start_time": "2020-10-15T14:44:27.956Z"
    }
   },
   "outputs": [],
   "source": [
    "OUTPUT_PATH = DATA_FOLDER + 'submission.csv' \n",
    "y_pred = predict_labels(weights, tX_test)\n",
    "create_csv_submission(ids_test, y_pred, OUTPUT_PATH)"
   ]
  },
  {
   "cell_type": "code",
   "execution_count": null,
   "metadata": {},
   "outputs": [],
   "source": []
  }
 ],
 "metadata": {
  "anaconda-cloud": {},
  "kernelspec": {
   "display_name": "Python 3",
   "language": "python",
   "name": "python3"
  },
  "language_info": {
   "codemirror_mode": {
    "name": "ipython",
    "version": 3
   },
   "file_extension": ".py",
   "mimetype": "text/x-python",
   "name": "python",
   "nbconvert_exporter": "python",
   "pygments_lexer": "ipython3",
   "version": "3.8.2"
  },
  "toc": {
   "base_numbering": 1,
   "nav_menu": {},
   "number_sections": true,
   "sideBar": true,
   "skip_h1_title": false,
   "title_cell": "Table of Contents",
   "title_sidebar": "Contents",
   "toc_cell": false,
   "toc_position": {},
   "toc_section_display": true,
   "toc_window_display": false
  }
 },
 "nbformat": 4,
 "nbformat_minor": 1
}
