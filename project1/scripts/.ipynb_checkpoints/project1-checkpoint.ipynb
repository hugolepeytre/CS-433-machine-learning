{
 "cells": [
  {
   "cell_type": "code",
   "execution_count": 25,
   "metadata": {
    "ExecuteTime": {
     "end_time": "2020-10-19T18:12:57.515336Z",
     "start_time": "2020-10-19T18:12:55.571297Z"
    }
   },
   "outputs": [
    {
     "name": "stdout",
     "output_type": "stream",
     "text": [
      "The autoreload extension is already loaded. To reload it, use:\n",
      "  %reload_ext autoreload\n"
     ]
    }
   ],
   "source": [
    "# Useful starting lines\n",
    "%matplotlib inline\n",
    "import numpy as np\n",
    "import matplotlib.pyplot as plt\n",
    "%load_ext autoreload\n",
    "%autoreload 2"
   ]
  },
  {
   "cell_type": "code",
   "execution_count": 26,
   "metadata": {
    "ExecuteTime": {
     "end_time": "2020-10-19T18:12:57.545451Z",
     "start_time": "2020-10-19T18:12:57.518500Z"
    }
   },
   "outputs": [],
   "source": [
    "DATA_FOLDER = '../data/'\n",
    "DATA_ZIP = DATA_FOLDER + 'datasets.zip'\n",
    "\n",
    "DATA_TRAIN_PATH = DATA_FOLDER + 'train.csv'\n",
    "DATA_TRAIN_PATH_CLEAN = DATA_FOLDER + 'train_clean.csv'\n",
    "DATA_TEST_PATH = DATA_FOLDER + 'test.csv' "
   ]
  },
  {
   "cell_type": "markdown",
   "metadata": {},
   "source": [
    "## Load the training data into feature matrix, class labels, and event ids:"
   ]
  },
  {
   "cell_type": "code",
   "execution_count": 27,
   "metadata": {
    "ExecuteTime": {
     "end_time": "2020-10-19T18:13:05.863706Z",
     "start_time": "2020-10-19T18:12:57.547494Z"
    }
   },
   "outputs": [
    {
     "name": "stdout",
     "output_type": "stream",
     "text": [
      "TODO: only remove outliers when max - min > threshold like 10\n",
      "    Doubt with DER_deltar_tau_lep and PRI_jet_all_pt\n"
     ]
    }
   ],
   "source": [
    "from proj1_helpers import *\n",
    "from split_data import *\n",
    "from data_processing import *\n",
    "\n",
    "y, tX, ids = load_csv_data(DATA_TRAIN_PATH)\n",
    "y_clean, tX_clean, ids_clean = clean_training(y, tX, ids)\n",
    "\n",
    "\n",
    "split_ratio = 0.8\n",
    "tX_train, tX_validation, y_train, y_validation = split_data(tX, y, split_ratio)\n",
    "tX_train_clean, tX_validation_clean, y_train_clean, y_validation_clean = split_data(tX_clean, y_clean, split_ratio)"
   ]
  },
  {
   "cell_type": "code",
   "execution_count": 28,
   "metadata": {
    "ExecuteTime": {
     "end_time": "2020-10-19T18:13:05.948036Z",
     "start_time": "2020-10-19T18:13:05.911840Z"
    }
   },
   "outputs": [
    {
     "name": "stdout",
     "output_type": "stream",
     "text": [
      "Raw set : \n",
      "               Training       Validation     \n",
      "Features       (200000, 30)   (50000, 30)    \n",
      "Labels         (200000,)      (50000,)       \n",
      "\n",
      "Clean set : \n",
      "               Training       Validation     \n",
      "Features       (35536, 29)    (8884, 29)     \n",
      "Labels         (35536,)       (8884,)        \n"
     ]
    }
   ],
   "source": [
    "print(\"Raw set : \")\n",
    "row_format = \"{:<15}\" * 3\n",
    "print(row_format.format(\"\", \"Training\", \"Validation\"))\n",
    "print(row_format.format(\"Features\", str(tX_train.shape), str(tX_validation.shape)))\n",
    "print(row_format.format(\"Labels\", str(y_train.shape), str(y_validation.shape)))\n",
    "\n",
    "print(\"\\nClean set : \")\n",
    "row_format = \"{:<15}\" * 3\n",
    "print(row_format.format(\"\", \"Training\", \"Validation\"))\n",
    "print(row_format.format(\"Features\", str(tX_train_clean.shape), str(tX_validation_clean.shape)))\n",
    "print(row_format.format(\"Labels\", str(y_train_clean.shape), str(y_validation_clean.shape)))"
   ]
  },
  {
   "cell_type": "markdown",
   "metadata": {},
   "source": [
    "## Testing every basic model on cleaned data"
   ]
  },
  {
   "cell_type": "code",
   "execution_count": 29,
   "metadata": {},
   "outputs": [],
   "source": [
    "from pipeline import *"
   ]
  },
  {
   "cell_type": "markdown",
   "metadata": {},
   "source": [
    "### (Stochastic) Gradient Descent"
   ]
  },
  {
   "cell_type": "code",
   "execution_count": 31,
   "metadata": {
    "ExecuteTime": {
     "end_time": "2020-10-19T18:13:07.053883Z",
     "start_time": "2020-10-19T18:13:05.953218Z"
    }
   },
   "outputs": [
    {
     "name": "stdout",
     "output_type": "stream",
     "text": [
      "GD Training loss : 0.34483741738725987\n",
      "GD Validation loss : 0.34342161403433336\n",
      "SGD Training loss : 0.34177970796002916\n",
      "SGD Validation loss : 0.3434787185463746\n"
     ]
    }
   ],
   "source": [
    "max_iters = 100\n",
    "gamma = 0.01\n",
    "initial_w = np.zeros(tX_train_clean.shape[1])\n",
    "\n",
    "loss_gd, weights_gd = model_data(y_train_clean, tX_train_clean, 'gradient_descent', \n",
    "                              initial_w=initial_w, max_iters=max_iters, gamma=gamma)\n",
    "loss_sgd, weights_sgd = model_data(y_train_clean, tX_train_clean, 'stochastic_gradient_descent',\n",
    "                                                initial_w=initial_w, max_iters=max_iters, gamma=gamma)\n",
    "# Not compared with the not cleaned set, because it needs normalizing to work\n",
    "print(\"GD Training loss : {}\".format(loss_gd))\n",
    "print(\"GD Validation loss : {}\".format(get_loss(y_validation_clean, tX_validation_clean, weights_gd)))\n",
    "print(\"SGD Training loss : {}\".format(loss_sgd))\n",
    "print(\"SGD Validation loss : {}\".format(get_loss(y_validation_clean, tX_validation_clean, weights_sgd)))"
   ]
  },
  {
   "cell_type": "markdown",
   "metadata": {},
   "source": [
    "### Least Squares"
   ]
  },
  {
   "cell_type": "code",
   "execution_count": 32,
   "metadata": {
    "ExecuteTime": {
     "end_time": "2020-10-19T18:13:07.160849Z",
     "start_time": "2020-10-19T18:13:07.100724Z"
    },
    "scrolled": true
   },
   "outputs": [
    {
     "name": "stdout",
     "output_type": "stream",
     "text": [
      "Training loss : 0.3394268495585329\n",
      "Validation loss : 0.3407678463202393\n",
      "Clean Training loss : 0.3357623766686237\n",
      "Clean Validation loss : 0.33477092497039646\n"
     ]
    }
   ],
   "source": [
    "weights, t_loss = model_data(y_train, tX_train, 'least_squares')\n",
    "weights_clean, t_loss_clean = model_data(y_train_clean, tX_train_clean, 'least_squares')\n",
    "\n",
    "print(\"Training loss : {}\".format(t_loss))\n",
    "print(\"Validation loss : {}\".format(get_loss(y_validation, tX_validation, weights)))\n",
    "print(\"Clean Training loss : {}\".format(t_loss_clean))\n",
    "print(\"Clean Validation loss : {}\".format(get_loss(y_validation_clean, tX_validation_clean, weights_clean)))"
   ]
  },
  {
   "cell_type": "markdown",
   "metadata": {},
   "source": [
    "### Ridge Regression"
   ]
  },
  {
   "cell_type": "code",
   "execution_count": 33,
   "metadata": {
    "ExecuteTime": {
     "end_time": "2020-10-19T18:13:07.270999Z",
     "start_time": "2020-10-19T18:13:07.210305Z"
    }
   },
   "outputs": [
    {
     "name": "stdout",
     "output_type": "stream",
     "text": [
      "Training loss : 0.3394307923454776\n",
      "Validation loss : 0.34075291469501606\n",
      "Clean Training loss : 0.339382825229168\n",
      "Clean Validation loss : 0.3382086297912849\n"
     ]
    }
   ],
   "source": [
    "lambda_ = 1\n",
    "\n",
    "weights, t_loss = model_data(y_train, tX_train, 'ridge_regression')\n",
    "weights_clean, t_loss_clean = model_data(y_train_clean, tX_train_clean, 'ridge_regression')\n",
    "\n",
    "print(\"Training loss : {}\".format(t_loss))\n",
    "print(\"Validation loss : {}\".format(get_loss(y_validation, tX_validation, weights)))\n",
    "print(\"Clean Training loss : {}\".format(t_loss_clean))\n",
    "print(\"Clean Validation loss : {}\".format(get_loss(y_validation_clean, tX_validation_clean, weights_clean)))"
   ]
  },
  {
   "cell_type": "markdown",
   "metadata": {},
   "source": [
    "### (Penalized) Logistic Regression"
   ]
  },
  {
   "cell_type": "code",
   "execution_count": 43,
   "metadata": {
    "ExecuteTime": {
     "end_time": "2020-10-19T18:13:11.383596Z",
     "start_time": "2020-10-19T18:13:07.316392Z"
    }
   },
   "outputs": [
    {
     "name": "stdout",
     "output_type": "stream",
     "text": [
      "Loss iteration 0 : 0.6931471805599454\n",
      "Loss iteration 10 : 0.6121541577800205\n",
      "Loss iteration 20 : 0.5714140668567727\n",
      "Loss iteration 30 : 0.5680319905079382\n",
      "Loss iteration 40 : 0.552866994997688\n",
      "Loss iteration 50 : 0.5364454721121777\n",
      "Loss iteration 60 : 0.5173986797126201\n",
      "Loss iteration 70 : 0.5419424567815786\n",
      "Loss iteration 80 : 0.5340840895766843\n",
      "Loss iteration 90 : 0.5116140201286051\n",
      "Loss iteration 100 : 0.5129195681826513\n",
      "Loss iteration 110 : 0.521962869896383\n",
      "Loss iteration 120 : 0.513112280664071\n",
      "Loss iteration 130 : 0.51627839940326\n",
      "Loss iteration 140 : 0.49278750671297383\n",
      "Loss iteration 150 : 0.49984882809781456\n",
      "Loss iteration 160 : 0.5027763479641189\n",
      "Loss iteration 170 : 0.49566712253110184\n",
      "Loss iteration 180 : 0.511815494613356\n",
      "Loss iteration 190 : 0.4838054655245143\n",
      "Loss iteration 200 : 0.4948972245236529\n",
      "Loss iteration 210 : 0.5133422360548738\n",
      "Loss iteration 220 : 0.49586842321791863\n",
      "Loss iteration 230 : 0.502072854324075\n",
      "Loss iteration 240 : 0.5235567903325151\n",
      "Loss iteration 250 : 0.5027475797825045\n",
      "Loss iteration 260 : 0.4910013194268392\n",
      "Loss iteration 270 : 0.4970044765260387\n",
      "Loss iteration 280 : 0.5079234237626021\n",
      "Loss iteration 290 : 0.4893991036587009\n",
      "Loss iteration 300 : 0.5075947623939685\n",
      "Loss iteration 310 : 0.4880821792419148\n",
      "Loss iteration 320 : 0.5045262430902738\n",
      "Loss iteration 330 : 0.49263154661914604\n",
      "Loss iteration 340 : 0.5074573341482479\n",
      "Loss iteration 350 : 0.5158232462734483\n",
      "Loss iteration 360 : 0.4775310608536058\n",
      "Loss iteration 370 : 0.496524454474058\n",
      "Loss iteration 380 : 0.5055554931934509\n",
      "Loss iteration 390 : 0.5020039068342561\n",
      "Loss iteration 400 : 0.4706391046580917\n",
      "Loss iteration 410 : 0.45519500024489024\n",
      "Loss iteration 420 : 0.5108803427402561\n",
      "Loss iteration 430 : 0.4773574733178188\n",
      "Loss iteration 440 : 0.48990728387667387\n",
      "Loss iteration 450 : 0.5144357245674364\n",
      "Loss iteration 460 : 0.4914508551611505\n",
      "Loss iteration 470 : 0.5066322449906945\n",
      "Loss iteration 480 : 0.49873619999781316\n",
      "Loss iteration 490 : 0.48461795051379236\n",
      "Loss iteration 0 : 0.6931471805599454\n",
      "Loss iteration 10 : 0.621811675847415\n",
      "Loss iteration 20 : 0.5855186332642367\n",
      "Loss iteration 30 : 0.5633782379566774\n",
      "Loss iteration 40 : 0.5543156588508411\n",
      "Loss iteration 50 : 0.5442772742319045\n",
      "Loss iteration 60 : 0.5601553772483273\n",
      "Loss iteration 70 : 0.5635375153781211\n",
      "Loss iteration 80 : 0.5367634429093876\n",
      "Loss iteration 90 : 0.5490104095451515\n",
      "Loss iteration 100 : 0.5564984935645324\n",
      "Loss iteration 110 : 0.5452503555666759\n",
      "Loss iteration 120 : 0.5240145636853338\n",
      "Loss iteration 130 : 0.5471984114778635\n",
      "Loss iteration 140 : 0.5561669410431751\n",
      "Loss iteration 150 : 0.5436942075748564\n",
      "Loss iteration 160 : 0.5425003092927909\n",
      "Loss iteration 170 : 0.5449060184665022\n",
      "Loss iteration 180 : 0.5386080379750501\n",
      "Loss iteration 190 : 0.5472792122507444\n",
      "Loss iteration 200 : 0.542748611991536\n",
      "Loss iteration 210 : 0.5517544044510362\n",
      "Loss iteration 220 : 0.556747047320933\n",
      "Loss iteration 230 : 0.5408656481926349\n",
      "Loss iteration 240 : 0.5354792224159741\n",
      "Loss iteration 250 : 0.5470368827267852\n",
      "Loss iteration 260 : 0.5375184975535975\n",
      "Loss iteration 270 : 0.5492117972615111\n",
      "Loss iteration 280 : 0.5473691865083992\n",
      "Loss iteration 290 : 0.5530634135489789\n",
      "Loss iteration 300 : 0.5351868265260304\n",
      "Loss iteration 310 : 0.5374118474276011\n",
      "Loss iteration 320 : 0.5562750438969215\n",
      "Loss iteration 330 : 0.5199740536208421\n",
      "Loss iteration 340 : 0.5552303679513225\n",
      "Loss iteration 350 : 0.5518507735859531\n",
      "Loss iteration 360 : 0.5705467721121996\n",
      "Loss iteration 370 : 0.5498676214554725\n",
      "Loss iteration 380 : 0.5355306247509672\n",
      "Loss iteration 390 : 0.5312679312239104\n",
      "Loss iteration 400 : 0.5484954015888013\n",
      "Loss iteration 410 : 0.5537252672074785\n",
      "Loss iteration 420 : 0.5162466200452991\n",
      "Loss iteration 430 : 0.5582723764241859\n",
      "Loss iteration 440 : 0.5284953870389254\n",
      "Loss iteration 450 : 0.515369881679688\n",
      "Loss iteration 460 : 0.5549058450465264\n",
      "Loss iteration 470 : 0.5475305964539625\n",
      "Loss iteration 480 : 0.5459503535792745\n",
      "Loss iteration 490 : 0.5465685307487285\n",
      "Training loss : 0.4818337267825727\n",
      "Validation loss : 0.4971237667962391\n",
      "Penalized Training loss : 0.5152898439215807\n",
      "Penalized Validation loss : 0.5129523482031831\n"
     ]
    }
   ],
   "source": [
    "max_iters = 500\n",
    "gamma = 0.05\n",
    "lambda_ = 0.1\n",
    "\n",
    "weights_log, loss_log = model_data(y_train_clean, tX_train_clean, 'logistic_regression', \n",
    "                                   max_iters=max_iters, gamma=gamma) \n",
    "weights_p_log, loss_p_log = model_data(y_train_clean, tX_train_clean, 'regularized_logistic_regression', \n",
    "                                   max_iters=max_iters, gamma=gamma, lambda_=lambda_) \n",
    "\n",
    "\n",
    "print(\"Training loss : {}\".format(loss_log))\n",
    "print(\"Validation loss : {}\".format(get_log_likelihood(y_validation_clean, tX_validation_clean, weights_log)))\n",
    "print(\"Penalized Training loss : {}\".format(loss_p_log))\n",
    "print(\"Penalized Validation loss : {}\".format(get_log_likelihood(y_validation_clean, tX_validation_clean, weights_p_log)))"
   ]
  },
  {
   "cell_type": "markdown",
   "metadata": {},
   "source": [
    "## Generate predictions and save ouput in csv format for submission:"
   ]
  },
  {
   "cell_type": "code",
   "execution_count": 112,
   "metadata": {
    "ExecuteTime": {
     "end_time": "2020-10-19T18:14:30.576758Z",
     "start_time": "2020-10-19T18:14:07.765805Z"
    }
   },
   "outputs": [
    {
     "name": "stdout",
     "output_type": "stream",
     "text": [
      "[-1. -1.  1. ...  1.  1.  1.]\n"
     ]
    }
   ],
   "source": [
    "#This enable to run all cells without running this one when unnecessary\n",
    "if False :\n",
    "    y_test, tX_test, ids_test = load_csv_data(DATA_TEST_PATH)\n",
    "    y_test_clean, tX_test_clean, ids_test_clean = clean_test(y_test, tX_test, ids_test)\n",
    "    OUTPUT_PATH = DATA_FOLDER + 'submission.csv' \n",
    "    if True: ## Only for logistic regression, will de something nice later\n",
    "        y_pred = predict_labels_logistic(weights_clean, tX_test_clean_poly)\n",
    "    else:\n",
    "        y_pred = predict_labels(weights_clean, tX_test_clean)\n",
    "    print(y_pred)\n",
    "    create_csv_submission(ids_test_clean, y_pred, OUTPUT_PATH)\n",
    "else :\n",
    "    print(\"Change False to True to generate prediction\")"
   ]
  },
  {
   "cell_type": "code",
   "execution_count": null,
   "metadata": {},
   "outputs": [],
   "source": []
  }
 ],
 "metadata": {
  "anaconda-cloud": {},
  "kernelspec": {
   "display_name": "Python 3",
   "language": "python",
   "name": "python3"
  },
  "language_info": {
   "codemirror_mode": {
    "name": "ipython",
    "version": 3
   },
   "file_extension": ".py",
   "mimetype": "text/x-python",
   "name": "python",
   "nbconvert_exporter": "python",
   "pygments_lexer": "ipython3",
   "version": "3.8.2"
  },
  "toc": {
   "base_numbering": 1,
   "nav_menu": {},
   "number_sections": true,
   "sideBar": true,
   "skip_h1_title": false,
   "title_cell": "Table of Contents",
   "title_sidebar": "Contents",
   "toc_cell": false,
   "toc_position": {},
   "toc_section_display": true,
   "toc_window_display": false
  }
 },
 "nbformat": 4,
 "nbformat_minor": 4
}
